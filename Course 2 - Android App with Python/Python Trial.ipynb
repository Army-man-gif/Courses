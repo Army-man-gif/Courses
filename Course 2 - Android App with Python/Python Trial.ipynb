{
 "cells": [
  {
   "cell_type": "code",
   "execution_count": 11,
   "id": "a6386c0b",
   "metadata": {},
   "outputs": [
    {
     "name": "stdout",
     "output_type": "stream",
     "text": [
      "This is spartaaaaa\n"
     ]
    }
   ],
   "source": [
    "print(\"This is spartaaaaa\")"
   ]
  },
  {
   "cell_type": "code",
   "execution_count": 12,
   "id": "5a08fed2",
   "metadata": {},
   "outputs": [],
   "source": [
    "student=\"Sam\""
   ]
  },
  {
   "cell_type": "code",
   "execution_count": 13,
   "id": "e83df74a",
   "metadata": {},
   "outputs": [
    {
     "data": {
      "text/plain": [
       "'Sam'"
      ]
     },
     "execution_count": 13,
     "metadata": {},
     "output_type": "execute_result"
    }
   ],
   "source": [
    "student"
   ]
  },
  {
   "cell_type": "code",
   "execution_count": 14,
   "id": "0b0936ca",
   "metadata": {},
   "outputs": [],
   "source": [
    "student=\"Matt\""
   ]
  },
  {
   "cell_type": "code",
   "execution_count": 15,
   "id": "10db2eef",
   "metadata": {},
   "outputs": [
    {
     "data": {
      "text/plain": [
       "'Matt'"
      ]
     },
     "execution_count": 15,
     "metadata": {},
     "output_type": "execute_result"
    }
   ],
   "source": [
    "student"
   ]
  },
  {
   "cell_type": "code",
   "execution_count": 16,
   "id": "90234da6",
   "metadata": {},
   "outputs": [],
   "source": [
    "student=\"Bob\""
   ]
  },
  {
   "cell_type": "code",
   "execution_count": 17,
   "id": "26b57600",
   "metadata": {},
   "outputs": [
    {
     "data": {
      "text/plain": [
       "'Bob'"
      ]
     },
     "execution_count": 17,
     "metadata": {},
     "output_type": "execute_result"
    }
   ],
   "source": [
    "student"
   ]
  }
 ],
 "metadata": {
  "kernelspec": {
   "display_name": "Python 3",
   "language": "python",
   "name": "python3"
  },
  "language_info": {
   "codemirror_mode": {
    "name": "ipython",
    "version": 3
   },
   "file_extension": ".py",
   "mimetype": "text/x-python",
   "name": "python",
   "nbconvert_exporter": "python",
   "pygments_lexer": "ipython3",
   "version": "3.12.7"
  }
 },
 "nbformat": 4,
 "nbformat_minor": 5
}
