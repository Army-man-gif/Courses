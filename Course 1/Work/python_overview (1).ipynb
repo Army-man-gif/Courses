{
 "cells": [
  {
   "cell_type": "markdown",
   "metadata": {},
   "source": [
    "[Basic Data Exploration](#basic-explor)\n",
    "\n",
    "[Bivariate analysis](#bivar)"
   ]
  },
  {
   "cell_type": "markdown",
   "metadata": {},
   "source": [
    "## Course Structure\n",
    "\n",
    "1. Module 0 - Native Data Types in Python\n",
    "2. Module 1 - Intro to Pandas library & Basis Dataframe attributes\n",
    "3. Module 2 - Common Data manipulation tasks using Pandas\n",
    "4. Module 3 - Loops and Functions \n",
    "5. Module 4 - Visualization\n",
    "6. Module 5 - Other miscellaneous topics"
   ]
  },
  {
   "cell_type": "markdown",
   "metadata": {},
   "source": [
    "# Basic data types"
   ]
  },
  {
   "cell_type": "code",
   "execution_count": 459,
   "metadata": {
    "collapsed": true
   },
   "outputs": [],
   "source": [
    "from IPython.core.interactiveshell import InteractiveShell\n",
    "InteractiveShell.ast_node_interactivity = \"all\""
   ]
  },
  {
   "cell_type": "code",
   "execution_count": 460,
   "metadata": {},
   "outputs": [
    {
     "name": "stdout",
     "output_type": "stream",
     "text": [
      "Excludes first element: \n"
     ]
    },
    {
     "data": {
      "text/plain": [
       "[30, 40, 50, 60, 70]"
      ]
     },
     "execution_count": 460,
     "metadata": {},
     "output_type": "execute_result"
    },
    {
     "name": "stdout",
     "output_type": "stream",
     "text": [
      "Excludes last element: \n"
     ]
    },
    {
     "data": {
      "text/plain": [
       "[20, 30, 40, 50, 60]"
      ]
     },
     "execution_count": 460,
     "metadata": {},
     "output_type": "execute_result"
    },
    {
     "name": "stdout",
     "output_type": "stream",
     "text": [
      "Outputs in reverse order: \n"
     ]
    },
    {
     "data": {
      "text/plain": [
       "[70, 60, 50, 40, 30, 20]"
      ]
     },
     "execution_count": 460,
     "metadata": {},
     "output_type": "execute_result"
    }
   ],
   "source": [
    "# List, Dictionary, Tuple\n",
    "mylist = [20,30,40,50,60,70]\n",
    "print(\"Excludes first element: \")\n",
    "mylist[1:]\n",
    "print(\"Excludes last element: \")\n",
    "mylist[:-1]\n",
    "print(\"Outputs in reverse order: \")\n",
    "mylist[::-1]"
   ]
  },
  {
   "cell_type": "code",
   "execution_count": 461,
   "metadata": {
    "collapsed": true
   },
   "outputs": [],
   "source": [
    "x = [1,\"b\",3]"
   ]
  },
  {
   "cell_type": "code",
   "execution_count": 462,
   "metadata": {},
   "outputs": [
    {
     "data": {
      "text/plain": [
       "'b'"
      ]
     },
     "execution_count": 462,
     "metadata": {},
     "output_type": "execute_result"
    }
   ],
   "source": [
    "x[1]"
   ]
  },
  {
   "cell_type": "code",
   "execution_count": 463,
   "metadata": {},
   "outputs": [
    {
     "data": {
      "text/plain": [
       "'My number'"
      ]
     },
     "execution_count": 463,
     "metadata": {},
     "output_type": "execute_result"
    },
    {
     "data": {
      "text/plain": [
       "dict_keys(['Raghu', 'You', 3])"
      ]
     },
     "execution_count": 463,
     "metadata": {},
     "output_type": "execute_result"
    },
    {
     "data": {
      "text/plain": [
       "dict_values(['Trainer', 'participants', 'My number'])"
      ]
     },
     "execution_count": 463,
     "metadata": {},
     "output_type": "execute_result"
    },
    {
     "data": {
      "text/plain": [
       "'Trainer'"
      ]
     },
     "execution_count": 463,
     "metadata": {},
     "output_type": "execute_result"
    }
   ],
   "source": [
    "dict = {\"Raghu\":\"Trainer\",\"You\":\"participants\",3:\"My number\"}\n",
    "dict[3]\n",
    "dict.keys()\n",
    "dict.values()\n",
    "dict[list(dict.keys())[0]]"
   ]
  },
  {
   "cell_type": "code",
   "execution_count": 464,
   "metadata": {},
   "outputs": [
    {
     "data": {
      "text/plain": [
       "'GOOGLE'"
      ]
     },
     "execution_count": 464,
     "metadata": {},
     "output_type": "execute_result"
    }
   ],
   "source": [
    "students = {\"s_1\":[\"IBM\"],\"s_2\":[\"INFY\",\"WIPRO\",\"GOOGLE\"]}\n",
    "students[\"s_2\"][2]\n"
   ]
  },
  {
   "cell_type": "code",
   "execution_count": 465,
   "metadata": {
    "collapsed": true
   },
   "outputs": [],
   "source": [
    "student_dict = {\"s_1\":[\"IBM\",\"TCS\"],\"s_2\" :[\"HP\"], \"s_3\":[\"INFOSYS\",\"WIPRO\"]}"
   ]
  },
  {
   "cell_type": "code",
   "execution_count": 466,
   "metadata": {},
   "outputs": [
    {
     "data": {
      "text/plain": [
       "[['IBM', 'TCS'], ['HP'], ['INFOSYS', 'WIPRO']]"
      ]
     },
     "execution_count": 466,
     "metadata": {},
     "output_type": "execute_result"
    }
   ],
   "source": [
    "[val for k,val in student_dict.items()]"
   ]
  },
  {
   "cell_type": "code",
   "execution_count": 467,
   "metadata": {
    "collapsed": true
   },
   "outputs": [],
   "source": [
    "x = [\"abe\",1,\"c\"]"
   ]
  },
  {
   "cell_type": "code",
   "execution_count": 468,
   "metadata": {
    "collapsed": true
   },
   "outputs": [],
   "source": [
    "dist_ex = {\"S1\":[\"HCL\",\"TCS\"],\"S2\":[\"Benz\"]}"
   ]
  },
  {
   "cell_type": "code",
   "execution_count": 469,
   "metadata": {},
   "outputs": [
    {
     "name": "stdout",
     "output_type": "stream",
     "text": [
      "S1\n"
     ]
    }
   ],
   "source": [
    "for k,v in dist_ex.items():\n",
    "    if k == \"S1\":\n",
    "        print(k)"
   ]
  },
  {
   "cell_type": "code",
   "execution_count": 470,
   "metadata": {
    "collapsed": true
   },
   "outputs": [],
   "source": [
    "x.append(\"h\")"
   ]
  },
  {
   "cell_type": "code",
   "execution_count": 471,
   "metadata": {},
   "outputs": [
    {
     "data": {
      "text/plain": [
       "['abe', 1, 'c', 'h']"
      ]
     },
     "execution_count": 471,
     "metadata": {},
     "output_type": "execute_result"
    }
   ],
   "source": [
    "x"
   ]
  },
  {
   "cell_type": "code",
   "execution_count": 472,
   "metadata": {
    "collapsed": true
   },
   "outputs": [
    {
     "data": {
      "text/plain": [
       "[1, 2, 3, 4, 5, 7, 1, 2, 3, 1]"
      ]
     },
     "execution_count": 472,
     "metadata": {},
     "output_type": "execute_result"
    }
   ],
   "source": [
    "tup_ex = (1,2,3,1)\n",
    "mylist = [1,2,3,4,5]\n",
    "mylist.append(7)\n",
    "for i in tup_ex: mylist.append(i) \n",
    "mylist"
   ]
  },
  {
   "cell_type": "code",
   "execution_count": 473,
   "metadata": {
    "collapsed": true
   },
   "outputs": [
    {
     "name": "stdout",
     "output_type": "stream",
     "text": [
      "Defaulting to user installation because normal site-packages is not writeable\n",
      "Requirement already satisfied: pandas in c:\\programdata\\anaconda3\\lib\\site-packages (2.2.2)\n",
      "Requirement already satisfied: numpy>=1.26.0 in c:\\programdata\\anaconda3\\lib\\site-packages (from pandas) (1.26.4)\n",
      "Requirement already satisfied: python-dateutil>=2.8.2 in c:\\programdata\\anaconda3\\lib\\site-packages (from pandas) (2.9.0.post0)\n",
      "Requirement already satisfied: pytz>=2020.1 in c:\\programdata\\anaconda3\\lib\\site-packages (from pandas) (2024.1)\n",
      "Requirement already satisfied: tzdata>=2022.7 in c:\\programdata\\anaconda3\\lib\\site-packages (from pandas) (2023.3)\n",
      "Requirement already satisfied: six>=1.5 in c:\\programdata\\anaconda3\\lib\\site-packages (from python-dateutil>=2.8.2->pandas) (1.16.0)\n"
     ]
    }
   ],
   "source": [
    "!pip install pandas"
   ]
  },
  {
   "cell_type": "code",
   "execution_count": 474,
   "metadata": {
    "collapsed": true
   },
   "outputs": [],
   "source": [
    "list_ex = [1,2,3]\n",
    "dist_ex = {\"Age\":25,\"Weight\":70}\n",
    "tup_ex = (1,2,3,1)"
   ]
  },
  {
   "cell_type": "markdown",
   "metadata": {},
   "source": [
    "## Imports the package that gives the ability to manipulate CSV files"
   ]
  },
  {
   "cell_type": "code",
   "execution_count": 475,
   "metadata": {
    "collapsed": true
   },
   "outputs": [],
   "source": [
    "from pandas import read_csv"
   ]
  },
  {
   "cell_type": "markdown",
   "metadata": {},
   "source": [
    "## Reads data"
   ]
  },
  {
   "cell_type": "code",
   "execution_count": 476,
   "metadata": {
    "collapsed": true
   },
   "outputs": [],
   "source": [
    "# read the data\n",
    "import pandas as pd\n",
    "df = pd.read_csv(r\"C:\\Users\\khait\\Downloads\\Courses\\Course 1\\Resources\\customers-10000.csv\")"
   ]
  },
  {
   "cell_type": "markdown",
   "metadata": {},
   "source": [
    "## Show data type of dataframe"
   ]
  },
  {
   "cell_type": "code",
   "execution_count": 477,
   "metadata": {},
   "outputs": [
    {
     "data": {
      "text/plain": [
       "pandas.core.frame.DataFrame"
      ]
     },
     "execution_count": 477,
     "metadata": {},
     "output_type": "execute_result"
    }
   ],
   "source": [
    "type(df)"
   ]
  },
  {
   "cell_type": "markdown",
   "metadata": {},
   "source": [
    "## Shows data"
   ]
  },
  {
   "cell_type": "code",
   "execution_count": 478,
   "metadata": {
    "collapsed": true
   },
   "outputs": [
    {
     "data": {
      "text/html": [
       "<div>\n",
       "<style scoped>\n",
       "    .dataframe tbody tr th:only-of-type {\n",
       "        vertical-align: middle;\n",
       "    }\n",
       "\n",
       "    .dataframe tbody tr th {\n",
       "        vertical-align: top;\n",
       "    }\n",
       "\n",
       "    .dataframe thead th {\n",
       "        text-align: right;\n",
       "    }\n",
       "</style>\n",
       "<table border=\"1\" class=\"dataframe\">\n",
       "  <thead>\n",
       "    <tr style=\"text-align: right;\">\n",
       "      <th></th>\n",
       "      <th>Index</th>\n",
       "      <th>Customer Id</th>\n",
       "      <th>First Name</th>\n",
       "      <th>Last Name</th>\n",
       "      <th>Company</th>\n",
       "      <th>City</th>\n",
       "      <th>Country</th>\n",
       "      <th>Phone 1</th>\n",
       "      <th>Phone 2</th>\n",
       "      <th>Email</th>\n",
       "      <th>Subscription Date</th>\n",
       "      <th>Website</th>\n",
       "    </tr>\n",
       "  </thead>\n",
       "  <tbody>\n",
       "    <tr>\n",
       "      <th>0</th>\n",
       "      <td>1</td>\n",
       "      <td>EB54EF1154C3A78</td>\n",
       "      <td>Heather</td>\n",
       "      <td>Callahan</td>\n",
       "      <td>Mosley-David</td>\n",
       "      <td>Lake Jeffborough</td>\n",
       "      <td>Norway</td>\n",
       "      <td>043-797-5229</td>\n",
       "      <td>915.112.1727</td>\n",
       "      <td>urangel@espinoza-francis.net</td>\n",
       "      <td>2020-08-26</td>\n",
       "      <td>http://www.escobar.org/</td>\n",
       "    </tr>\n",
       "    <tr>\n",
       "      <th>1</th>\n",
       "      <td>2</td>\n",
       "      <td>10dAcafEBbA5FcA</td>\n",
       "      <td>Kristina</td>\n",
       "      <td>Ferrell</td>\n",
       "      <td>Horn, Shepard and Watson</td>\n",
       "      <td>Aaronville</td>\n",
       "      <td>Andorra</td>\n",
       "      <td>932-062-1802</td>\n",
       "      <td>(209)172-7124x3651</td>\n",
       "      <td>xreese@hall-donovan.com</td>\n",
       "      <td>2020-04-27</td>\n",
       "      <td>https://tyler-pugh.info/</td>\n",
       "    </tr>\n",
       "    <tr>\n",
       "      <th>2</th>\n",
       "      <td>3</td>\n",
       "      <td>67DAB15Ebe4BE4a</td>\n",
       "      <td>Briana</td>\n",
       "      <td>Andersen</td>\n",
       "      <td>Irwin-Oneal</td>\n",
       "      <td>East Jordan</td>\n",
       "      <td>Nepal</td>\n",
       "      <td>8352752061</td>\n",
       "      <td>(567)135-1918</td>\n",
       "      <td>haleybraun@blevins-sexton.com</td>\n",
       "      <td>2022-03-22</td>\n",
       "      <td>https://www.mack-bell.net/</td>\n",
       "    </tr>\n",
       "    <tr>\n",
       "      <th>3</th>\n",
       "      <td>4</td>\n",
       "      <td>6d350C5E5eDB4EE</td>\n",
       "      <td>Patty</td>\n",
       "      <td>Ponce</td>\n",
       "      <td>Richardson Group</td>\n",
       "      <td>East Kristintown</td>\n",
       "      <td>Northern Mariana Islands</td>\n",
       "      <td>302.398.3833</td>\n",
       "      <td>196-189-7767x770</td>\n",
       "      <td>hohailey@anthony.com</td>\n",
       "      <td>2020-07-02</td>\n",
       "      <td>https://delacruz-freeman.org/</td>\n",
       "    </tr>\n",
       "    <tr>\n",
       "      <th>4</th>\n",
       "      <td>5</td>\n",
       "      <td>5820deAdCF23EFe</td>\n",
       "      <td>Kathleen</td>\n",
       "      <td>Mccormick</td>\n",
       "      <td>Carson-Burch</td>\n",
       "      <td>Andresmouth</td>\n",
       "      <td>Macao</td>\n",
       "      <td>001-184-153-9683x1497</td>\n",
       "      <td>552.051.2979x342</td>\n",
       "      <td>alvaradojesse@rangel-shields.com</td>\n",
       "      <td>2021-01-17</td>\n",
       "      <td>https://welch.info/</td>\n",
       "    </tr>\n",
       "    <tr>\n",
       "      <th>...</th>\n",
       "      <td>...</td>\n",
       "      <td>...</td>\n",
       "      <td>...</td>\n",
       "      <td>...</td>\n",
       "      <td>...</td>\n",
       "      <td>...</td>\n",
       "      <td>...</td>\n",
       "      <td>...</td>\n",
       "      <td>...</td>\n",
       "      <td>...</td>\n",
       "      <td>...</td>\n",
       "      <td>...</td>\n",
       "    </tr>\n",
       "    <tr>\n",
       "      <th>9995</th>\n",
       "      <td>9996</td>\n",
       "      <td>DD0caa06ebf217c</td>\n",
       "      <td>Meghan</td>\n",
       "      <td>Cline</td>\n",
       "      <td>Richardson LLC</td>\n",
       "      <td>Petersport</td>\n",
       "      <td>Cote d'Ivoire</td>\n",
       "      <td>001-270-136-4738x419</td>\n",
       "      <td>001-349-692-1755x055</td>\n",
       "      <td>nicolasandrade@bates.info</td>\n",
       "      <td>2022-04-27</td>\n",
       "      <td>http://thomas-ramos.com/</td>\n",
       "    </tr>\n",
       "    <tr>\n",
       "      <th>9996</th>\n",
       "      <td>9997</td>\n",
       "      <td>C1C62ff90D0AfED</td>\n",
       "      <td>Jeremiah</td>\n",
       "      <td>Pena</td>\n",
       "      <td>Hodge-Nixon</td>\n",
       "      <td>Briggsport</td>\n",
       "      <td>Namibia</td>\n",
       "      <td>+1-531-494-7645x4844</td>\n",
       "      <td>001-295-324-5502x5411</td>\n",
       "      <td>tracy68@wade.com</td>\n",
       "      <td>2022-01-17</td>\n",
       "      <td>https://www.campbell.com/</td>\n",
       "    </tr>\n",
       "    <tr>\n",
       "      <th>9997</th>\n",
       "      <td>9998</td>\n",
       "      <td>2EfAa6Fe435A7DA</td>\n",
       "      <td>Peggy</td>\n",
       "      <td>Key</td>\n",
       "      <td>Vang LLC</td>\n",
       "      <td>West Joyceport</td>\n",
       "      <td>United States Virgin Islands</td>\n",
       "      <td>520.109.2482x26052</td>\n",
       "      <td>+1-602-934-5901x95106</td>\n",
       "      <td>mclaughlinjulia@barnett-dorsey.com</td>\n",
       "      <td>2022-01-13</td>\n",
       "      <td>http://www.george-scott.com/</td>\n",
       "    </tr>\n",
       "    <tr>\n",
       "      <th>9998</th>\n",
       "      <td>9999</td>\n",
       "      <td>5dB06C3Fab5CCCb</td>\n",
       "      <td>Evan</td>\n",
       "      <td>Humphrey</td>\n",
       "      <td>Gould Ltd</td>\n",
       "      <td>Camachochester</td>\n",
       "      <td>Niger</td>\n",
       "      <td>001-465-242-9979</td>\n",
       "      <td>001-639-955-2116x751</td>\n",
       "      <td>velazquezjessica@villegas-wilcox.com</td>\n",
       "      <td>2020-04-14</td>\n",
       "      <td>https://www.payne.info/</td>\n",
       "    </tr>\n",
       "    <tr>\n",
       "      <th>9999</th>\n",
       "      <td>10000</td>\n",
       "      <td>9903e8fF4D8Ff0F</td>\n",
       "      <td>Melissa</td>\n",
       "      <td>Montgomery</td>\n",
       "      <td>Burns-Holden</td>\n",
       "      <td>Sparkstown</td>\n",
       "      <td>Tunisia</td>\n",
       "      <td>+1-889-682-9490x65400</td>\n",
       "      <td>423.632.2539x98740</td>\n",
       "      <td>ngallagher@martinez.com</td>\n",
       "      <td>2020-06-27</td>\n",
       "      <td>http://nixon.net/</td>\n",
       "    </tr>\n",
       "  </tbody>\n",
       "</table>\n",
       "<p>10000 rows × 12 columns</p>\n",
       "</div>"
      ],
      "text/plain": [
       "      Index      Customer Id First Name   Last Name                   Company  \\\n",
       "0         1  EB54EF1154C3A78    Heather    Callahan              Mosley-David   \n",
       "1         2  10dAcafEBbA5FcA   Kristina     Ferrell  Horn, Shepard and Watson   \n",
       "2         3  67DAB15Ebe4BE4a     Briana    Andersen               Irwin-Oneal   \n",
       "3         4  6d350C5E5eDB4EE      Patty       Ponce          Richardson Group   \n",
       "4         5  5820deAdCF23EFe   Kathleen   Mccormick              Carson-Burch   \n",
       "...     ...              ...        ...         ...                       ...   \n",
       "9995   9996  DD0caa06ebf217c     Meghan       Cline            Richardson LLC   \n",
       "9996   9997  C1C62ff90D0AfED   Jeremiah        Pena               Hodge-Nixon   \n",
       "9997   9998  2EfAa6Fe435A7DA      Peggy         Key                  Vang LLC   \n",
       "9998   9999  5dB06C3Fab5CCCb       Evan    Humphrey                 Gould Ltd   \n",
       "9999  10000  9903e8fF4D8Ff0F    Melissa  Montgomery              Burns-Holden   \n",
       "\n",
       "                  City                       Country                Phone 1  \\\n",
       "0     Lake Jeffborough                        Norway           043-797-5229   \n",
       "1           Aaronville                       Andorra           932-062-1802   \n",
       "2          East Jordan                         Nepal             8352752061   \n",
       "3     East Kristintown      Northern Mariana Islands           302.398.3833   \n",
       "4          Andresmouth                         Macao  001-184-153-9683x1497   \n",
       "...                ...                           ...                    ...   \n",
       "9995        Petersport                 Cote d'Ivoire   001-270-136-4738x419   \n",
       "9996        Briggsport                       Namibia   +1-531-494-7645x4844   \n",
       "9997    West Joyceport  United States Virgin Islands     520.109.2482x26052   \n",
       "9998    Camachochester                         Niger       001-465-242-9979   \n",
       "9999        Sparkstown                       Tunisia  +1-889-682-9490x65400   \n",
       "\n",
       "                    Phone 2                                 Email  \\\n",
       "0              915.112.1727          urangel@espinoza-francis.net   \n",
       "1        (209)172-7124x3651               xreese@hall-donovan.com   \n",
       "2             (567)135-1918         haleybraun@blevins-sexton.com   \n",
       "3          196-189-7767x770                  hohailey@anthony.com   \n",
       "4          552.051.2979x342      alvaradojesse@rangel-shields.com   \n",
       "...                     ...                                   ...   \n",
       "9995   001-349-692-1755x055             nicolasandrade@bates.info   \n",
       "9996  001-295-324-5502x5411                      tracy68@wade.com   \n",
       "9997  +1-602-934-5901x95106    mclaughlinjulia@barnett-dorsey.com   \n",
       "9998   001-639-955-2116x751  velazquezjessica@villegas-wilcox.com   \n",
       "9999     423.632.2539x98740               ngallagher@martinez.com   \n",
       "\n",
       "     Subscription Date                        Website  \n",
       "0           2020-08-26        http://www.escobar.org/  \n",
       "1           2020-04-27       https://tyler-pugh.info/  \n",
       "2           2022-03-22     https://www.mack-bell.net/  \n",
       "3           2020-07-02  https://delacruz-freeman.org/  \n",
       "4           2021-01-17            https://welch.info/  \n",
       "...                ...                            ...  \n",
       "9995        2022-04-27       http://thomas-ramos.com/  \n",
       "9996        2022-01-17      https://www.campbell.com/  \n",
       "9997        2022-01-13   http://www.george-scott.com/  \n",
       "9998        2020-04-14        https://www.payne.info/  \n",
       "9999        2020-06-27              http://nixon.net/  \n",
       "\n",
       "[10000 rows x 12 columns]"
      ]
     },
     "execution_count": 478,
     "metadata": {},
     "output_type": "execute_result"
    }
   ],
   "source": [
    "df"
   ]
  },
  {
   "cell_type": "markdown",
   "metadata": {},
   "source": [
    "# Key Modules\n",
    "\n",
    "1. Basic Dataframe operations\n",
    "2. Common data manipulation tasks\n",
    "3. Loops and Functions"
   ]
  },
  {
   "cell_type": "markdown",
   "metadata": {},
   "source": [
    "## Basic dataframe operations"
   ]
  },
  {
   "cell_type": "markdown",
   "metadata": {},
   "source": [
    "## Shows first 5 lines of data"
   ]
  },
  {
   "cell_type": "code",
   "execution_count": 479,
   "metadata": {},
   "outputs": [
    {
     "data": {
      "text/html": [
       "<div>\n",
       "<style scoped>\n",
       "    .dataframe tbody tr th:only-of-type {\n",
       "        vertical-align: middle;\n",
       "    }\n",
       "\n",
       "    .dataframe tbody tr th {\n",
       "        vertical-align: top;\n",
       "    }\n",
       "\n",
       "    .dataframe thead th {\n",
       "        text-align: right;\n",
       "    }\n",
       "</style>\n",
       "<table border=\"1\" class=\"dataframe\">\n",
       "  <thead>\n",
       "    <tr style=\"text-align: right;\">\n",
       "      <th></th>\n",
       "      <th>Index</th>\n",
       "      <th>Customer Id</th>\n",
       "      <th>First Name</th>\n",
       "      <th>Last Name</th>\n",
       "      <th>Company</th>\n",
       "      <th>City</th>\n",
       "      <th>Country</th>\n",
       "      <th>Phone 1</th>\n",
       "      <th>Phone 2</th>\n",
       "      <th>Email</th>\n",
       "      <th>Subscription Date</th>\n",
       "      <th>Website</th>\n",
       "    </tr>\n",
       "  </thead>\n",
       "  <tbody>\n",
       "    <tr>\n",
       "      <th>0</th>\n",
       "      <td>1</td>\n",
       "      <td>EB54EF1154C3A78</td>\n",
       "      <td>Heather</td>\n",
       "      <td>Callahan</td>\n",
       "      <td>Mosley-David</td>\n",
       "      <td>Lake Jeffborough</td>\n",
       "      <td>Norway</td>\n",
       "      <td>043-797-5229</td>\n",
       "      <td>915.112.1727</td>\n",
       "      <td>urangel@espinoza-francis.net</td>\n",
       "      <td>2020-08-26</td>\n",
       "      <td>http://www.escobar.org/</td>\n",
       "    </tr>\n",
       "    <tr>\n",
       "      <th>1</th>\n",
       "      <td>2</td>\n",
       "      <td>10dAcafEBbA5FcA</td>\n",
       "      <td>Kristina</td>\n",
       "      <td>Ferrell</td>\n",
       "      <td>Horn, Shepard and Watson</td>\n",
       "      <td>Aaronville</td>\n",
       "      <td>Andorra</td>\n",
       "      <td>932-062-1802</td>\n",
       "      <td>(209)172-7124x3651</td>\n",
       "      <td>xreese@hall-donovan.com</td>\n",
       "      <td>2020-04-27</td>\n",
       "      <td>https://tyler-pugh.info/</td>\n",
       "    </tr>\n",
       "    <tr>\n",
       "      <th>2</th>\n",
       "      <td>3</td>\n",
       "      <td>67DAB15Ebe4BE4a</td>\n",
       "      <td>Briana</td>\n",
       "      <td>Andersen</td>\n",
       "      <td>Irwin-Oneal</td>\n",
       "      <td>East Jordan</td>\n",
       "      <td>Nepal</td>\n",
       "      <td>8352752061</td>\n",
       "      <td>(567)135-1918</td>\n",
       "      <td>haleybraun@blevins-sexton.com</td>\n",
       "      <td>2022-03-22</td>\n",
       "      <td>https://www.mack-bell.net/</td>\n",
       "    </tr>\n",
       "    <tr>\n",
       "      <th>3</th>\n",
       "      <td>4</td>\n",
       "      <td>6d350C5E5eDB4EE</td>\n",
       "      <td>Patty</td>\n",
       "      <td>Ponce</td>\n",
       "      <td>Richardson Group</td>\n",
       "      <td>East Kristintown</td>\n",
       "      <td>Northern Mariana Islands</td>\n",
       "      <td>302.398.3833</td>\n",
       "      <td>196-189-7767x770</td>\n",
       "      <td>hohailey@anthony.com</td>\n",
       "      <td>2020-07-02</td>\n",
       "      <td>https://delacruz-freeman.org/</td>\n",
       "    </tr>\n",
       "    <tr>\n",
       "      <th>4</th>\n",
       "      <td>5</td>\n",
       "      <td>5820deAdCF23EFe</td>\n",
       "      <td>Kathleen</td>\n",
       "      <td>Mccormick</td>\n",
       "      <td>Carson-Burch</td>\n",
       "      <td>Andresmouth</td>\n",
       "      <td>Macao</td>\n",
       "      <td>001-184-153-9683x1497</td>\n",
       "      <td>552.051.2979x342</td>\n",
       "      <td>alvaradojesse@rangel-shields.com</td>\n",
       "      <td>2021-01-17</td>\n",
       "      <td>https://welch.info/</td>\n",
       "    </tr>\n",
       "  </tbody>\n",
       "</table>\n",
       "</div>"
      ],
      "text/plain": [
       "   Index      Customer Id First Name  Last Name                   Company  \\\n",
       "0      1  EB54EF1154C3A78    Heather   Callahan              Mosley-David   \n",
       "1      2  10dAcafEBbA5FcA   Kristina    Ferrell  Horn, Shepard and Watson   \n",
       "2      3  67DAB15Ebe4BE4a     Briana   Andersen               Irwin-Oneal   \n",
       "3      4  6d350C5E5eDB4EE      Patty      Ponce          Richardson Group   \n",
       "4      5  5820deAdCF23EFe   Kathleen  Mccormick              Carson-Burch   \n",
       "\n",
       "               City                   Country                Phone 1  \\\n",
       "0  Lake Jeffborough                    Norway           043-797-5229   \n",
       "1        Aaronville                   Andorra           932-062-1802   \n",
       "2       East Jordan                     Nepal             8352752061   \n",
       "3  East Kristintown  Northern Mariana Islands           302.398.3833   \n",
       "4       Andresmouth                     Macao  001-184-153-9683x1497   \n",
       "\n",
       "              Phone 2                             Email Subscription Date  \\\n",
       "0        915.112.1727      urangel@espinoza-francis.net        2020-08-26   \n",
       "1  (209)172-7124x3651           xreese@hall-donovan.com        2020-04-27   \n",
       "2       (567)135-1918     haleybraun@blevins-sexton.com        2022-03-22   \n",
       "3    196-189-7767x770              hohailey@anthony.com        2020-07-02   \n",
       "4    552.051.2979x342  alvaradojesse@rangel-shields.com        2021-01-17   \n",
       "\n",
       "                         Website  \n",
       "0        http://www.escobar.org/  \n",
       "1       https://tyler-pugh.info/  \n",
       "2     https://www.mack-bell.net/  \n",
       "3  https://delacruz-freeman.org/  \n",
       "4            https://welch.info/  "
      ]
     },
     "execution_count": 479,
     "metadata": {},
     "output_type": "execute_result"
    }
   ],
   "source": [
    "df.head()"
   ]
  },
  {
   "cell_type": "markdown",
   "metadata": {},
   "source": [
    "## Shows number of (rows, columns)"
   ]
  },
  {
   "cell_type": "code",
   "execution_count": 480,
   "metadata": {},
   "outputs": [
    {
     "data": {
      "text/plain": [
       "(10000, 12)"
      ]
     },
     "execution_count": 480,
     "metadata": {},
     "output_type": "execute_result"
    }
   ],
   "source": [
    "df.shape"
   ]
  },
  {
   "cell_type": "code",
   "execution_count": 481,
   "metadata": {},
   "outputs": [
    {
     "data": {
      "text/plain": [
       "True"
      ]
     },
     "execution_count": 481,
     "metadata": {},
     "output_type": "execute_result"
    },
    {
     "name": "stdout",
     "output_type": "stream",
     "text": [
      "<bound method NDFrame.head of       Index      Customer Id First Name   Last Name                   Company  \\\n",
      "0         1  EB54EF1154C3A78    Heather    Callahan              Mosley-David   \n",
      "1         2  10dAcafEBbA5FcA   Kristina     Ferrell  Horn, Shepard and Watson   \n",
      "2         3  67DAB15Ebe4BE4a     Briana    Andersen               Irwin-Oneal   \n",
      "3         4  6d350C5E5eDB4EE      Patty       Ponce          Richardson Group   \n",
      "4         5  5820deAdCF23EFe   Kathleen   Mccormick              Carson-Burch   \n",
      "...     ...              ...        ...         ...                       ...   \n",
      "9995   9996  DD0caa06ebf217c     Meghan       Cline            Richardson LLC   \n",
      "9996   9997  C1C62ff90D0AfED   Jeremiah        Pena               Hodge-Nixon   \n",
      "9997   9998  2EfAa6Fe435A7DA      Peggy         Key                  Vang LLC   \n",
      "9998   9999  5dB06C3Fab5CCCb       Evan    Humphrey                 Gould Ltd   \n",
      "9999  10000  9903e8fF4D8Ff0F    Melissa  Montgomery              Burns-Holden   \n",
      "\n",
      "                  City                       Country                Phone 1  \\\n",
      "0     Lake Jeffborough                        Norway           043-797-5229   \n",
      "1           Aaronville                       Andorra           932-062-1802   \n",
      "2          East Jordan                         Nepal             8352752061   \n",
      "3     East Kristintown      Northern Mariana Islands           302.398.3833   \n",
      "4          Andresmouth                         Macao  001-184-153-9683x1497   \n",
      "...                ...                           ...                    ...   \n",
      "9995        Petersport                 Cote d'Ivoire   001-270-136-4738x419   \n",
      "9996        Briggsport                       Namibia   +1-531-494-7645x4844   \n",
      "9997    West Joyceport  United States Virgin Islands     520.109.2482x26052   \n",
      "9998    Camachochester                         Niger       001-465-242-9979   \n",
      "9999        Sparkstown                       Tunisia  +1-889-682-9490x65400   \n",
      "\n",
      "                    Phone 2                                 Email  \\\n",
      "0              915.112.1727          urangel@espinoza-francis.net   \n",
      "1        (209)172-7124x3651               xreese@hall-donovan.com   \n",
      "2             (567)135-1918         haleybraun@blevins-sexton.com   \n",
      "3          196-189-7767x770                  hohailey@anthony.com   \n",
      "4          552.051.2979x342      alvaradojesse@rangel-shields.com   \n",
      "...                     ...                                   ...   \n",
      "9995   001-349-692-1755x055             nicolasandrade@bates.info   \n",
      "9996  001-295-324-5502x5411                      tracy68@wade.com   \n",
      "9997  +1-602-934-5901x95106    mclaughlinjulia@barnett-dorsey.com   \n",
      "9998   001-639-955-2116x751  velazquezjessica@villegas-wilcox.com   \n",
      "9999     423.632.2539x98740               ngallagher@martinez.com   \n",
      "\n",
      "     Subscription Date                        Website  \n",
      "0           2020-08-26        http://www.escobar.org/  \n",
      "1           2020-04-27       https://tyler-pugh.info/  \n",
      "2           2022-03-22     https://www.mack-bell.net/  \n",
      "3           2020-07-02  https://delacruz-freeman.org/  \n",
      "4           2021-01-17            https://welch.info/  \n",
      "...                ...                            ...  \n",
      "9995        2022-04-27       http://thomas-ramos.com/  \n",
      "9996        2022-01-17      https://www.campbell.com/  \n",
      "9997        2022-01-13   http://www.george-scott.com/  \n",
      "9998        2020-04-14        https://www.payne.info/  \n",
      "9999        2020-06-27              http://nixon.net/  \n",
      "\n",
      "[10000 rows x 12 columns]>\n"
     ]
    }
   ],
   "source": [
    "hasattr(df,\"head\")\n",
    "x = getattr(df,\"head\")\n",
    "print(x)\n"
   ]
  },
  {
   "cell_type": "markdown",
   "metadata": {},
   "source": [
    "## Shows last 5 lines of data"
   ]
  },
  {
   "cell_type": "code",
   "execution_count": 482,
   "metadata": {},
   "outputs": [
    {
     "data": {
      "text/html": [
       "<div>\n",
       "<style scoped>\n",
       "    .dataframe tbody tr th:only-of-type {\n",
       "        vertical-align: middle;\n",
       "    }\n",
       "\n",
       "    .dataframe tbody tr th {\n",
       "        vertical-align: top;\n",
       "    }\n",
       "\n",
       "    .dataframe thead th {\n",
       "        text-align: right;\n",
       "    }\n",
       "</style>\n",
       "<table border=\"1\" class=\"dataframe\">\n",
       "  <thead>\n",
       "    <tr style=\"text-align: right;\">\n",
       "      <th></th>\n",
       "      <th>Index</th>\n",
       "      <th>Customer Id</th>\n",
       "      <th>First Name</th>\n",
       "      <th>Last Name</th>\n",
       "      <th>Company</th>\n",
       "      <th>City</th>\n",
       "      <th>Country</th>\n",
       "      <th>Phone 1</th>\n",
       "      <th>Phone 2</th>\n",
       "      <th>Email</th>\n",
       "      <th>Subscription Date</th>\n",
       "      <th>Website</th>\n",
       "    </tr>\n",
       "  </thead>\n",
       "  <tbody>\n",
       "    <tr>\n",
       "      <th>9995</th>\n",
       "      <td>9996</td>\n",
       "      <td>DD0caa06ebf217c</td>\n",
       "      <td>Meghan</td>\n",
       "      <td>Cline</td>\n",
       "      <td>Richardson LLC</td>\n",
       "      <td>Petersport</td>\n",
       "      <td>Cote d'Ivoire</td>\n",
       "      <td>001-270-136-4738x419</td>\n",
       "      <td>001-349-692-1755x055</td>\n",
       "      <td>nicolasandrade@bates.info</td>\n",
       "      <td>2022-04-27</td>\n",
       "      <td>http://thomas-ramos.com/</td>\n",
       "    </tr>\n",
       "    <tr>\n",
       "      <th>9996</th>\n",
       "      <td>9997</td>\n",
       "      <td>C1C62ff90D0AfED</td>\n",
       "      <td>Jeremiah</td>\n",
       "      <td>Pena</td>\n",
       "      <td>Hodge-Nixon</td>\n",
       "      <td>Briggsport</td>\n",
       "      <td>Namibia</td>\n",
       "      <td>+1-531-494-7645x4844</td>\n",
       "      <td>001-295-324-5502x5411</td>\n",
       "      <td>tracy68@wade.com</td>\n",
       "      <td>2022-01-17</td>\n",
       "      <td>https://www.campbell.com/</td>\n",
       "    </tr>\n",
       "    <tr>\n",
       "      <th>9997</th>\n",
       "      <td>9998</td>\n",
       "      <td>2EfAa6Fe435A7DA</td>\n",
       "      <td>Peggy</td>\n",
       "      <td>Key</td>\n",
       "      <td>Vang LLC</td>\n",
       "      <td>West Joyceport</td>\n",
       "      <td>United States Virgin Islands</td>\n",
       "      <td>520.109.2482x26052</td>\n",
       "      <td>+1-602-934-5901x95106</td>\n",
       "      <td>mclaughlinjulia@barnett-dorsey.com</td>\n",
       "      <td>2022-01-13</td>\n",
       "      <td>http://www.george-scott.com/</td>\n",
       "    </tr>\n",
       "    <tr>\n",
       "      <th>9998</th>\n",
       "      <td>9999</td>\n",
       "      <td>5dB06C3Fab5CCCb</td>\n",
       "      <td>Evan</td>\n",
       "      <td>Humphrey</td>\n",
       "      <td>Gould Ltd</td>\n",
       "      <td>Camachochester</td>\n",
       "      <td>Niger</td>\n",
       "      <td>001-465-242-9979</td>\n",
       "      <td>001-639-955-2116x751</td>\n",
       "      <td>velazquezjessica@villegas-wilcox.com</td>\n",
       "      <td>2020-04-14</td>\n",
       "      <td>https://www.payne.info/</td>\n",
       "    </tr>\n",
       "    <tr>\n",
       "      <th>9999</th>\n",
       "      <td>10000</td>\n",
       "      <td>9903e8fF4D8Ff0F</td>\n",
       "      <td>Melissa</td>\n",
       "      <td>Montgomery</td>\n",
       "      <td>Burns-Holden</td>\n",
       "      <td>Sparkstown</td>\n",
       "      <td>Tunisia</td>\n",
       "      <td>+1-889-682-9490x65400</td>\n",
       "      <td>423.632.2539x98740</td>\n",
       "      <td>ngallagher@martinez.com</td>\n",
       "      <td>2020-06-27</td>\n",
       "      <td>http://nixon.net/</td>\n",
       "    </tr>\n",
       "  </tbody>\n",
       "</table>\n",
       "</div>"
      ],
      "text/plain": [
       "      Index      Customer Id First Name   Last Name         Company  \\\n",
       "9995   9996  DD0caa06ebf217c     Meghan       Cline  Richardson LLC   \n",
       "9996   9997  C1C62ff90D0AfED   Jeremiah        Pena     Hodge-Nixon   \n",
       "9997   9998  2EfAa6Fe435A7DA      Peggy         Key        Vang LLC   \n",
       "9998   9999  5dB06C3Fab5CCCb       Evan    Humphrey       Gould Ltd   \n",
       "9999  10000  9903e8fF4D8Ff0F    Melissa  Montgomery    Burns-Holden   \n",
       "\n",
       "                City                       Country                Phone 1  \\\n",
       "9995      Petersport                 Cote d'Ivoire   001-270-136-4738x419   \n",
       "9996      Briggsport                       Namibia   +1-531-494-7645x4844   \n",
       "9997  West Joyceport  United States Virgin Islands     520.109.2482x26052   \n",
       "9998  Camachochester                         Niger       001-465-242-9979   \n",
       "9999      Sparkstown                       Tunisia  +1-889-682-9490x65400   \n",
       "\n",
       "                    Phone 2                                 Email  \\\n",
       "9995   001-349-692-1755x055             nicolasandrade@bates.info   \n",
       "9996  001-295-324-5502x5411                      tracy68@wade.com   \n",
       "9997  +1-602-934-5901x95106    mclaughlinjulia@barnett-dorsey.com   \n",
       "9998   001-639-955-2116x751  velazquezjessica@villegas-wilcox.com   \n",
       "9999     423.632.2539x98740               ngallagher@martinez.com   \n",
       "\n",
       "     Subscription Date                       Website  \n",
       "9995        2022-04-27      http://thomas-ramos.com/  \n",
       "9996        2022-01-17     https://www.campbell.com/  \n",
       "9997        2022-01-13  http://www.george-scott.com/  \n",
       "9998        2020-04-14       https://www.payne.info/  \n",
       "9999        2020-06-27             http://nixon.net/  "
      ]
     },
     "execution_count": 482,
     "metadata": {},
     "output_type": "execute_result"
    }
   ],
   "source": [
    "df.tail()"
   ]
  },
  {
   "cell_type": "markdown",
   "metadata": {},
   "source": [
    "## Shows data type of each \"series\" {column}"
   ]
  },
  {
   "cell_type": "code",
   "execution_count": 483,
   "metadata": {},
   "outputs": [
    {
     "data": {
      "text/plain": [
       "Index                 int64\n",
       "Customer Id          object\n",
       "First Name           object\n",
       "Last Name            object\n",
       "Company              object\n",
       "City                 object\n",
       "Country              object\n",
       "Phone 1              object\n",
       "Phone 2              object\n",
       "Email                object\n",
       "Subscription Date    object\n",
       "Website              object\n",
       "dtype: object"
      ]
     },
     "execution_count": 483,
     "metadata": {},
     "output_type": "execute_result"
    }
   ],
   "source": [
    "df.dtypes"
   ]
  },
  {
   "cell_type": "markdown",
   "metadata": {},
   "source": [
    "### Changing data types"
   ]
  },
  {
   "cell_type": "markdown",
   "metadata": {},
   "source": [
    "## Create a data frame from your own definition\n"
   ]
  },
  {
   "cell_type": "code",
   "execution_count": 484,
   "metadata": {
    "collapsed": true
   },
   "outputs": [],
   "source": [
    "temp = pd.DataFrame({\"A\":[\"1\",\"2\",\"3\"],\"B\":[11,12,13],\"C\": [\"12-06-2012\",\"13-06-2015\",\"15-06-2017\"]})"
   ]
  },
  {
   "cell_type": "markdown",
   "metadata": {},
   "source": [
    "## Shows newly created data frame"
   ]
  },
  {
   "cell_type": "markdown",
   "metadata": {},
   "source": [
    "## "
   ]
  },
  {
   "cell_type": "code",
   "execution_count": 485,
   "metadata": {},
   "outputs": [
    {
     "data": {
      "text/html": [
       "<div>\n",
       "<style scoped>\n",
       "    .dataframe tbody tr th:only-of-type {\n",
       "        vertical-align: middle;\n",
       "    }\n",
       "\n",
       "    .dataframe tbody tr th {\n",
       "        vertical-align: top;\n",
       "    }\n",
       "\n",
       "    .dataframe thead th {\n",
       "        text-align: right;\n",
       "    }\n",
       "</style>\n",
       "<table border=\"1\" class=\"dataframe\">\n",
       "  <thead>\n",
       "    <tr style=\"text-align: right;\">\n",
       "      <th></th>\n",
       "      <th>A</th>\n",
       "      <th>B</th>\n",
       "      <th>C</th>\n",
       "    </tr>\n",
       "  </thead>\n",
       "  <tbody>\n",
       "    <tr>\n",
       "      <th>0</th>\n",
       "      <td>1</td>\n",
       "      <td>11</td>\n",
       "      <td>12-06-2012</td>\n",
       "    </tr>\n",
       "    <tr>\n",
       "      <th>1</th>\n",
       "      <td>2</td>\n",
       "      <td>12</td>\n",
       "      <td>13-06-2015</td>\n",
       "    </tr>\n",
       "    <tr>\n",
       "      <th>2</th>\n",
       "      <td>3</td>\n",
       "      <td>13</td>\n",
       "      <td>15-06-2017</td>\n",
       "    </tr>\n",
       "  </tbody>\n",
       "</table>\n",
       "</div>"
      ],
      "text/plain": [
       "   A   B           C\n",
       "0  1  11  12-06-2012\n",
       "1  2  12  13-06-2015\n",
       "2  3  13  15-06-2017"
      ]
     },
     "execution_count": 485,
     "metadata": {},
     "output_type": "execute_result"
    }
   ],
   "source": [
    "temp"
   ]
  },
  {
   "cell_type": "markdown",
   "metadata": {},
   "source": [
    "### Shows data types"
   ]
  },
  {
   "cell_type": "code",
   "execution_count": 486,
   "metadata": {},
   "outputs": [
    {
     "data": {
      "text/plain": [
       "A    object\n",
       "B     int64\n",
       "C    object\n",
       "dtype: object"
      ]
     },
     "execution_count": 486,
     "metadata": {},
     "output_type": "execute_result"
    }
   ],
   "source": [
    "temp.dtypes"
   ]
  },
  {
   "cell_type": "markdown",
   "metadata": {},
   "source": [
    "# Testing out conversion to datetime"
   ]
  },
  {
   "cell_type": "code",
   "execution_count": 487,
   "metadata": {},
   "outputs": [
    {
     "data": {
      "text/plain": [
       "Timestamp('2002-02-02 00:00:00')"
      ]
     },
     "execution_count": 487,
     "metadata": {},
     "output_type": "execute_result"
    }
   ],
   "source": [
    "pd.to_datetime(\"2002-feb-02\")"
   ]
  },
  {
   "cell_type": "code",
   "execution_count": 488,
   "metadata": {
    "collapsed": true
   },
   "outputs": [
    {
     "data": {
      "text/html": [
       "<div>\n",
       "<style scoped>\n",
       "    .dataframe tbody tr th:only-of-type {\n",
       "        vertical-align: middle;\n",
       "    }\n",
       "\n",
       "    .dataframe tbody tr th {\n",
       "        vertical-align: top;\n",
       "    }\n",
       "\n",
       "    .dataframe thead th {\n",
       "        text-align: right;\n",
       "    }\n",
       "</style>\n",
       "<table border=\"1\" class=\"dataframe\">\n",
       "  <thead>\n",
       "    <tr style=\"text-align: right;\">\n",
       "      <th></th>\n",
       "      <th>A</th>\n",
       "      <th>B</th>\n",
       "      <th>C</th>\n",
       "    </tr>\n",
       "  </thead>\n",
       "  <tbody>\n",
       "    <tr>\n",
       "      <th>0</th>\n",
       "      <td>1</td>\n",
       "      <td>11</td>\n",
       "      <td>2012-06-12</td>\n",
       "    </tr>\n",
       "    <tr>\n",
       "      <th>1</th>\n",
       "      <td>2</td>\n",
       "      <td>12</td>\n",
       "      <td>2015-06-13</td>\n",
       "    </tr>\n",
       "    <tr>\n",
       "      <th>2</th>\n",
       "      <td>3</td>\n",
       "      <td>13</td>\n",
       "      <td>2017-06-15</td>\n",
       "    </tr>\n",
       "  </tbody>\n",
       "</table>\n",
       "</div>"
      ],
      "text/plain": [
       "   A   B          C\n",
       "0  1  11 2012-06-12\n",
       "1  2  12 2015-06-13\n",
       "2  3  13 2017-06-15"
      ]
     },
     "execution_count": 488,
     "metadata": {},
     "output_type": "execute_result"
    },
    {
     "data": {
      "text/plain": [
       "A            object\n",
       "B             int64\n",
       "C    datetime64[ns]\n",
       "dtype: object"
      ]
     },
     "execution_count": 488,
     "metadata": {},
     "output_type": "execute_result"
    },
    {
     "data": {
      "text/plain": [
       "DatetimeIndex(['2016-09-11', 'NaT'], dtype='datetime64[ns]', freq=None)"
      ]
     },
     "execution_count": 488,
     "metadata": {},
     "output_type": "execute_result"
    }
   ],
   "source": [
    "temp[\"C\"] = pd.to_datetime(temp[\"C\"],format='%d-%m-%Y')\n",
    "temp\n",
    "temp.dtypes\n",
    "pd.to_datetime([\"2016-sep-11\",\"abc\"],format='%Y-%b-%d',errors='coerce')\n"
   ]
  },
  {
   "cell_type": "code",
   "execution_count": 489,
   "metadata": {
    "collapsed": true
   },
   "outputs": [
    {
     "data": {
      "text/html": [
       "<div>\n",
       "<style scoped>\n",
       "    .dataframe tbody tr th:only-of-type {\n",
       "        vertical-align: middle;\n",
       "    }\n",
       "\n",
       "    .dataframe tbody tr th {\n",
       "        vertical-align: top;\n",
       "    }\n",
       "\n",
       "    .dataframe thead th {\n",
       "        text-align: right;\n",
       "    }\n",
       "</style>\n",
       "<table border=\"1\" class=\"dataframe\">\n",
       "  <thead>\n",
       "    <tr style=\"text-align: right;\">\n",
       "      <th></th>\n",
       "      <th>A</th>\n",
       "      <th>B</th>\n",
       "      <th>C</th>\n",
       "    </tr>\n",
       "  </thead>\n",
       "  <tbody>\n",
       "    <tr>\n",
       "      <th>0</th>\n",
       "      <td>1</td>\n",
       "      <td>11</td>\n",
       "      <td>2012-06-12</td>\n",
       "    </tr>\n",
       "    <tr>\n",
       "      <th>1</th>\n",
       "      <td>2</td>\n",
       "      <td>12</td>\n",
       "      <td>2015-06-13</td>\n",
       "    </tr>\n",
       "    <tr>\n",
       "      <th>2</th>\n",
       "      <td>3</td>\n",
       "      <td>13</td>\n",
       "      <td>2017-06-15</td>\n",
       "    </tr>\n",
       "  </tbody>\n",
       "</table>\n",
       "</div>"
      ],
      "text/plain": [
       "   A   B          C\n",
       "0  1  11 2012-06-12\n",
       "1  2  12 2015-06-13\n",
       "2  3  13 2017-06-15"
      ]
     },
     "execution_count": 489,
     "metadata": {},
     "output_type": "execute_result"
    }
   ],
   "source": [
    "temp[\"A\"] = pd.to_numeric(temp[\"A\"])\n",
    "temp"
   ]
  },
  {
   "cell_type": "code",
   "execution_count": 490,
   "metadata": {},
   "outputs": [
    {
     "data": {
      "text/plain": [
       "A             int64\n",
       "B             int64\n",
       "C    datetime64[ns]\n",
       "dtype: object"
      ]
     },
     "execution_count": 490,
     "metadata": {},
     "output_type": "execute_result"
    }
   ],
   "source": [
    "temp.dtypes"
   ]
  },
  {
   "cell_type": "code",
   "execution_count": 491,
   "metadata": {
    "collapsed": true
   },
   "outputs": [],
   "source": [
    "\n",
    "temp[\"A\"] = temp[\"A\"].astype(str)"
   ]
  },
  {
   "cell_type": "code",
   "execution_count": 492,
   "metadata": {},
   "outputs": [
    {
     "data": {
      "text/plain": [
       "A            object\n",
       "B             int64\n",
       "C    datetime64[ns]\n",
       "dtype: object"
      ]
     },
     "execution_count": 492,
     "metadata": {},
     "output_type": "execute_result"
    }
   ],
   "source": [
    "temp.dtypes"
   ]
  },
  {
   "cell_type": "code",
   "execution_count": 493,
   "metadata": {
    "collapsed": true
   },
   "outputs": [
    {
     "data": {
      "text/plain": [
       "0      2020-08-26\n",
       "1      2020-04-27\n",
       "2      2022-03-22\n",
       "3      2020-07-02\n",
       "4      2021-01-17\n",
       "          ...    \n",
       "9995   2022-04-27\n",
       "9996   2022-01-17\n",
       "9997   2022-01-13\n",
       "9998   2020-04-14\n",
       "9999   2020-06-27\n",
       "Name: Subscription Date, Length: 10000, dtype: datetime64[ns]"
      ]
     },
     "execution_count": 493,
     "metadata": {},
     "output_type": "execute_result"
    }
   ],
   "source": [
    "# convert data to datetime format\n",
    "pd.to_datetime(df[\"Subscription Date\"],format='%Y-%m-%d',errors=\"coerce\")\n",
    "# Available time formats: https://docs.python.org/3/library/datetime.html#strftime-and-strptime-behavior"
   ]
  },
  {
   "cell_type": "markdown",
   "metadata": {},
   "source": [
    "### Dataset summarization methods"
   ]
  },
  {
   "cell_type": "code",
   "execution_count": 494,
   "metadata": {},
   "outputs": [
    {
     "data": {
      "text/html": [
       "<div>\n",
       "<style scoped>\n",
       "    .dataframe tbody tr th:only-of-type {\n",
       "        vertical-align: middle;\n",
       "    }\n",
       "\n",
       "    .dataframe tbody tr th {\n",
       "        vertical-align: top;\n",
       "    }\n",
       "\n",
       "    .dataframe thead th {\n",
       "        text-align: right;\n",
       "    }\n",
       "</style>\n",
       "<table border=\"1\" class=\"dataframe\">\n",
       "  <thead>\n",
       "    <tr style=\"text-align: right;\">\n",
       "      <th></th>\n",
       "      <th>Index</th>\n",
       "      <th>Customer Id</th>\n",
       "      <th>First Name</th>\n",
       "      <th>Last Name</th>\n",
       "      <th>Company</th>\n",
       "      <th>City</th>\n",
       "      <th>Country</th>\n",
       "      <th>Phone 1</th>\n",
       "      <th>Phone 2</th>\n",
       "      <th>Email</th>\n",
       "      <th>Subscription Date</th>\n",
       "      <th>Website</th>\n",
       "    </tr>\n",
       "  </thead>\n",
       "  <tbody>\n",
       "    <tr>\n",
       "      <th>count</th>\n",
       "      <td>10000.00000</td>\n",
       "      <td>10000</td>\n",
       "      <td>10000</td>\n",
       "      <td>10000</td>\n",
       "      <td>10000</td>\n",
       "      <td>10000</td>\n",
       "      <td>10000</td>\n",
       "      <td>10000</td>\n",
       "      <td>10000</td>\n",
       "      <td>10000</td>\n",
       "      <td>10000</td>\n",
       "      <td>10000</td>\n",
       "    </tr>\n",
       "    <tr>\n",
       "      <th>unique</th>\n",
       "      <td>NaN</td>\n",
       "      <td>10000</td>\n",
       "      <td>690</td>\n",
       "      <td>1000</td>\n",
       "      <td>9215</td>\n",
       "      <td>8910</td>\n",
       "      <td>243</td>\n",
       "      <td>10000</td>\n",
       "      <td>10000</td>\n",
       "      <td>10000</td>\n",
       "      <td>880</td>\n",
       "      <td>8315</td>\n",
       "    </tr>\n",
       "    <tr>\n",
       "      <th>top</th>\n",
       "      <td>NaN</td>\n",
       "      <td>EB54EF1154C3A78</td>\n",
       "      <td>Julie</td>\n",
       "      <td>Dunlap</td>\n",
       "      <td>Perry LLC</td>\n",
       "      <td>South Edwin</td>\n",
       "      <td>Korea</td>\n",
       "      <td>043-797-5229</td>\n",
       "      <td>915.112.1727</td>\n",
       "      <td>urangel@espinoza-francis.net</td>\n",
       "      <td>2020-04-13</td>\n",
       "      <td>http://www.cordova.com/</td>\n",
       "    </tr>\n",
       "    <tr>\n",
       "      <th>freq</th>\n",
       "      <td>NaN</td>\n",
       "      <td>1</td>\n",
       "      <td>25</td>\n",
       "      <td>23</td>\n",
       "      <td>4</td>\n",
       "      <td>4</td>\n",
       "      <td>84</td>\n",
       "      <td>1</td>\n",
       "      <td>1</td>\n",
       "      <td>1</td>\n",
       "      <td>24</td>\n",
       "      <td>6</td>\n",
       "    </tr>\n",
       "    <tr>\n",
       "      <th>mean</th>\n",
       "      <td>5000.50000</td>\n",
       "      <td>NaN</td>\n",
       "      <td>NaN</td>\n",
       "      <td>NaN</td>\n",
       "      <td>NaN</td>\n",
       "      <td>NaN</td>\n",
       "      <td>NaN</td>\n",
       "      <td>NaN</td>\n",
       "      <td>NaN</td>\n",
       "      <td>NaN</td>\n",
       "      <td>NaN</td>\n",
       "      <td>NaN</td>\n",
       "    </tr>\n",
       "    <tr>\n",
       "      <th>std</th>\n",
       "      <td>2886.89568</td>\n",
       "      <td>NaN</td>\n",
       "      <td>NaN</td>\n",
       "      <td>NaN</td>\n",
       "      <td>NaN</td>\n",
       "      <td>NaN</td>\n",
       "      <td>NaN</td>\n",
       "      <td>NaN</td>\n",
       "      <td>NaN</td>\n",
       "      <td>NaN</td>\n",
       "      <td>NaN</td>\n",
       "      <td>NaN</td>\n",
       "    </tr>\n",
       "    <tr>\n",
       "      <th>min</th>\n",
       "      <td>1.00000</td>\n",
       "      <td>NaN</td>\n",
       "      <td>NaN</td>\n",
       "      <td>NaN</td>\n",
       "      <td>NaN</td>\n",
       "      <td>NaN</td>\n",
       "      <td>NaN</td>\n",
       "      <td>NaN</td>\n",
       "      <td>NaN</td>\n",
       "      <td>NaN</td>\n",
       "      <td>NaN</td>\n",
       "      <td>NaN</td>\n",
       "    </tr>\n",
       "    <tr>\n",
       "      <th>25%</th>\n",
       "      <td>2500.75000</td>\n",
       "      <td>NaN</td>\n",
       "      <td>NaN</td>\n",
       "      <td>NaN</td>\n",
       "      <td>NaN</td>\n",
       "      <td>NaN</td>\n",
       "      <td>NaN</td>\n",
       "      <td>NaN</td>\n",
       "      <td>NaN</td>\n",
       "      <td>NaN</td>\n",
       "      <td>NaN</td>\n",
       "      <td>NaN</td>\n",
       "    </tr>\n",
       "    <tr>\n",
       "      <th>50%</th>\n",
       "      <td>5000.50000</td>\n",
       "      <td>NaN</td>\n",
       "      <td>NaN</td>\n",
       "      <td>NaN</td>\n",
       "      <td>NaN</td>\n",
       "      <td>NaN</td>\n",
       "      <td>NaN</td>\n",
       "      <td>NaN</td>\n",
       "      <td>NaN</td>\n",
       "      <td>NaN</td>\n",
       "      <td>NaN</td>\n",
       "      <td>NaN</td>\n",
       "    </tr>\n",
       "    <tr>\n",
       "      <th>75%</th>\n",
       "      <td>7500.25000</td>\n",
       "      <td>NaN</td>\n",
       "      <td>NaN</td>\n",
       "      <td>NaN</td>\n",
       "      <td>NaN</td>\n",
       "      <td>NaN</td>\n",
       "      <td>NaN</td>\n",
       "      <td>NaN</td>\n",
       "      <td>NaN</td>\n",
       "      <td>NaN</td>\n",
       "      <td>NaN</td>\n",
       "      <td>NaN</td>\n",
       "    </tr>\n",
       "    <tr>\n",
       "      <th>max</th>\n",
       "      <td>10000.00000</td>\n",
       "      <td>NaN</td>\n",
       "      <td>NaN</td>\n",
       "      <td>NaN</td>\n",
       "      <td>NaN</td>\n",
       "      <td>NaN</td>\n",
       "      <td>NaN</td>\n",
       "      <td>NaN</td>\n",
       "      <td>NaN</td>\n",
       "      <td>NaN</td>\n",
       "      <td>NaN</td>\n",
       "      <td>NaN</td>\n",
       "    </tr>\n",
       "  </tbody>\n",
       "</table>\n",
       "</div>"
      ],
      "text/plain": [
       "              Index      Customer Id First Name Last Name    Company  \\\n",
       "count   10000.00000            10000      10000     10000      10000   \n",
       "unique          NaN            10000        690      1000       9215   \n",
       "top             NaN  EB54EF1154C3A78      Julie    Dunlap  Perry LLC   \n",
       "freq            NaN                1         25        23          4   \n",
       "mean     5000.50000              NaN        NaN       NaN        NaN   \n",
       "std      2886.89568              NaN        NaN       NaN        NaN   \n",
       "min         1.00000              NaN        NaN       NaN        NaN   \n",
       "25%      2500.75000              NaN        NaN       NaN        NaN   \n",
       "50%      5000.50000              NaN        NaN       NaN        NaN   \n",
       "75%      7500.25000              NaN        NaN       NaN        NaN   \n",
       "max     10000.00000              NaN        NaN       NaN        NaN   \n",
       "\n",
       "               City Country       Phone 1       Phone 2  \\\n",
       "count         10000   10000         10000         10000   \n",
       "unique         8910     243         10000         10000   \n",
       "top     South Edwin   Korea  043-797-5229  915.112.1727   \n",
       "freq              4      84             1             1   \n",
       "mean            NaN     NaN           NaN           NaN   \n",
       "std             NaN     NaN           NaN           NaN   \n",
       "min             NaN     NaN           NaN           NaN   \n",
       "25%             NaN     NaN           NaN           NaN   \n",
       "50%             NaN     NaN           NaN           NaN   \n",
       "75%             NaN     NaN           NaN           NaN   \n",
       "max             NaN     NaN           NaN           NaN   \n",
       "\n",
       "                               Email Subscription Date  \\\n",
       "count                          10000             10000   \n",
       "unique                         10000               880   \n",
       "top     urangel@espinoza-francis.net        2020-04-13   \n",
       "freq                               1                24   \n",
       "mean                             NaN               NaN   \n",
       "std                              NaN               NaN   \n",
       "min                              NaN               NaN   \n",
       "25%                              NaN               NaN   \n",
       "50%                              NaN               NaN   \n",
       "75%                              NaN               NaN   \n",
       "max                              NaN               NaN   \n",
       "\n",
       "                        Website  \n",
       "count                     10000  \n",
       "unique                     8315  \n",
       "top     http://www.cordova.com/  \n",
       "freq                          6  \n",
       "mean                        NaN  \n",
       "std                         NaN  \n",
       "min                         NaN  \n",
       "25%                         NaN  \n",
       "50%                         NaN  \n",
       "75%                         NaN  \n",
       "max                         NaN  "
      ]
     },
     "execution_count": 494,
     "metadata": {},
     "output_type": "execute_result"
    }
   ],
   "source": [
    "df.describe(include=\"all\")"
   ]
  },
  {
   "cell_type": "code",
   "execution_count": 495,
   "metadata": {},
   "outputs": [
    {
     "name": "stdout",
     "output_type": "stream",
     "text": [
      "<class 'pandas.core.frame.DataFrame'>\n",
      "RangeIndex: 10000 entries, 0 to 9999\n",
      "Data columns (total 12 columns):\n",
      " #   Column             Non-Null Count  Dtype \n",
      "---  ------             --------------  ----- \n",
      " 0   Index              10000 non-null  int64 \n",
      " 1   Customer Id        10000 non-null  object\n",
      " 2   First Name         10000 non-null  object\n",
      " 3   Last Name          10000 non-null  object\n",
      " 4   Company            10000 non-null  object\n",
      " 5   City               10000 non-null  object\n",
      " 6   Country            10000 non-null  object\n",
      " 7   Phone 1            10000 non-null  object\n",
      " 8   Phone 2            10000 non-null  object\n",
      " 9   Email              10000 non-null  object\n",
      " 10  Subscription Date  10000 non-null  object\n",
      " 11  Website            10000 non-null  object\n",
      "dtypes: int64(1), object(11)\n",
      "memory usage: 937.6+ KB\n"
     ]
    }
   ],
   "source": [
    "df.info()"
   ]
  },
  {
   "cell_type": "code",
   "execution_count": 496,
   "metadata": {},
   "outputs": [
    {
     "data": {
      "text/plain": [
       "City\n",
       "South Edwin       4\n",
       "South Steve       4\n",
       "Port Catherine    4\n",
       "Eileenmouth       4\n",
       "New Kayla         4\n",
       "Name: count, dtype: int64"
      ]
     },
     "execution_count": 496,
     "metadata": {},
     "output_type": "execute_result"
    }
   ],
   "source": [
    "# count of unique start locations\n",
    "df[\"City\"].value_counts().head()"
   ]
  },
  {
   "cell_type": "markdown",
   "metadata": {},
   "source": [
    "## Common data manipulation tasks"
   ]
  },
  {
   "cell_type": "markdown",
   "metadata": {},
   "source": [
    "5 verbs of data manipulation\n",
    "\n",
    "1. Selecting/Indexing\n",
    "2. Filtering\n",
    "3. Sorting\n",
    "4. Mutating/ Conditionally adding columns\n",
    "5. Groupby/Summarize"
   ]
  },
  {
   "cell_type": "markdown",
   "metadata": {},
   "source": [
    "### Select/Indexing\n"
   ]
  },
  {
   "cell_type": "markdown",
   "metadata": {},
   "source": [
    "## So the one in the inside square brackets represents individual columns/rows"
   ]
  },
  {
   "cell_type": "code",
   "execution_count": 497,
   "metadata": {},
   "outputs": [
    {
     "data": {
      "text/html": [
       "<div>\n",
       "<style scoped>\n",
       "    .dataframe tbody tr th:only-of-type {\n",
       "        vertical-align: middle;\n",
       "    }\n",
       "\n",
       "    .dataframe tbody tr th {\n",
       "        vertical-align: top;\n",
       "    }\n",
       "\n",
       "    .dataframe thead th {\n",
       "        text-align: right;\n",
       "    }\n",
       "</style>\n",
       "<table border=\"1\" class=\"dataframe\">\n",
       "  <thead>\n",
       "    <tr style=\"text-align: right;\">\n",
       "      <th></th>\n",
       "      <th>Index</th>\n",
       "      <th>Last Name</th>\n",
       "    </tr>\n",
       "  </thead>\n",
       "  <tbody>\n",
       "    <tr>\n",
       "      <th>0</th>\n",
       "      <td>1</td>\n",
       "      <td>Callahan</td>\n",
       "    </tr>\n",
       "    <tr>\n",
       "      <th>1</th>\n",
       "      <td>2</td>\n",
       "      <td>Ferrell</td>\n",
       "    </tr>\n",
       "    <tr>\n",
       "      <th>2</th>\n",
       "      <td>3</td>\n",
       "      <td>Andersen</td>\n",
       "    </tr>\n",
       "    <tr>\n",
       "      <th>3</th>\n",
       "      <td>4</td>\n",
       "      <td>Ponce</td>\n",
       "    </tr>\n",
       "  </tbody>\n",
       "</table>\n",
       "</div>"
      ],
      "text/plain": [
       "   Index Last Name\n",
       "0      1  Callahan\n",
       "1      2   Ferrell\n",
       "2      3  Andersen\n",
       "3      4     Ponce"
      ]
     },
     "execution_count": 497,
     "metadata": {},
     "output_type": "execute_result"
    }
   ],
   "source": [
    "df.iloc[0:4,[0,3]]"
   ]
  },
  {
   "cell_type": "markdown",
   "metadata": {},
   "source": [
    "## These both are representing ranges of columns and rows"
   ]
  },
  {
   "cell_type": "code",
   "execution_count": 498,
   "metadata": {},
   "outputs": [
    {
     "data": {
      "text/html": [
       "<div>\n",
       "<style scoped>\n",
       "    .dataframe tbody tr th:only-of-type {\n",
       "        vertical-align: middle;\n",
       "    }\n",
       "\n",
       "    .dataframe tbody tr th {\n",
       "        vertical-align: top;\n",
       "    }\n",
       "\n",
       "    .dataframe thead th {\n",
       "        text-align: right;\n",
       "    }\n",
       "</style>\n",
       "<table border=\"1\" class=\"dataframe\">\n",
       "  <thead>\n",
       "    <tr style=\"text-align: right;\">\n",
       "      <th></th>\n",
       "      <th>Index</th>\n",
       "      <th>Customer Id</th>\n",
       "      <th>First Name</th>\n",
       "    </tr>\n",
       "  </thead>\n",
       "  <tbody>\n",
       "    <tr>\n",
       "      <th>0</th>\n",
       "      <td>1</td>\n",
       "      <td>EB54EF1154C3A78</td>\n",
       "      <td>Heather</td>\n",
       "    </tr>\n",
       "    <tr>\n",
       "      <th>1</th>\n",
       "      <td>2</td>\n",
       "      <td>10dAcafEBbA5FcA</td>\n",
       "      <td>Kristina</td>\n",
       "    </tr>\n",
       "    <tr>\n",
       "      <th>2</th>\n",
       "      <td>3</td>\n",
       "      <td>67DAB15Ebe4BE4a</td>\n",
       "      <td>Briana</td>\n",
       "    </tr>\n",
       "    <tr>\n",
       "      <th>3</th>\n",
       "      <td>4</td>\n",
       "      <td>6d350C5E5eDB4EE</td>\n",
       "      <td>Patty</td>\n",
       "    </tr>\n",
       "  </tbody>\n",
       "</table>\n",
       "</div>"
      ],
      "text/plain": [
       "   Index      Customer Id First Name\n",
       "0      1  EB54EF1154C3A78    Heather\n",
       "1      2  10dAcafEBbA5FcA   Kristina\n",
       "2      3  67DAB15Ebe4BE4a     Briana\n",
       "3      4  6d350C5E5eDB4EE      Patty"
      ]
     },
     "execution_count": 498,
     "metadata": {},
     "output_type": "execute_result"
    }
   ],
   "source": [
    "## Positional Indexing\n",
    "df.iloc[0:4,0:3]"
   ]
  },
  {
   "cell_type": "markdown",
   "metadata": {},
   "source": [
    "### This shows all the rows but specific columns"
   ]
  },
  {
   "cell_type": "code",
   "execution_count": 499,
   "metadata": {},
   "outputs": [
    {
     "data": {
      "text/html": [
       "<div>\n",
       "<style scoped>\n",
       "    .dataframe tbody tr th:only-of-type {\n",
       "        vertical-align: middle;\n",
       "    }\n",
       "\n",
       "    .dataframe tbody tr th {\n",
       "        vertical-align: top;\n",
       "    }\n",
       "\n",
       "    .dataframe thead th {\n",
       "        text-align: right;\n",
       "    }\n",
       "</style>\n",
       "<table border=\"1\" class=\"dataframe\">\n",
       "  <thead>\n",
       "    <tr style=\"text-align: right;\">\n",
       "      <th></th>\n",
       "      <th>Index</th>\n",
       "      <th>Customer Id</th>\n",
       "      <th>First Name</th>\n",
       "    </tr>\n",
       "  </thead>\n",
       "  <tbody>\n",
       "    <tr>\n",
       "      <th>0</th>\n",
       "      <td>1</td>\n",
       "      <td>EB54EF1154C3A78</td>\n",
       "      <td>Heather</td>\n",
       "    </tr>\n",
       "    <tr>\n",
       "      <th>1</th>\n",
       "      <td>2</td>\n",
       "      <td>10dAcafEBbA5FcA</td>\n",
       "      <td>Kristina</td>\n",
       "    </tr>\n",
       "    <tr>\n",
       "      <th>2</th>\n",
       "      <td>3</td>\n",
       "      <td>67DAB15Ebe4BE4a</td>\n",
       "      <td>Briana</td>\n",
       "    </tr>\n",
       "    <tr>\n",
       "      <th>3</th>\n",
       "      <td>4</td>\n",
       "      <td>6d350C5E5eDB4EE</td>\n",
       "      <td>Patty</td>\n",
       "    </tr>\n",
       "    <tr>\n",
       "      <th>4</th>\n",
       "      <td>5</td>\n",
       "      <td>5820deAdCF23EFe</td>\n",
       "      <td>Kathleen</td>\n",
       "    </tr>\n",
       "    <tr>\n",
       "      <th>...</th>\n",
       "      <td>...</td>\n",
       "      <td>...</td>\n",
       "      <td>...</td>\n",
       "    </tr>\n",
       "    <tr>\n",
       "      <th>9995</th>\n",
       "      <td>9996</td>\n",
       "      <td>DD0caa06ebf217c</td>\n",
       "      <td>Meghan</td>\n",
       "    </tr>\n",
       "    <tr>\n",
       "      <th>9996</th>\n",
       "      <td>9997</td>\n",
       "      <td>C1C62ff90D0AfED</td>\n",
       "      <td>Jeremiah</td>\n",
       "    </tr>\n",
       "    <tr>\n",
       "      <th>9997</th>\n",
       "      <td>9998</td>\n",
       "      <td>2EfAa6Fe435A7DA</td>\n",
       "      <td>Peggy</td>\n",
       "    </tr>\n",
       "    <tr>\n",
       "      <th>9998</th>\n",
       "      <td>9999</td>\n",
       "      <td>5dB06C3Fab5CCCb</td>\n",
       "      <td>Evan</td>\n",
       "    </tr>\n",
       "    <tr>\n",
       "      <th>9999</th>\n",
       "      <td>10000</td>\n",
       "      <td>9903e8fF4D8Ff0F</td>\n",
       "      <td>Melissa</td>\n",
       "    </tr>\n",
       "  </tbody>\n",
       "</table>\n",
       "<p>10000 rows × 3 columns</p>\n",
       "</div>"
      ],
      "text/plain": [
       "      Index      Customer Id First Name\n",
       "0         1  EB54EF1154C3A78    Heather\n",
       "1         2  10dAcafEBbA5FcA   Kristina\n",
       "2         3  67DAB15Ebe4BE4a     Briana\n",
       "3         4  6d350C5E5eDB4EE      Patty\n",
       "4         5  5820deAdCF23EFe   Kathleen\n",
       "...     ...              ...        ...\n",
       "9995   9996  DD0caa06ebf217c     Meghan\n",
       "9996   9997  C1C62ff90D0AfED   Jeremiah\n",
       "9997   9998  2EfAa6Fe435A7DA      Peggy\n",
       "9998   9999  5dB06C3Fab5CCCb       Evan\n",
       "9999  10000  9903e8fF4D8Ff0F    Melissa\n",
       "\n",
       "[10000 rows x 3 columns]"
      ]
     },
     "execution_count": 499,
     "metadata": {},
     "output_type": "execute_result"
    }
   ],
   "source": [
    "df.iloc[:,0:3]"
   ]
  },
  {
   "cell_type": "markdown",
   "metadata": {},
   "source": [
    "### This shows all the columns but specific rows"
   ]
  },
  {
   "cell_type": "code",
   "execution_count": 500,
   "metadata": {},
   "outputs": [
    {
     "data": {
      "text/html": [
       "<div>\n",
       "<style scoped>\n",
       "    .dataframe tbody tr th:only-of-type {\n",
       "        vertical-align: middle;\n",
       "    }\n",
       "\n",
       "    .dataframe tbody tr th {\n",
       "        vertical-align: top;\n",
       "    }\n",
       "\n",
       "    .dataframe thead th {\n",
       "        text-align: right;\n",
       "    }\n",
       "</style>\n",
       "<table border=\"1\" class=\"dataframe\">\n",
       "  <thead>\n",
       "    <tr style=\"text-align: right;\">\n",
       "      <th></th>\n",
       "      <th>Index</th>\n",
       "      <th>Customer Id</th>\n",
       "      <th>First Name</th>\n",
       "      <th>Last Name</th>\n",
       "      <th>Company</th>\n",
       "      <th>City</th>\n",
       "      <th>Country</th>\n",
       "      <th>Phone 1</th>\n",
       "      <th>Phone 2</th>\n",
       "      <th>Email</th>\n",
       "      <th>Subscription Date</th>\n",
       "      <th>Website</th>\n",
       "    </tr>\n",
       "  </thead>\n",
       "  <tbody>\n",
       "    <tr>\n",
       "      <th>0</th>\n",
       "      <td>1</td>\n",
       "      <td>EB54EF1154C3A78</td>\n",
       "      <td>Heather</td>\n",
       "      <td>Callahan</td>\n",
       "      <td>Mosley-David</td>\n",
       "      <td>Lake Jeffborough</td>\n",
       "      <td>Norway</td>\n",
       "      <td>043-797-5229</td>\n",
       "      <td>915.112.1727</td>\n",
       "      <td>urangel@espinoza-francis.net</td>\n",
       "      <td>2020-08-26</td>\n",
       "      <td>http://www.escobar.org/</td>\n",
       "    </tr>\n",
       "    <tr>\n",
       "      <th>1</th>\n",
       "      <td>2</td>\n",
       "      <td>10dAcafEBbA5FcA</td>\n",
       "      <td>Kristina</td>\n",
       "      <td>Ferrell</td>\n",
       "      <td>Horn, Shepard and Watson</td>\n",
       "      <td>Aaronville</td>\n",
       "      <td>Andorra</td>\n",
       "      <td>932-062-1802</td>\n",
       "      <td>(209)172-7124x3651</td>\n",
       "      <td>xreese@hall-donovan.com</td>\n",
       "      <td>2020-04-27</td>\n",
       "      <td>https://tyler-pugh.info/</td>\n",
       "    </tr>\n",
       "    <tr>\n",
       "      <th>2</th>\n",
       "      <td>3</td>\n",
       "      <td>67DAB15Ebe4BE4a</td>\n",
       "      <td>Briana</td>\n",
       "      <td>Andersen</td>\n",
       "      <td>Irwin-Oneal</td>\n",
       "      <td>East Jordan</td>\n",
       "      <td>Nepal</td>\n",
       "      <td>8352752061</td>\n",
       "      <td>(567)135-1918</td>\n",
       "      <td>haleybraun@blevins-sexton.com</td>\n",
       "      <td>2022-03-22</td>\n",
       "      <td>https://www.mack-bell.net/</td>\n",
       "    </tr>\n",
       "  </tbody>\n",
       "</table>\n",
       "</div>"
      ],
      "text/plain": [
       "   Index      Customer Id First Name Last Name                   Company  \\\n",
       "0      1  EB54EF1154C3A78    Heather  Callahan              Mosley-David   \n",
       "1      2  10dAcafEBbA5FcA   Kristina   Ferrell  Horn, Shepard and Watson   \n",
       "2      3  67DAB15Ebe4BE4a     Briana  Andersen               Irwin-Oneal   \n",
       "\n",
       "               City  Country       Phone 1             Phone 2  \\\n",
       "0  Lake Jeffborough   Norway  043-797-5229        915.112.1727   \n",
       "1        Aaronville  Andorra  932-062-1802  (209)172-7124x3651   \n",
       "2       East Jordan    Nepal    8352752061       (567)135-1918   \n",
       "\n",
       "                           Email Subscription Date                     Website  \n",
       "0   urangel@espinoza-francis.net        2020-08-26     http://www.escobar.org/  \n",
       "1        xreese@hall-donovan.com        2020-04-27    https://tyler-pugh.info/  \n",
       "2  haleybraun@blevins-sexton.com        2022-03-22  https://www.mack-bell.net/  "
      ]
     },
     "execution_count": 500,
     "metadata": {},
     "output_type": "execute_result"
    }
   ],
   "source": [
    "df.iloc[0:3,]"
   ]
  },
  {
   "cell_type": "markdown",
   "metadata": {},
   "source": [
    "## See how the column isn't removed when u reprint the table"
   ]
  },
  {
   "cell_type": "code",
   "execution_count": 501,
   "metadata": {},
   "outputs": [
    {
     "data": {
      "text/html": [
       "<div>\n",
       "<style scoped>\n",
       "    .dataframe tbody tr th:only-of-type {\n",
       "        vertical-align: middle;\n",
       "    }\n",
       "\n",
       "    .dataframe tbody tr th {\n",
       "        vertical-align: top;\n",
       "    }\n",
       "\n",
       "    .dataframe thead th {\n",
       "        text-align: right;\n",
       "    }\n",
       "</style>\n",
       "<table border=\"1\" class=\"dataframe\">\n",
       "  <thead>\n",
       "    <tr style=\"text-align: right;\">\n",
       "      <th></th>\n",
       "      <th>Index</th>\n",
       "      <th>Customer Id</th>\n",
       "      <th>First Name</th>\n",
       "      <th>Last Name</th>\n",
       "      <th>Company</th>\n",
       "      <th>City</th>\n",
       "      <th>Country</th>\n",
       "      <th>Phone 1</th>\n",
       "      <th>Phone 2</th>\n",
       "      <th>Email</th>\n",
       "      <th>Subscription Date</th>\n",
       "    </tr>\n",
       "  </thead>\n",
       "  <tbody>\n",
       "    <tr>\n",
       "      <th>0</th>\n",
       "      <td>1</td>\n",
       "      <td>EB54EF1154C3A78</td>\n",
       "      <td>Heather</td>\n",
       "      <td>Callahan</td>\n",
       "      <td>Mosley-David</td>\n",
       "      <td>Lake Jeffborough</td>\n",
       "      <td>Norway</td>\n",
       "      <td>043-797-5229</td>\n",
       "      <td>915.112.1727</td>\n",
       "      <td>urangel@espinoza-francis.net</td>\n",
       "      <td>2020-08-26</td>\n",
       "    </tr>\n",
       "    <tr>\n",
       "      <th>1</th>\n",
       "      <td>2</td>\n",
       "      <td>10dAcafEBbA5FcA</td>\n",
       "      <td>Kristina</td>\n",
       "      <td>Ferrell</td>\n",
       "      <td>Horn, Shepard and Watson</td>\n",
       "      <td>Aaronville</td>\n",
       "      <td>Andorra</td>\n",
       "      <td>932-062-1802</td>\n",
       "      <td>(209)172-7124x3651</td>\n",
       "      <td>xreese@hall-donovan.com</td>\n",
       "      <td>2020-04-27</td>\n",
       "    </tr>\n",
       "    <tr>\n",
       "      <th>2</th>\n",
       "      <td>3</td>\n",
       "      <td>67DAB15Ebe4BE4a</td>\n",
       "      <td>Briana</td>\n",
       "      <td>Andersen</td>\n",
       "      <td>Irwin-Oneal</td>\n",
       "      <td>East Jordan</td>\n",
       "      <td>Nepal</td>\n",
       "      <td>8352752061</td>\n",
       "      <td>(567)135-1918</td>\n",
       "      <td>haleybraun@blevins-sexton.com</td>\n",
       "      <td>2022-03-22</td>\n",
       "    </tr>\n",
       "    <tr>\n",
       "      <th>3</th>\n",
       "      <td>4</td>\n",
       "      <td>6d350C5E5eDB4EE</td>\n",
       "      <td>Patty</td>\n",
       "      <td>Ponce</td>\n",
       "      <td>Richardson Group</td>\n",
       "      <td>East Kristintown</td>\n",
       "      <td>Northern Mariana Islands</td>\n",
       "      <td>302.398.3833</td>\n",
       "      <td>196-189-7767x770</td>\n",
       "      <td>hohailey@anthony.com</td>\n",
       "      <td>2020-07-02</td>\n",
       "    </tr>\n",
       "    <tr>\n",
       "      <th>4</th>\n",
       "      <td>5</td>\n",
       "      <td>5820deAdCF23EFe</td>\n",
       "      <td>Kathleen</td>\n",
       "      <td>Mccormick</td>\n",
       "      <td>Carson-Burch</td>\n",
       "      <td>Andresmouth</td>\n",
       "      <td>Macao</td>\n",
       "      <td>001-184-153-9683x1497</td>\n",
       "      <td>552.051.2979x342</td>\n",
       "      <td>alvaradojesse@rangel-shields.com</td>\n",
       "      <td>2021-01-17</td>\n",
       "    </tr>\n",
       "    <tr>\n",
       "      <th>...</th>\n",
       "      <td>...</td>\n",
       "      <td>...</td>\n",
       "      <td>...</td>\n",
       "      <td>...</td>\n",
       "      <td>...</td>\n",
       "      <td>...</td>\n",
       "      <td>...</td>\n",
       "      <td>...</td>\n",
       "      <td>...</td>\n",
       "      <td>...</td>\n",
       "      <td>...</td>\n",
       "    </tr>\n",
       "    <tr>\n",
       "      <th>9995</th>\n",
       "      <td>9996</td>\n",
       "      <td>DD0caa06ebf217c</td>\n",
       "      <td>Meghan</td>\n",
       "      <td>Cline</td>\n",
       "      <td>Richardson LLC</td>\n",
       "      <td>Petersport</td>\n",
       "      <td>Cote d'Ivoire</td>\n",
       "      <td>001-270-136-4738x419</td>\n",
       "      <td>001-349-692-1755x055</td>\n",
       "      <td>nicolasandrade@bates.info</td>\n",
       "      <td>2022-04-27</td>\n",
       "    </tr>\n",
       "    <tr>\n",
       "      <th>9996</th>\n",
       "      <td>9997</td>\n",
       "      <td>C1C62ff90D0AfED</td>\n",
       "      <td>Jeremiah</td>\n",
       "      <td>Pena</td>\n",
       "      <td>Hodge-Nixon</td>\n",
       "      <td>Briggsport</td>\n",
       "      <td>Namibia</td>\n",
       "      <td>+1-531-494-7645x4844</td>\n",
       "      <td>001-295-324-5502x5411</td>\n",
       "      <td>tracy68@wade.com</td>\n",
       "      <td>2022-01-17</td>\n",
       "    </tr>\n",
       "    <tr>\n",
       "      <th>9997</th>\n",
       "      <td>9998</td>\n",
       "      <td>2EfAa6Fe435A7DA</td>\n",
       "      <td>Peggy</td>\n",
       "      <td>Key</td>\n",
       "      <td>Vang LLC</td>\n",
       "      <td>West Joyceport</td>\n",
       "      <td>United States Virgin Islands</td>\n",
       "      <td>520.109.2482x26052</td>\n",
       "      <td>+1-602-934-5901x95106</td>\n",
       "      <td>mclaughlinjulia@barnett-dorsey.com</td>\n",
       "      <td>2022-01-13</td>\n",
       "    </tr>\n",
       "    <tr>\n",
       "      <th>9998</th>\n",
       "      <td>9999</td>\n",
       "      <td>5dB06C3Fab5CCCb</td>\n",
       "      <td>Evan</td>\n",
       "      <td>Humphrey</td>\n",
       "      <td>Gould Ltd</td>\n",
       "      <td>Camachochester</td>\n",
       "      <td>Niger</td>\n",
       "      <td>001-465-242-9979</td>\n",
       "      <td>001-639-955-2116x751</td>\n",
       "      <td>velazquezjessica@villegas-wilcox.com</td>\n",
       "      <td>2020-04-14</td>\n",
       "    </tr>\n",
       "    <tr>\n",
       "      <th>9999</th>\n",
       "      <td>10000</td>\n",
       "      <td>9903e8fF4D8Ff0F</td>\n",
       "      <td>Melissa</td>\n",
       "      <td>Montgomery</td>\n",
       "      <td>Burns-Holden</td>\n",
       "      <td>Sparkstown</td>\n",
       "      <td>Tunisia</td>\n",
       "      <td>+1-889-682-9490x65400</td>\n",
       "      <td>423.632.2539x98740</td>\n",
       "      <td>ngallagher@martinez.com</td>\n",
       "      <td>2020-06-27</td>\n",
       "    </tr>\n",
       "  </tbody>\n",
       "</table>\n",
       "<p>10000 rows × 11 columns</p>\n",
       "</div>"
      ],
      "text/plain": [
       "      Index      Customer Id First Name   Last Name                   Company  \\\n",
       "0         1  EB54EF1154C3A78    Heather    Callahan              Mosley-David   \n",
       "1         2  10dAcafEBbA5FcA   Kristina     Ferrell  Horn, Shepard and Watson   \n",
       "2         3  67DAB15Ebe4BE4a     Briana    Andersen               Irwin-Oneal   \n",
       "3         4  6d350C5E5eDB4EE      Patty       Ponce          Richardson Group   \n",
       "4         5  5820deAdCF23EFe   Kathleen   Mccormick              Carson-Burch   \n",
       "...     ...              ...        ...         ...                       ...   \n",
       "9995   9996  DD0caa06ebf217c     Meghan       Cline            Richardson LLC   \n",
       "9996   9997  C1C62ff90D0AfED   Jeremiah        Pena               Hodge-Nixon   \n",
       "9997   9998  2EfAa6Fe435A7DA      Peggy         Key                  Vang LLC   \n",
       "9998   9999  5dB06C3Fab5CCCb       Evan    Humphrey                 Gould Ltd   \n",
       "9999  10000  9903e8fF4D8Ff0F    Melissa  Montgomery              Burns-Holden   \n",
       "\n",
       "                  City                       Country                Phone 1  \\\n",
       "0     Lake Jeffborough                        Norway           043-797-5229   \n",
       "1           Aaronville                       Andorra           932-062-1802   \n",
       "2          East Jordan                         Nepal             8352752061   \n",
       "3     East Kristintown      Northern Mariana Islands           302.398.3833   \n",
       "4          Andresmouth                         Macao  001-184-153-9683x1497   \n",
       "...                ...                           ...                    ...   \n",
       "9995        Petersport                 Cote d'Ivoire   001-270-136-4738x419   \n",
       "9996        Briggsport                       Namibia   +1-531-494-7645x4844   \n",
       "9997    West Joyceport  United States Virgin Islands     520.109.2482x26052   \n",
       "9998    Camachochester                         Niger       001-465-242-9979   \n",
       "9999        Sparkstown                       Tunisia  +1-889-682-9490x65400   \n",
       "\n",
       "                    Phone 2                                 Email  \\\n",
       "0              915.112.1727          urangel@espinoza-francis.net   \n",
       "1        (209)172-7124x3651               xreese@hall-donovan.com   \n",
       "2             (567)135-1918         haleybraun@blevins-sexton.com   \n",
       "3          196-189-7767x770                  hohailey@anthony.com   \n",
       "4          552.051.2979x342      alvaradojesse@rangel-shields.com   \n",
       "...                     ...                                   ...   \n",
       "9995   001-349-692-1755x055             nicolasandrade@bates.info   \n",
       "9996  001-295-324-5502x5411                      tracy68@wade.com   \n",
       "9997  +1-602-934-5901x95106    mclaughlinjulia@barnett-dorsey.com   \n",
       "9998   001-639-955-2116x751  velazquezjessica@villegas-wilcox.com   \n",
       "9999     423.632.2539x98740               ngallagher@martinez.com   \n",
       "\n",
       "     Subscription Date  \n",
       "0           2020-08-26  \n",
       "1           2020-04-27  \n",
       "2           2022-03-22  \n",
       "3           2020-07-02  \n",
       "4           2021-01-17  \n",
       "...                ...  \n",
       "9995        2022-04-27  \n",
       "9996        2022-01-17  \n",
       "9997        2022-01-13  \n",
       "9998        2020-04-14  \n",
       "9999        2020-06-27  \n",
       "\n",
       "[10000 rows x 11 columns]"
      ]
     },
     "execution_count": 501,
     "metadata": {},
     "output_type": "execute_result"
    },
    {
     "data": {
      "text/html": [
       "<div>\n",
       "<style scoped>\n",
       "    .dataframe tbody tr th:only-of-type {\n",
       "        vertical-align: middle;\n",
       "    }\n",
       "\n",
       "    .dataframe tbody tr th {\n",
       "        vertical-align: top;\n",
       "    }\n",
       "\n",
       "    .dataframe thead th {\n",
       "        text-align: right;\n",
       "    }\n",
       "</style>\n",
       "<table border=\"1\" class=\"dataframe\">\n",
       "  <thead>\n",
       "    <tr style=\"text-align: right;\">\n",
       "      <th></th>\n",
       "      <th>Index</th>\n",
       "      <th>Customer Id</th>\n",
       "      <th>First Name</th>\n",
       "      <th>Last Name</th>\n",
       "      <th>Company</th>\n",
       "      <th>City</th>\n",
       "      <th>Country</th>\n",
       "      <th>Phone 1</th>\n",
       "      <th>Phone 2</th>\n",
       "      <th>Email</th>\n",
       "      <th>Subscription Date</th>\n",
       "      <th>Website</th>\n",
       "    </tr>\n",
       "  </thead>\n",
       "  <tbody>\n",
       "    <tr>\n",
       "      <th>0</th>\n",
       "      <td>1</td>\n",
       "      <td>EB54EF1154C3A78</td>\n",
       "      <td>Heather</td>\n",
       "      <td>Callahan</td>\n",
       "      <td>Mosley-David</td>\n",
       "      <td>Lake Jeffborough</td>\n",
       "      <td>Norway</td>\n",
       "      <td>043-797-5229</td>\n",
       "      <td>915.112.1727</td>\n",
       "      <td>urangel@espinoza-francis.net</td>\n",
       "      <td>2020-08-26</td>\n",
       "      <td>http://www.escobar.org/</td>\n",
       "    </tr>\n",
       "    <tr>\n",
       "      <th>1</th>\n",
       "      <td>2</td>\n",
       "      <td>10dAcafEBbA5FcA</td>\n",
       "      <td>Kristina</td>\n",
       "      <td>Ferrell</td>\n",
       "      <td>Horn, Shepard and Watson</td>\n",
       "      <td>Aaronville</td>\n",
       "      <td>Andorra</td>\n",
       "      <td>932-062-1802</td>\n",
       "      <td>(209)172-7124x3651</td>\n",
       "      <td>xreese@hall-donovan.com</td>\n",
       "      <td>2020-04-27</td>\n",
       "      <td>https://tyler-pugh.info/</td>\n",
       "    </tr>\n",
       "    <tr>\n",
       "      <th>2</th>\n",
       "      <td>3</td>\n",
       "      <td>67DAB15Ebe4BE4a</td>\n",
       "      <td>Briana</td>\n",
       "      <td>Andersen</td>\n",
       "      <td>Irwin-Oneal</td>\n",
       "      <td>East Jordan</td>\n",
       "      <td>Nepal</td>\n",
       "      <td>8352752061</td>\n",
       "      <td>(567)135-1918</td>\n",
       "      <td>haleybraun@blevins-sexton.com</td>\n",
       "      <td>2022-03-22</td>\n",
       "      <td>https://www.mack-bell.net/</td>\n",
       "    </tr>\n",
       "    <tr>\n",
       "      <th>3</th>\n",
       "      <td>4</td>\n",
       "      <td>6d350C5E5eDB4EE</td>\n",
       "      <td>Patty</td>\n",
       "      <td>Ponce</td>\n",
       "      <td>Richardson Group</td>\n",
       "      <td>East Kristintown</td>\n",
       "      <td>Northern Mariana Islands</td>\n",
       "      <td>302.398.3833</td>\n",
       "      <td>196-189-7767x770</td>\n",
       "      <td>hohailey@anthony.com</td>\n",
       "      <td>2020-07-02</td>\n",
       "      <td>https://delacruz-freeman.org/</td>\n",
       "    </tr>\n",
       "    <tr>\n",
       "      <th>4</th>\n",
       "      <td>5</td>\n",
       "      <td>5820deAdCF23EFe</td>\n",
       "      <td>Kathleen</td>\n",
       "      <td>Mccormick</td>\n",
       "      <td>Carson-Burch</td>\n",
       "      <td>Andresmouth</td>\n",
       "      <td>Macao</td>\n",
       "      <td>001-184-153-9683x1497</td>\n",
       "      <td>552.051.2979x342</td>\n",
       "      <td>alvaradojesse@rangel-shields.com</td>\n",
       "      <td>2021-01-17</td>\n",
       "      <td>https://welch.info/</td>\n",
       "    </tr>\n",
       "    <tr>\n",
       "      <th>...</th>\n",
       "      <td>...</td>\n",
       "      <td>...</td>\n",
       "      <td>...</td>\n",
       "      <td>...</td>\n",
       "      <td>...</td>\n",
       "      <td>...</td>\n",
       "      <td>...</td>\n",
       "      <td>...</td>\n",
       "      <td>...</td>\n",
       "      <td>...</td>\n",
       "      <td>...</td>\n",
       "      <td>...</td>\n",
       "    </tr>\n",
       "    <tr>\n",
       "      <th>9995</th>\n",
       "      <td>9996</td>\n",
       "      <td>DD0caa06ebf217c</td>\n",
       "      <td>Meghan</td>\n",
       "      <td>Cline</td>\n",
       "      <td>Richardson LLC</td>\n",
       "      <td>Petersport</td>\n",
       "      <td>Cote d'Ivoire</td>\n",
       "      <td>001-270-136-4738x419</td>\n",
       "      <td>001-349-692-1755x055</td>\n",
       "      <td>nicolasandrade@bates.info</td>\n",
       "      <td>2022-04-27</td>\n",
       "      <td>http://thomas-ramos.com/</td>\n",
       "    </tr>\n",
       "    <tr>\n",
       "      <th>9996</th>\n",
       "      <td>9997</td>\n",
       "      <td>C1C62ff90D0AfED</td>\n",
       "      <td>Jeremiah</td>\n",
       "      <td>Pena</td>\n",
       "      <td>Hodge-Nixon</td>\n",
       "      <td>Briggsport</td>\n",
       "      <td>Namibia</td>\n",
       "      <td>+1-531-494-7645x4844</td>\n",
       "      <td>001-295-324-5502x5411</td>\n",
       "      <td>tracy68@wade.com</td>\n",
       "      <td>2022-01-17</td>\n",
       "      <td>https://www.campbell.com/</td>\n",
       "    </tr>\n",
       "    <tr>\n",
       "      <th>9997</th>\n",
       "      <td>9998</td>\n",
       "      <td>2EfAa6Fe435A7DA</td>\n",
       "      <td>Peggy</td>\n",
       "      <td>Key</td>\n",
       "      <td>Vang LLC</td>\n",
       "      <td>West Joyceport</td>\n",
       "      <td>United States Virgin Islands</td>\n",
       "      <td>520.109.2482x26052</td>\n",
       "      <td>+1-602-934-5901x95106</td>\n",
       "      <td>mclaughlinjulia@barnett-dorsey.com</td>\n",
       "      <td>2022-01-13</td>\n",
       "      <td>http://www.george-scott.com/</td>\n",
       "    </tr>\n",
       "    <tr>\n",
       "      <th>9998</th>\n",
       "      <td>9999</td>\n",
       "      <td>5dB06C3Fab5CCCb</td>\n",
       "      <td>Evan</td>\n",
       "      <td>Humphrey</td>\n",
       "      <td>Gould Ltd</td>\n",
       "      <td>Camachochester</td>\n",
       "      <td>Niger</td>\n",
       "      <td>001-465-242-9979</td>\n",
       "      <td>001-639-955-2116x751</td>\n",
       "      <td>velazquezjessica@villegas-wilcox.com</td>\n",
       "      <td>2020-04-14</td>\n",
       "      <td>https://www.payne.info/</td>\n",
       "    </tr>\n",
       "    <tr>\n",
       "      <th>9999</th>\n",
       "      <td>10000</td>\n",
       "      <td>9903e8fF4D8Ff0F</td>\n",
       "      <td>Melissa</td>\n",
       "      <td>Montgomery</td>\n",
       "      <td>Burns-Holden</td>\n",
       "      <td>Sparkstown</td>\n",
       "      <td>Tunisia</td>\n",
       "      <td>+1-889-682-9490x65400</td>\n",
       "      <td>423.632.2539x98740</td>\n",
       "      <td>ngallagher@martinez.com</td>\n",
       "      <td>2020-06-27</td>\n",
       "      <td>http://nixon.net/</td>\n",
       "    </tr>\n",
       "  </tbody>\n",
       "</table>\n",
       "<p>10000 rows × 12 columns</p>\n",
       "</div>"
      ],
      "text/plain": [
       "      Index      Customer Id First Name   Last Name                   Company  \\\n",
       "0         1  EB54EF1154C3A78    Heather    Callahan              Mosley-David   \n",
       "1         2  10dAcafEBbA5FcA   Kristina     Ferrell  Horn, Shepard and Watson   \n",
       "2         3  67DAB15Ebe4BE4a     Briana    Andersen               Irwin-Oneal   \n",
       "3         4  6d350C5E5eDB4EE      Patty       Ponce          Richardson Group   \n",
       "4         5  5820deAdCF23EFe   Kathleen   Mccormick              Carson-Burch   \n",
       "...     ...              ...        ...         ...                       ...   \n",
       "9995   9996  DD0caa06ebf217c     Meghan       Cline            Richardson LLC   \n",
       "9996   9997  C1C62ff90D0AfED   Jeremiah        Pena               Hodge-Nixon   \n",
       "9997   9998  2EfAa6Fe435A7DA      Peggy         Key                  Vang LLC   \n",
       "9998   9999  5dB06C3Fab5CCCb       Evan    Humphrey                 Gould Ltd   \n",
       "9999  10000  9903e8fF4D8Ff0F    Melissa  Montgomery              Burns-Holden   \n",
       "\n",
       "                  City                       Country                Phone 1  \\\n",
       "0     Lake Jeffborough                        Norway           043-797-5229   \n",
       "1           Aaronville                       Andorra           932-062-1802   \n",
       "2          East Jordan                         Nepal             8352752061   \n",
       "3     East Kristintown      Northern Mariana Islands           302.398.3833   \n",
       "4          Andresmouth                         Macao  001-184-153-9683x1497   \n",
       "...                ...                           ...                    ...   \n",
       "9995        Petersport                 Cote d'Ivoire   001-270-136-4738x419   \n",
       "9996        Briggsport                       Namibia   +1-531-494-7645x4844   \n",
       "9997    West Joyceport  United States Virgin Islands     520.109.2482x26052   \n",
       "9998    Camachochester                         Niger       001-465-242-9979   \n",
       "9999        Sparkstown                       Tunisia  +1-889-682-9490x65400   \n",
       "\n",
       "                    Phone 2                                 Email  \\\n",
       "0              915.112.1727          urangel@espinoza-francis.net   \n",
       "1        (209)172-7124x3651               xreese@hall-donovan.com   \n",
       "2             (567)135-1918         haleybraun@blevins-sexton.com   \n",
       "3          196-189-7767x770                  hohailey@anthony.com   \n",
       "4          552.051.2979x342      alvaradojesse@rangel-shields.com   \n",
       "...                     ...                                   ...   \n",
       "9995   001-349-692-1755x055             nicolasandrade@bates.info   \n",
       "9996  001-295-324-5502x5411                      tracy68@wade.com   \n",
       "9997  +1-602-934-5901x95106    mclaughlinjulia@barnett-dorsey.com   \n",
       "9998   001-639-955-2116x751  velazquezjessica@villegas-wilcox.com   \n",
       "9999     423.632.2539x98740               ngallagher@martinez.com   \n",
       "\n",
       "     Subscription Date                        Website  \n",
       "0           2020-08-26        http://www.escobar.org/  \n",
       "1           2020-04-27       https://tyler-pugh.info/  \n",
       "2           2022-03-22     https://www.mack-bell.net/  \n",
       "3           2020-07-02  https://delacruz-freeman.org/  \n",
       "4           2021-01-17            https://welch.info/  \n",
       "...                ...                            ...  \n",
       "9995        2022-04-27       http://thomas-ramos.com/  \n",
       "9996        2022-01-17      https://www.campbell.com/  \n",
       "9997        2022-01-13   http://www.george-scott.com/  \n",
       "9998        2020-04-14        https://www.payne.info/  \n",
       "9999        2020-06-27              http://nixon.net/  \n",
       "\n",
       "[10000 rows x 12 columns]"
      ]
     },
     "execution_count": 501,
     "metadata": {},
     "output_type": "execute_result"
    }
   ],
   "source": [
    "df.iloc[:,:-1]\n",
    "df"
   ]
  },
  {
   "cell_type": "markdown",
   "metadata": {},
   "source": [
    "## In order to actually remove it when called seperately you need to assign it to a new variable"
   ]
  },
  {
   "cell_type": "code",
   "execution_count": 502,
   "metadata": {},
   "outputs": [
    {
     "data": {
      "text/html": [
       "<div>\n",
       "<style scoped>\n",
       "    .dataframe tbody tr th:only-of-type {\n",
       "        vertical-align: middle;\n",
       "    }\n",
       "\n",
       "    .dataframe tbody tr th {\n",
       "        vertical-align: top;\n",
       "    }\n",
       "\n",
       "    .dataframe thead th {\n",
       "        text-align: right;\n",
       "    }\n",
       "</style>\n",
       "<table border=\"1\" class=\"dataframe\">\n",
       "  <thead>\n",
       "    <tr style=\"text-align: right;\">\n",
       "      <th></th>\n",
       "      <th>Index</th>\n",
       "      <th>Customer Id</th>\n",
       "      <th>First Name</th>\n",
       "      <th>Last Name</th>\n",
       "      <th>Company</th>\n",
       "      <th>City</th>\n",
       "      <th>Country</th>\n",
       "      <th>Phone 1</th>\n",
       "      <th>Phone 2</th>\n",
       "      <th>Email</th>\n",
       "      <th>Subscription Date</th>\n",
       "    </tr>\n",
       "  </thead>\n",
       "  <tbody>\n",
       "    <tr>\n",
       "      <th>0</th>\n",
       "      <td>1</td>\n",
       "      <td>EB54EF1154C3A78</td>\n",
       "      <td>Heather</td>\n",
       "      <td>Callahan</td>\n",
       "      <td>Mosley-David</td>\n",
       "      <td>Lake Jeffborough</td>\n",
       "      <td>Norway</td>\n",
       "      <td>043-797-5229</td>\n",
       "      <td>915.112.1727</td>\n",
       "      <td>urangel@espinoza-francis.net</td>\n",
       "      <td>2020-08-26</td>\n",
       "    </tr>\n",
       "    <tr>\n",
       "      <th>1</th>\n",
       "      <td>2</td>\n",
       "      <td>10dAcafEBbA5FcA</td>\n",
       "      <td>Kristina</td>\n",
       "      <td>Ferrell</td>\n",
       "      <td>Horn, Shepard and Watson</td>\n",
       "      <td>Aaronville</td>\n",
       "      <td>Andorra</td>\n",
       "      <td>932-062-1802</td>\n",
       "      <td>(209)172-7124x3651</td>\n",
       "      <td>xreese@hall-donovan.com</td>\n",
       "      <td>2020-04-27</td>\n",
       "    </tr>\n",
       "    <tr>\n",
       "      <th>2</th>\n",
       "      <td>3</td>\n",
       "      <td>67DAB15Ebe4BE4a</td>\n",
       "      <td>Briana</td>\n",
       "      <td>Andersen</td>\n",
       "      <td>Irwin-Oneal</td>\n",
       "      <td>East Jordan</td>\n",
       "      <td>Nepal</td>\n",
       "      <td>8352752061</td>\n",
       "      <td>(567)135-1918</td>\n",
       "      <td>haleybraun@blevins-sexton.com</td>\n",
       "      <td>2022-03-22</td>\n",
       "    </tr>\n",
       "    <tr>\n",
       "      <th>3</th>\n",
       "      <td>4</td>\n",
       "      <td>6d350C5E5eDB4EE</td>\n",
       "      <td>Patty</td>\n",
       "      <td>Ponce</td>\n",
       "      <td>Richardson Group</td>\n",
       "      <td>East Kristintown</td>\n",
       "      <td>Northern Mariana Islands</td>\n",
       "      <td>302.398.3833</td>\n",
       "      <td>196-189-7767x770</td>\n",
       "      <td>hohailey@anthony.com</td>\n",
       "      <td>2020-07-02</td>\n",
       "    </tr>\n",
       "    <tr>\n",
       "      <th>4</th>\n",
       "      <td>5</td>\n",
       "      <td>5820deAdCF23EFe</td>\n",
       "      <td>Kathleen</td>\n",
       "      <td>Mccormick</td>\n",
       "      <td>Carson-Burch</td>\n",
       "      <td>Andresmouth</td>\n",
       "      <td>Macao</td>\n",
       "      <td>001-184-153-9683x1497</td>\n",
       "      <td>552.051.2979x342</td>\n",
       "      <td>alvaradojesse@rangel-shields.com</td>\n",
       "      <td>2021-01-17</td>\n",
       "    </tr>\n",
       "    <tr>\n",
       "      <th>...</th>\n",
       "      <td>...</td>\n",
       "      <td>...</td>\n",
       "      <td>...</td>\n",
       "      <td>...</td>\n",
       "      <td>...</td>\n",
       "      <td>...</td>\n",
       "      <td>...</td>\n",
       "      <td>...</td>\n",
       "      <td>...</td>\n",
       "      <td>...</td>\n",
       "      <td>...</td>\n",
       "    </tr>\n",
       "    <tr>\n",
       "      <th>9995</th>\n",
       "      <td>9996</td>\n",
       "      <td>DD0caa06ebf217c</td>\n",
       "      <td>Meghan</td>\n",
       "      <td>Cline</td>\n",
       "      <td>Richardson LLC</td>\n",
       "      <td>Petersport</td>\n",
       "      <td>Cote d'Ivoire</td>\n",
       "      <td>001-270-136-4738x419</td>\n",
       "      <td>001-349-692-1755x055</td>\n",
       "      <td>nicolasandrade@bates.info</td>\n",
       "      <td>2022-04-27</td>\n",
       "    </tr>\n",
       "    <tr>\n",
       "      <th>9996</th>\n",
       "      <td>9997</td>\n",
       "      <td>C1C62ff90D0AfED</td>\n",
       "      <td>Jeremiah</td>\n",
       "      <td>Pena</td>\n",
       "      <td>Hodge-Nixon</td>\n",
       "      <td>Briggsport</td>\n",
       "      <td>Namibia</td>\n",
       "      <td>+1-531-494-7645x4844</td>\n",
       "      <td>001-295-324-5502x5411</td>\n",
       "      <td>tracy68@wade.com</td>\n",
       "      <td>2022-01-17</td>\n",
       "    </tr>\n",
       "    <tr>\n",
       "      <th>9997</th>\n",
       "      <td>9998</td>\n",
       "      <td>2EfAa6Fe435A7DA</td>\n",
       "      <td>Peggy</td>\n",
       "      <td>Key</td>\n",
       "      <td>Vang LLC</td>\n",
       "      <td>West Joyceport</td>\n",
       "      <td>United States Virgin Islands</td>\n",
       "      <td>520.109.2482x26052</td>\n",
       "      <td>+1-602-934-5901x95106</td>\n",
       "      <td>mclaughlinjulia@barnett-dorsey.com</td>\n",
       "      <td>2022-01-13</td>\n",
       "    </tr>\n",
       "    <tr>\n",
       "      <th>9998</th>\n",
       "      <td>9999</td>\n",
       "      <td>5dB06C3Fab5CCCb</td>\n",
       "      <td>Evan</td>\n",
       "      <td>Humphrey</td>\n",
       "      <td>Gould Ltd</td>\n",
       "      <td>Camachochester</td>\n",
       "      <td>Niger</td>\n",
       "      <td>001-465-242-9979</td>\n",
       "      <td>001-639-955-2116x751</td>\n",
       "      <td>velazquezjessica@villegas-wilcox.com</td>\n",
       "      <td>2020-04-14</td>\n",
       "    </tr>\n",
       "    <tr>\n",
       "      <th>9999</th>\n",
       "      <td>10000</td>\n",
       "      <td>9903e8fF4D8Ff0F</td>\n",
       "      <td>Melissa</td>\n",
       "      <td>Montgomery</td>\n",
       "      <td>Burns-Holden</td>\n",
       "      <td>Sparkstown</td>\n",
       "      <td>Tunisia</td>\n",
       "      <td>+1-889-682-9490x65400</td>\n",
       "      <td>423.632.2539x98740</td>\n",
       "      <td>ngallagher@martinez.com</td>\n",
       "      <td>2020-06-27</td>\n",
       "    </tr>\n",
       "  </tbody>\n",
       "</table>\n",
       "<p>10000 rows × 11 columns</p>\n",
       "</div>"
      ],
      "text/plain": [
       "      Index      Customer Id First Name   Last Name                   Company  \\\n",
       "0         1  EB54EF1154C3A78    Heather    Callahan              Mosley-David   \n",
       "1         2  10dAcafEBbA5FcA   Kristina     Ferrell  Horn, Shepard and Watson   \n",
       "2         3  67DAB15Ebe4BE4a     Briana    Andersen               Irwin-Oneal   \n",
       "3         4  6d350C5E5eDB4EE      Patty       Ponce          Richardson Group   \n",
       "4         5  5820deAdCF23EFe   Kathleen   Mccormick              Carson-Burch   \n",
       "...     ...              ...        ...         ...                       ...   \n",
       "9995   9996  DD0caa06ebf217c     Meghan       Cline            Richardson LLC   \n",
       "9996   9997  C1C62ff90D0AfED   Jeremiah        Pena               Hodge-Nixon   \n",
       "9997   9998  2EfAa6Fe435A7DA      Peggy         Key                  Vang LLC   \n",
       "9998   9999  5dB06C3Fab5CCCb       Evan    Humphrey                 Gould Ltd   \n",
       "9999  10000  9903e8fF4D8Ff0F    Melissa  Montgomery              Burns-Holden   \n",
       "\n",
       "                  City                       Country                Phone 1  \\\n",
       "0     Lake Jeffborough                        Norway           043-797-5229   \n",
       "1           Aaronville                       Andorra           932-062-1802   \n",
       "2          East Jordan                         Nepal             8352752061   \n",
       "3     East Kristintown      Northern Mariana Islands           302.398.3833   \n",
       "4          Andresmouth                         Macao  001-184-153-9683x1497   \n",
       "...                ...                           ...                    ...   \n",
       "9995        Petersport                 Cote d'Ivoire   001-270-136-4738x419   \n",
       "9996        Briggsport                       Namibia   +1-531-494-7645x4844   \n",
       "9997    West Joyceport  United States Virgin Islands     520.109.2482x26052   \n",
       "9998    Camachochester                         Niger       001-465-242-9979   \n",
       "9999        Sparkstown                       Tunisia  +1-889-682-9490x65400   \n",
       "\n",
       "                    Phone 2                                 Email  \\\n",
       "0              915.112.1727          urangel@espinoza-francis.net   \n",
       "1        (209)172-7124x3651               xreese@hall-donovan.com   \n",
       "2             (567)135-1918         haleybraun@blevins-sexton.com   \n",
       "3          196-189-7767x770                  hohailey@anthony.com   \n",
       "4          552.051.2979x342      alvaradojesse@rangel-shields.com   \n",
       "...                     ...                                   ...   \n",
       "9995   001-349-692-1755x055             nicolasandrade@bates.info   \n",
       "9996  001-295-324-5502x5411                      tracy68@wade.com   \n",
       "9997  +1-602-934-5901x95106    mclaughlinjulia@barnett-dorsey.com   \n",
       "9998   001-639-955-2116x751  velazquezjessica@villegas-wilcox.com   \n",
       "9999     423.632.2539x98740               ngallagher@martinez.com   \n",
       "\n",
       "     Subscription Date  \n",
       "0           2020-08-26  \n",
       "1           2020-04-27  \n",
       "2           2022-03-22  \n",
       "3           2020-07-02  \n",
       "4           2021-01-17  \n",
       "...                ...  \n",
       "9995        2022-04-27  \n",
       "9996        2022-01-17  \n",
       "9997        2022-01-13  \n",
       "9998        2020-04-14  \n",
       "9999        2020-06-27  \n",
       "\n",
       "[10000 rows x 11 columns]"
      ]
     },
     "execution_count": 502,
     "metadata": {},
     "output_type": "execute_result"
    }
   ],
   "source": [
    "Armaan  = df.iloc[:,:-1]\n",
    "Armaan"
   ]
  },
  {
   "cell_type": "code",
   "execution_count": 503,
   "metadata": {},
   "outputs": [
    {
     "data": {
      "text/html": [
       "<div>\n",
       "<style scoped>\n",
       "    .dataframe tbody tr th:only-of-type {\n",
       "        vertical-align: middle;\n",
       "    }\n",
       "\n",
       "    .dataframe tbody tr th {\n",
       "        vertical-align: top;\n",
       "    }\n",
       "\n",
       "    .dataframe thead th {\n",
       "        text-align: right;\n",
       "    }\n",
       "</style>\n",
       "<table border=\"1\" class=\"dataframe\">\n",
       "  <thead>\n",
       "    <tr style=\"text-align: right;\">\n",
       "      <th></th>\n",
       "      <th>City</th>\n",
       "      <th>Country</th>\n",
       "    </tr>\n",
       "  </thead>\n",
       "  <tbody>\n",
       "    <tr>\n",
       "      <th>0</th>\n",
       "      <td>Lake Jeffborough</td>\n",
       "      <td>Norway</td>\n",
       "    </tr>\n",
       "    <tr>\n",
       "      <th>1</th>\n",
       "      <td>Aaronville</td>\n",
       "      <td>Andorra</td>\n",
       "    </tr>\n",
       "    <tr>\n",
       "      <th>2</th>\n",
       "      <td>East Jordan</td>\n",
       "      <td>Nepal</td>\n",
       "    </tr>\n",
       "    <tr>\n",
       "      <th>3</th>\n",
       "      <td>East Kristintown</td>\n",
       "      <td>Northern Mariana Islands</td>\n",
       "    </tr>\n",
       "    <tr>\n",
       "      <th>4</th>\n",
       "      <td>Andresmouth</td>\n",
       "      <td>Macao</td>\n",
       "    </tr>\n",
       "    <tr>\n",
       "      <th>...</th>\n",
       "      <td>...</td>\n",
       "      <td>...</td>\n",
       "    </tr>\n",
       "    <tr>\n",
       "      <th>9995</th>\n",
       "      <td>Petersport</td>\n",
       "      <td>Cote d'Ivoire</td>\n",
       "    </tr>\n",
       "    <tr>\n",
       "      <th>9996</th>\n",
       "      <td>Briggsport</td>\n",
       "      <td>Namibia</td>\n",
       "    </tr>\n",
       "    <tr>\n",
       "      <th>9997</th>\n",
       "      <td>West Joyceport</td>\n",
       "      <td>United States Virgin Islands</td>\n",
       "    </tr>\n",
       "    <tr>\n",
       "      <th>9998</th>\n",
       "      <td>Camachochester</td>\n",
       "      <td>Niger</td>\n",
       "    </tr>\n",
       "    <tr>\n",
       "      <th>9999</th>\n",
       "      <td>Sparkstown</td>\n",
       "      <td>Tunisia</td>\n",
       "    </tr>\n",
       "  </tbody>\n",
       "</table>\n",
       "<p>10000 rows × 2 columns</p>\n",
       "</div>"
      ],
      "text/plain": [
       "                  City                       Country\n",
       "0     Lake Jeffborough                        Norway\n",
       "1           Aaronville                       Andorra\n",
       "2          East Jordan                         Nepal\n",
       "3     East Kristintown      Northern Mariana Islands\n",
       "4          Andresmouth                         Macao\n",
       "...                ...                           ...\n",
       "9995        Petersport                 Cote d'Ivoire\n",
       "9996        Briggsport                       Namibia\n",
       "9997    West Joyceport  United States Virgin Islands\n",
       "9998    Camachochester                         Niger\n",
       "9999        Sparkstown                       Tunisia\n",
       "\n",
       "[10000 rows x 2 columns]"
      ]
     },
     "execution_count": 503,
     "metadata": {},
     "output_type": "execute_result"
    }
   ],
   "source": [
    "# label based indexing\n",
    "df.loc[:,[\"City\",\"Country\"]]"
   ]
  },
  {
   "cell_type": "markdown",
   "metadata": {},
   "source": [
    "#### This is a shorthand made by the developers of the library to make it easier to use making it so that you don't need to use the .loc command. You can simply write dc[[and your columns names]] in order to get all rows but specific columns"
   ]
  },
  {
   "cell_type": "code",
   "execution_count": 504,
   "metadata": {},
   "outputs": [
    {
     "data": {
      "text/html": [
       "<div>\n",
       "<style scoped>\n",
       "    .dataframe tbody tr th:only-of-type {\n",
       "        vertical-align: middle;\n",
       "    }\n",
       "\n",
       "    .dataframe tbody tr th {\n",
       "        vertical-align: top;\n",
       "    }\n",
       "\n",
       "    .dataframe thead th {\n",
       "        text-align: right;\n",
       "    }\n",
       "</style>\n",
       "<table border=\"1\" class=\"dataframe\">\n",
       "  <thead>\n",
       "    <tr style=\"text-align: right;\">\n",
       "      <th></th>\n",
       "      <th>City</th>\n",
       "      <th>Country</th>\n",
       "    </tr>\n",
       "  </thead>\n",
       "  <tbody>\n",
       "    <tr>\n",
       "      <th>0</th>\n",
       "      <td>Lake Jeffborough</td>\n",
       "      <td>Norway</td>\n",
       "    </tr>\n",
       "    <tr>\n",
       "      <th>1</th>\n",
       "      <td>Aaronville</td>\n",
       "      <td>Andorra</td>\n",
       "    </tr>\n",
       "    <tr>\n",
       "      <th>2</th>\n",
       "      <td>East Jordan</td>\n",
       "      <td>Nepal</td>\n",
       "    </tr>\n",
       "    <tr>\n",
       "      <th>3</th>\n",
       "      <td>East Kristintown</td>\n",
       "      <td>Northern Mariana Islands</td>\n",
       "    </tr>\n",
       "    <tr>\n",
       "      <th>4</th>\n",
       "      <td>Andresmouth</td>\n",
       "      <td>Macao</td>\n",
       "    </tr>\n",
       "    <tr>\n",
       "      <th>...</th>\n",
       "      <td>...</td>\n",
       "      <td>...</td>\n",
       "    </tr>\n",
       "    <tr>\n",
       "      <th>9995</th>\n",
       "      <td>Petersport</td>\n",
       "      <td>Cote d'Ivoire</td>\n",
       "    </tr>\n",
       "    <tr>\n",
       "      <th>9996</th>\n",
       "      <td>Briggsport</td>\n",
       "      <td>Namibia</td>\n",
       "    </tr>\n",
       "    <tr>\n",
       "      <th>9997</th>\n",
       "      <td>West Joyceport</td>\n",
       "      <td>United States Virgin Islands</td>\n",
       "    </tr>\n",
       "    <tr>\n",
       "      <th>9998</th>\n",
       "      <td>Camachochester</td>\n",
       "      <td>Niger</td>\n",
       "    </tr>\n",
       "    <tr>\n",
       "      <th>9999</th>\n",
       "      <td>Sparkstown</td>\n",
       "      <td>Tunisia</td>\n",
       "    </tr>\n",
       "  </tbody>\n",
       "</table>\n",
       "<p>10000 rows × 2 columns</p>\n",
       "</div>"
      ],
      "text/plain": [
       "                  City                       Country\n",
       "0     Lake Jeffborough                        Norway\n",
       "1           Aaronville                       Andorra\n",
       "2          East Jordan                         Nepal\n",
       "3     East Kristintown      Northern Mariana Islands\n",
       "4          Andresmouth                         Macao\n",
       "...                ...                           ...\n",
       "9995        Petersport                 Cote d'Ivoire\n",
       "9996        Briggsport                       Namibia\n",
       "9997    West Joyceport  United States Virgin Islands\n",
       "9998    Camachochester                         Niger\n",
       "9999        Sparkstown                       Tunisia\n",
       "\n",
       "[10000 rows x 2 columns]"
      ]
     },
     "execution_count": 504,
     "metadata": {},
     "output_type": "execute_result"
    }
   ],
   "source": [
    "df[[\"City\",\"Country\"]]"
   ]
  },
  {
   "cell_type": "markdown",
   "metadata": {},
   "source": [
    "#### This shows a series"
   ]
  },
  {
   "cell_type": "code",
   "execution_count": 505,
   "metadata": {},
   "outputs": [
    {
     "data": {
      "text/plain": [
       "0       Lake Jeffborough\n",
       "1             Aaronville\n",
       "2            East Jordan\n",
       "3       East Kristintown\n",
       "4            Andresmouth\n",
       "              ...       \n",
       "9995          Petersport\n",
       "9996          Briggsport\n",
       "9997      West Joyceport\n",
       "9998      Camachochester\n",
       "9999          Sparkstown\n",
       "Name: City, Length: 10000, dtype: object"
      ]
     },
     "execution_count": 505,
     "metadata": {},
     "output_type": "execute_result"
    }
   ],
   "source": [
    "abc  = df.loc[:,\"City\"]\n",
    "abc"
   ]
  },
  {
   "cell_type": "markdown",
   "metadata": {},
   "source": [
    "#### As proven here by checking its type"
   ]
  },
  {
   "cell_type": "code",
   "execution_count": 506,
   "metadata": {},
   "outputs": [
    {
     "data": {
      "text/plain": [
       "pandas.core.series.Series"
      ]
     },
     "execution_count": 506,
     "metadata": {},
     "output_type": "execute_result"
    }
   ],
   "source": [
    "type(abc)"
   ]
  },
  {
   "cell_type": "markdown",
   "metadata": {},
   "source": [
    "#### Writing it like this keeps it as a dataframe"
   ]
  },
  {
   "cell_type": "code",
   "execution_count": 507,
   "metadata": {},
   "outputs": [
    {
     "data": {
      "text/html": [
       "<div>\n",
       "<style scoped>\n",
       "    .dataframe tbody tr th:only-of-type {\n",
       "        vertical-align: middle;\n",
       "    }\n",
       "\n",
       "    .dataframe tbody tr th {\n",
       "        vertical-align: top;\n",
       "    }\n",
       "\n",
       "    .dataframe thead th {\n",
       "        text-align: right;\n",
       "    }\n",
       "</style>\n",
       "<table border=\"1\" class=\"dataframe\">\n",
       "  <thead>\n",
       "    <tr style=\"text-align: right;\">\n",
       "      <th></th>\n",
       "      <th>City</th>\n",
       "      <th>Country</th>\n",
       "    </tr>\n",
       "  </thead>\n",
       "  <tbody>\n",
       "    <tr>\n",
       "      <th>0</th>\n",
       "      <td>Lake Jeffborough</td>\n",
       "      <td>Norway</td>\n",
       "    </tr>\n",
       "    <tr>\n",
       "      <th>1</th>\n",
       "      <td>Aaronville</td>\n",
       "      <td>Andorra</td>\n",
       "    </tr>\n",
       "    <tr>\n",
       "      <th>2</th>\n",
       "      <td>East Jordan</td>\n",
       "      <td>Nepal</td>\n",
       "    </tr>\n",
       "    <tr>\n",
       "      <th>3</th>\n",
       "      <td>East Kristintown</td>\n",
       "      <td>Northern Mariana Islands</td>\n",
       "    </tr>\n",
       "    <tr>\n",
       "      <th>4</th>\n",
       "      <td>Andresmouth</td>\n",
       "      <td>Macao</td>\n",
       "    </tr>\n",
       "    <tr>\n",
       "      <th>...</th>\n",
       "      <td>...</td>\n",
       "      <td>...</td>\n",
       "    </tr>\n",
       "    <tr>\n",
       "      <th>9995</th>\n",
       "      <td>Petersport</td>\n",
       "      <td>Cote d'Ivoire</td>\n",
       "    </tr>\n",
       "    <tr>\n",
       "      <th>9996</th>\n",
       "      <td>Briggsport</td>\n",
       "      <td>Namibia</td>\n",
       "    </tr>\n",
       "    <tr>\n",
       "      <th>9997</th>\n",
       "      <td>West Joyceport</td>\n",
       "      <td>United States Virgin Islands</td>\n",
       "    </tr>\n",
       "    <tr>\n",
       "      <th>9998</th>\n",
       "      <td>Camachochester</td>\n",
       "      <td>Niger</td>\n",
       "    </tr>\n",
       "    <tr>\n",
       "      <th>9999</th>\n",
       "      <td>Sparkstown</td>\n",
       "      <td>Tunisia</td>\n",
       "    </tr>\n",
       "  </tbody>\n",
       "</table>\n",
       "<p>10000 rows × 2 columns</p>\n",
       "</div>"
      ],
      "text/plain": [
       "                  City                       Country\n",
       "0     Lake Jeffborough                        Norway\n",
       "1           Aaronville                       Andorra\n",
       "2          East Jordan                         Nepal\n",
       "3     East Kristintown      Northern Mariana Islands\n",
       "4          Andresmouth                         Macao\n",
       "...                ...                           ...\n",
       "9995        Petersport                 Cote d'Ivoire\n",
       "9996        Briggsport                       Namibia\n",
       "9997    West Joyceport  United States Virgin Islands\n",
       "9998    Camachochester                         Niger\n",
       "9999        Sparkstown                       Tunisia\n",
       "\n",
       "[10000 rows x 2 columns]"
      ]
     },
     "execution_count": 507,
     "metadata": {},
     "output_type": "execute_result"
    }
   ],
   "source": [
    "abc  = df.loc[:,[\"City\",\"Country\"]]\n",
    "abc\n"
   ]
  },
  {
   "cell_type": "markdown",
   "metadata": {},
   "source": [
    "#### As seen when checked here"
   ]
  },
  {
   "cell_type": "code",
   "execution_count": 508,
   "metadata": {},
   "outputs": [
    {
     "data": {
      "text/plain": [
       "pandas.core.frame.DataFrame"
      ]
     },
     "execution_count": 508,
     "metadata": {},
     "output_type": "execute_result"
    }
   ],
   "source": [
    "type(abc)"
   ]
  },
  {
   "cell_type": "markdown",
   "metadata": {},
   "source": [
    "### This is important because all the function that work on a dataframe may not work on a series"
   ]
  },
  {
   "cell_type": "code",
   "execution_count": 509,
   "metadata": {},
   "outputs": [
    {
     "data": {
      "text/html": [
       "<div>\n",
       "<style scoped>\n",
       "    .dataframe tbody tr th:only-of-type {\n",
       "        vertical-align: middle;\n",
       "    }\n",
       "\n",
       "    .dataframe tbody tr th {\n",
       "        vertical-align: top;\n",
       "    }\n",
       "\n",
       "    .dataframe thead th {\n",
       "        text-align: right;\n",
       "    }\n",
       "</style>\n",
       "<table border=\"1\" class=\"dataframe\">\n",
       "  <thead>\n",
       "    <tr style=\"text-align: right;\">\n",
       "      <th></th>\n",
       "      <th>City</th>\n",
       "      <th>Country</th>\n",
       "    </tr>\n",
       "  </thead>\n",
       "  <tbody>\n",
       "    <tr>\n",
       "      <th>0</th>\n",
       "      <td>Lake Jeffborough</td>\n",
       "      <td>Norway</td>\n",
       "    </tr>\n",
       "    <tr>\n",
       "      <th>1</th>\n",
       "      <td>Aaronville</td>\n",
       "      <td>Andorra</td>\n",
       "    </tr>\n",
       "    <tr>\n",
       "      <th>2</th>\n",
       "      <td>East Jordan</td>\n",
       "      <td>Nepal</td>\n",
       "    </tr>\n",
       "    <tr>\n",
       "      <th>3</th>\n",
       "      <td>East Kristintown</td>\n",
       "      <td>Northern Mariana Islands</td>\n",
       "    </tr>\n",
       "    <tr>\n",
       "      <th>4</th>\n",
       "      <td>Andresmouth</td>\n",
       "      <td>Macao</td>\n",
       "    </tr>\n",
       "  </tbody>\n",
       "</table>\n",
       "</div>"
      ],
      "text/plain": [
       "               City                   Country\n",
       "0  Lake Jeffborough                    Norway\n",
       "1        Aaronville                   Andorra\n",
       "2       East Jordan                     Nepal\n",
       "3  East Kristintown  Northern Mariana Islands\n",
       "4       Andresmouth                     Macao"
      ]
     },
     "execution_count": 509,
     "metadata": {},
     "output_type": "execute_result"
    }
   ],
   "source": [
    "df.loc[0:4,[\"City\",\"Country\"]]"
   ]
  },
  {
   "cell_type": "code",
   "execution_count": 510,
   "metadata": {},
   "outputs": [
    {
     "data": {
      "text/plain": [
       "Index(['Index', 'Customer Id', 'First Name', 'Last Name', 'Company', 'City',\n",
       "       'Country', 'Phone 1', 'Phone 2', 'Email', 'Subscription Date',\n",
       "       'Website'],\n",
       "      dtype='object')"
      ]
     },
     "execution_count": 510,
     "metadata": {},
     "output_type": "execute_result"
    }
   ],
   "source": [
    "df.columns"
   ]
  },
  {
   "cell_type": "markdown",
   "metadata": {},
   "source": [
    "### In Class assignment\n",
    "\n",
    "Extract first 5 rows and columns City and Country\n"
   ]
  },
  {
   "cell_type": "code",
   "execution_count": 511,
   "metadata": {},
   "outputs": [
    {
     "data": {
      "text/html": [
       "<div>\n",
       "<style scoped>\n",
       "    .dataframe tbody tr th:only-of-type {\n",
       "        vertical-align: middle;\n",
       "    }\n",
       "\n",
       "    .dataframe tbody tr th {\n",
       "        vertical-align: top;\n",
       "    }\n",
       "\n",
       "    .dataframe thead th {\n",
       "        text-align: right;\n",
       "    }\n",
       "</style>\n",
       "<table border=\"1\" class=\"dataframe\">\n",
       "  <thead>\n",
       "    <tr style=\"text-align: right;\">\n",
       "      <th></th>\n",
       "      <th>City</th>\n",
       "      <th>Country</th>\n",
       "    </tr>\n",
       "  </thead>\n",
       "  <tbody>\n",
       "    <tr>\n",
       "      <th>0</th>\n",
       "      <td>Lake Jeffborough</td>\n",
       "      <td>Norway</td>\n",
       "    </tr>\n",
       "    <tr>\n",
       "      <th>1</th>\n",
       "      <td>Aaronville</td>\n",
       "      <td>Andorra</td>\n",
       "    </tr>\n",
       "    <tr>\n",
       "      <th>2</th>\n",
       "      <td>East Jordan</td>\n",
       "      <td>Nepal</td>\n",
       "    </tr>\n",
       "    <tr>\n",
       "      <th>3</th>\n",
       "      <td>East Kristintown</td>\n",
       "      <td>Northern Mariana Islands</td>\n",
       "    </tr>\n",
       "    <tr>\n",
       "      <th>4</th>\n",
       "      <td>Andresmouth</td>\n",
       "      <td>Macao</td>\n",
       "    </tr>\n",
       "    <tr>\n",
       "      <th>5</th>\n",
       "      <td>Lake Madelineburgh</td>\n",
       "      <td>Senegal</td>\n",
       "    </tr>\n",
       "  </tbody>\n",
       "</table>\n",
       "</div>"
      ],
      "text/plain": [
       "                 City                   Country\n",
       "0    Lake Jeffborough                    Norway\n",
       "1          Aaronville                   Andorra\n",
       "2         East Jordan                     Nepal\n",
       "3    East Kristintown  Northern Mariana Islands\n",
       "4         Andresmouth                     Macao\n",
       "5  Lake Madelineburgh                   Senegal"
      ]
     },
     "execution_count": 511,
     "metadata": {},
     "output_type": "execute_result"
    }
   ],
   "source": [
    "df.loc[0:5,[\"City\",\"Country\"]]"
   ]
  },
  {
   "cell_type": "markdown",
   "metadata": {},
   "source": [
    "### Filtering"
   ]
  },
  {
   "cell_type": "markdown",
   "metadata": {},
   "source": [
    "### This is important. Using loc you can filter the row or column within the square bracket. But if you use the just\"df\" shorthand it applies to the entire dataframe. The only way to alter it is to remove columns or rows and assign that to a new variable then reapply the df shorthand again"
   ]
  },
  {
   "cell_type": "code",
   "execution_count": 512,
   "metadata": {
    "collapsed": true
   },
   "outputs": [
    {
     "data": {
      "text/html": [
       "<div>\n",
       "<style scoped>\n",
       "    .dataframe tbody tr th:only-of-type {\n",
       "        vertical-align: middle;\n",
       "    }\n",
       "\n",
       "    .dataframe tbody tr th {\n",
       "        vertical-align: top;\n",
       "    }\n",
       "\n",
       "    .dataframe thead th {\n",
       "        text-align: right;\n",
       "    }\n",
       "</style>\n",
       "<table border=\"1\" class=\"dataframe\">\n",
       "  <thead>\n",
       "    <tr style=\"text-align: right;\">\n",
       "      <th></th>\n",
       "      <th>Country</th>\n",
       "    </tr>\n",
       "  </thead>\n",
       "  <tbody>\n",
       "    <tr>\n",
       "      <th>10</th>\n",
       "      <td>Mauritania</td>\n",
       "    </tr>\n",
       "    <tr>\n",
       "      <th>11</th>\n",
       "      <td>Gambia</td>\n",
       "    </tr>\n",
       "    <tr>\n",
       "      <th>12</th>\n",
       "      <td>Sweden</td>\n",
       "    </tr>\n",
       "    <tr>\n",
       "      <th>13</th>\n",
       "      <td>Netherlands</td>\n",
       "    </tr>\n",
       "    <tr>\n",
       "      <th>14</th>\n",
       "      <td>Dominican Republic</td>\n",
       "    </tr>\n",
       "    <tr>\n",
       "      <th>...</th>\n",
       "      <td>...</td>\n",
       "    </tr>\n",
       "    <tr>\n",
       "      <th>9995</th>\n",
       "      <td>Cote d'Ivoire</td>\n",
       "    </tr>\n",
       "    <tr>\n",
       "      <th>9996</th>\n",
       "      <td>Namibia</td>\n",
       "    </tr>\n",
       "    <tr>\n",
       "      <th>9997</th>\n",
       "      <td>United States Virgin Islands</td>\n",
       "    </tr>\n",
       "    <tr>\n",
       "      <th>9998</th>\n",
       "      <td>Niger</td>\n",
       "    </tr>\n",
       "    <tr>\n",
       "      <th>9999</th>\n",
       "      <td>Tunisia</td>\n",
       "    </tr>\n",
       "  </tbody>\n",
       "</table>\n",
       "<p>9990 rows × 1 columns</p>\n",
       "</div>"
      ],
      "text/plain": [
       "                           Country\n",
       "10                      Mauritania\n",
       "11                          Gambia\n",
       "12                          Sweden\n",
       "13                     Netherlands\n",
       "14              Dominican Republic\n",
       "...                            ...\n",
       "9995                 Cote d'Ivoire\n",
       "9996                       Namibia\n",
       "9997  United States Virgin Islands\n",
       "9998                         Niger\n",
       "9999                       Tunisia\n",
       "\n",
       "[9990 rows x 1 columns]"
      ]
     },
     "execution_count": 512,
     "metadata": {},
     "output_type": "execute_result"
    }
   ],
   "source": [
    "df2 = df.loc[df[\"Index\"] > 10,[\"Country\"]]\n",
    "df2"
   ]
  },
  {
   "cell_type": "code",
   "execution_count": 513,
   "metadata": {
    "collapsed": true
   },
   "outputs": [],
   "source": [
    "df3 = df2.loc[0:3]"
   ]
  },
  {
   "cell_type": "code",
   "execution_count": 514,
   "metadata": {},
   "outputs": [
    {
     "data": {
      "text/html": [
       "<div>\n",
       "<style scoped>\n",
       "    .dataframe tbody tr th:only-of-type {\n",
       "        vertical-align: middle;\n",
       "    }\n",
       "\n",
       "    .dataframe tbody tr th {\n",
       "        vertical-align: top;\n",
       "    }\n",
       "\n",
       "    .dataframe thead th {\n",
       "        text-align: right;\n",
       "    }\n",
       "</style>\n",
       "<table border=\"1\" class=\"dataframe\">\n",
       "  <thead>\n",
       "    <tr style=\"text-align: right;\">\n",
       "      <th></th>\n",
       "      <th>Index</th>\n",
       "      <th>Customer Id</th>\n",
       "      <th>First Name</th>\n",
       "      <th>Last Name</th>\n",
       "      <th>Company</th>\n",
       "      <th>City</th>\n",
       "      <th>Country</th>\n",
       "      <th>Phone 1</th>\n",
       "      <th>Phone 2</th>\n",
       "      <th>Email</th>\n",
       "      <th>Subscription Date</th>\n",
       "      <th>Website</th>\n",
       "    </tr>\n",
       "  </thead>\n",
       "  <tbody>\n",
       "    <tr>\n",
       "      <th>10</th>\n",
       "      <td>11</td>\n",
       "      <td>9653ca648e2E414</td>\n",
       "      <td>Martin</td>\n",
       "      <td>Hawkins</td>\n",
       "      <td>Lopez Inc</td>\n",
       "      <td>Lake Bobton</td>\n",
       "      <td>Mauritania</td>\n",
       "      <td>001-402-567-1320</td>\n",
       "      <td>732-908-7945</td>\n",
       "      <td>danielbuckley@hatfield.info</td>\n",
       "      <td>2021-05-02</td>\n",
       "      <td>https://www.newman.com/</td>\n",
       "    </tr>\n",
       "    <tr>\n",
       "      <th>11</th>\n",
       "      <td>12</td>\n",
       "      <td>e586A2D67bcdB48</td>\n",
       "      <td>Sara</td>\n",
       "      <td>Shaffer</td>\n",
       "      <td>Dudley, Coleman and Green</td>\n",
       "      <td>Orrland</td>\n",
       "      <td>Gambia</td>\n",
       "      <td>4229986278</td>\n",
       "      <td>001-028-824-7381x56737</td>\n",
       "      <td>gabrielaleach@rose.net</td>\n",
       "      <td>2021-04-07</td>\n",
       "      <td>https://www.hoffman-rubio.com/</td>\n",
       "    </tr>\n",
       "    <tr>\n",
       "      <th>12</th>\n",
       "      <td>13</td>\n",
       "      <td>c388ECa44FFe37c</td>\n",
       "      <td>Dave</td>\n",
       "      <td>Moran</td>\n",
       "      <td>Harrell-Donovan</td>\n",
       "      <td>South Elizabeth</td>\n",
       "      <td>Sweden</td>\n",
       "      <td>575.006.7250x9748</td>\n",
       "      <td>262-029-1096</td>\n",
       "      <td>cartermallory@chung.com</td>\n",
       "      <td>2020-02-28</td>\n",
       "      <td>https://hinton.info/</td>\n",
       "    </tr>\n",
       "    <tr>\n",
       "      <th>13</th>\n",
       "      <td>14</td>\n",
       "      <td>f8dddbf9CD6FF92</td>\n",
       "      <td>Glen</td>\n",
       "      <td>Hammond</td>\n",
       "      <td>Schaefer, Chung and Lin</td>\n",
       "      <td>Pamelatown</td>\n",
       "      <td>Netherlands</td>\n",
       "      <td>001-887-543-3745x055</td>\n",
       "      <td>001-955-888-1987x09071</td>\n",
       "      <td>lweeks@hooper.org</td>\n",
       "      <td>2022-03-03</td>\n",
       "      <td>https://bush-huynh.org/</td>\n",
       "    </tr>\n",
       "    <tr>\n",
       "      <th>14</th>\n",
       "      <td>15</td>\n",
       "      <td>86Df56BFCc0a7CA</td>\n",
       "      <td>Catherine</td>\n",
       "      <td>Blackwell</td>\n",
       "      <td>Mack, Garcia and Schaefer</td>\n",
       "      <td>Lake Seth</td>\n",
       "      <td>Dominican Republic</td>\n",
       "      <td>001-915-961-8896x5744</td>\n",
       "      <td>(310)185-3032x0974</td>\n",
       "      <td>calhounalisha@hardin.net</td>\n",
       "      <td>2021-03-30</td>\n",
       "      <td>https://barker-bishop.info/</td>\n",
       "    </tr>\n",
       "  </tbody>\n",
       "</table>\n",
       "</div>"
      ],
      "text/plain": [
       "    Index      Customer Id First Name  Last Name                    Company  \\\n",
       "10     11  9653ca648e2E414     Martin    Hawkins                  Lopez Inc   \n",
       "11     12  e586A2D67bcdB48       Sara    Shaffer  Dudley, Coleman and Green   \n",
       "12     13  c388ECa44FFe37c       Dave      Moran            Harrell-Donovan   \n",
       "13     14  f8dddbf9CD6FF92       Glen    Hammond    Schaefer, Chung and Lin   \n",
       "14     15  86Df56BFCc0a7CA  Catherine  Blackwell  Mack, Garcia and Schaefer   \n",
       "\n",
       "               City             Country                Phone 1  \\\n",
       "10      Lake Bobton          Mauritania       001-402-567-1320   \n",
       "11          Orrland              Gambia             4229986278   \n",
       "12  South Elizabeth              Sweden      575.006.7250x9748   \n",
       "13       Pamelatown         Netherlands   001-887-543-3745x055   \n",
       "14        Lake Seth  Dominican Republic  001-915-961-8896x5744   \n",
       "\n",
       "                   Phone 2                        Email Subscription Date  \\\n",
       "10            732-908-7945  danielbuckley@hatfield.info        2021-05-02   \n",
       "11  001-028-824-7381x56737       gabrielaleach@rose.net        2021-04-07   \n",
       "12            262-029-1096      cartermallory@chung.com        2020-02-28   \n",
       "13  001-955-888-1987x09071            lweeks@hooper.org        2022-03-03   \n",
       "14      (310)185-3032x0974     calhounalisha@hardin.net        2021-03-30   \n",
       "\n",
       "                           Website  \n",
       "10         https://www.newman.com/  \n",
       "11  https://www.hoffman-rubio.com/  \n",
       "12            https://hinton.info/  \n",
       "13         https://bush-huynh.org/  \n",
       "14     https://barker-bishop.info/  "
      ]
     },
     "execution_count": 514,
     "metadata": {},
     "output_type": "execute_result"
    }
   ],
   "source": [
    "# find out all rides greater than 10 miles\n",
    "df.loc[df[\"Index\"] > 10].head()"
   ]
  },
  {
   "cell_type": "code",
   "execution_count": 515,
   "metadata": {},
   "outputs": [
    {
     "data": {
      "text/html": [
       "<div>\n",
       "<style scoped>\n",
       "    .dataframe tbody tr th:only-of-type {\n",
       "        vertical-align: middle;\n",
       "    }\n",
       "\n",
       "    .dataframe tbody tr th {\n",
       "        vertical-align: top;\n",
       "    }\n",
       "\n",
       "    .dataframe thead th {\n",
       "        text-align: right;\n",
       "    }\n",
       "</style>\n",
       "<table border=\"1\" class=\"dataframe\">\n",
       "  <thead>\n",
       "    <tr style=\"text-align: right;\">\n",
       "      <th></th>\n",
       "      <th>Phone 1</th>\n",
       "    </tr>\n",
       "  </thead>\n",
       "  <tbody>\n",
       "    <tr>\n",
       "      <th>13</th>\n",
       "      <td>001-887-543-3745x055</td>\n",
       "    </tr>\n",
       "  </tbody>\n",
       "</table>\n",
       "</div>"
      ],
      "text/plain": [
       "                 Phone 1\n",
       "13  001-887-543-3745x055"
      ]
     },
     "execution_count": 515,
     "metadata": {},
     "output_type": "execute_result"
    }
   ],
   "source": [
    "# Find out all customers with first name Glen and last name Hammond\n",
    "df.loc[(df[\"First Name\"]==\"Glen\")&(df[\"Last Name\"]==\"Hammond\"),[\"Phone 1\"]].head()"
   ]
  },
  {
   "cell_type": "code",
   "execution_count": 516,
   "metadata": {},
   "outputs": [],
   "source": [
    "df = pd.read_csv(r\"C:\\Users\\khait\\Downloads\\Courses\\Course 1\\Resources\\Uber Drives 2016 (1).csv\")"
   ]
  },
  {
   "cell_type": "markdown",
   "metadata": {},
   "source": [
    "#### In class assignment\n",
    "\n",
    "1. Find all trips with distance > 10 miles and originating from Cary and Morris.\n",
    "\n",
    "2. Extract top 3 rows from the filtered dataset\n"
   ]
  },
  {
   "cell_type": "code",
   "execution_count": 528,
   "metadata": {},
   "outputs": [
    {
     "data": {
      "text/html": [
       "<div>\n",
       "<style scoped>\n",
       "    .dataframe tbody tr th:only-of-type {\n",
       "        vertical-align: middle;\n",
       "    }\n",
       "\n",
       "    .dataframe tbody tr th {\n",
       "        vertical-align: top;\n",
       "    }\n",
       "\n",
       "    .dataframe thead th {\n",
       "        text-align: right;\n",
       "    }\n",
       "</style>\n",
       "<table border=\"1\" class=\"dataframe\">\n",
       "  <thead>\n",
       "    <tr style=\"text-align: right;\">\n",
       "      <th></th>\n",
       "      <th>START_DATE*</th>\n",
       "      <th>END_DATE*</th>\n",
       "      <th>CATEGORY*</th>\n",
       "      <th>START*</th>\n",
       "      <th>STOP*</th>\n",
       "      <th>MILES*</th>\n",
       "      <th>PURPOSE*</th>\n",
       "      <th>miles_cat</th>\n",
       "    </tr>\n",
       "  </thead>\n",
       "  <tbody>\n",
       "    <tr>\n",
       "      <th>28</th>\n",
       "      <td>1/15/2016 11:43</td>\n",
       "      <td>1/15/2016 12:03</td>\n",
       "      <td>Business</td>\n",
       "      <td>Cary</td>\n",
       "      <td>Durham</td>\n",
       "      <td>10.4</td>\n",
       "      <td>Meal/Entertain</td>\n",
       "      <td>Long Trip</td>\n",
       "    </tr>\n",
       "    <tr>\n",
       "      <th>34</th>\n",
       "      <td>1/20/2016 10:36</td>\n",
       "      <td>1/20/2016 11:11</td>\n",
       "      <td>Business</td>\n",
       "      <td>Cary</td>\n",
       "      <td>Raleigh</td>\n",
       "      <td>17.1</td>\n",
       "      <td>Meeting</td>\n",
       "      <td>Long Trip</td>\n",
       "    </tr>\n",
       "    <tr>\n",
       "      <th>46</th>\n",
       "      <td>1/27/2016 10:19</td>\n",
       "      <td>1/27/2016 10:48</td>\n",
       "      <td>Business</td>\n",
       "      <td>Cary</td>\n",
       "      <td>Raleigh</td>\n",
       "      <td>18.7</td>\n",
       "      <td>Customer Visit</td>\n",
       "      <td>Long Trip</td>\n",
       "    </tr>\n",
       "  </tbody>\n",
       "</table>\n",
       "</div>"
      ],
      "text/plain": [
       "        START_DATE*        END_DATE* CATEGORY* START*    STOP*  MILES*  \\\n",
       "28  1/15/2016 11:43  1/15/2016 12:03  Business   Cary   Durham    10.4   \n",
       "34  1/20/2016 10:36  1/20/2016 11:11  Business   Cary  Raleigh    17.1   \n",
       "46  1/27/2016 10:19  1/27/2016 10:48  Business   Cary  Raleigh    18.7   \n",
       "\n",
       "          PURPOSE*  miles_cat  \n",
       "28  Meal/Entertain  Long Trip  \n",
       "34         Meeting  Long Trip  \n",
       "46  Customer Visit  Long Trip  "
      ]
     },
     "execution_count": 528,
     "metadata": {},
     "output_type": "execute_result"
    }
   ],
   "source": [
    "df.loc[(df[\"MILES*\"] > 10) & ((df[\"START*\"]==\"Cary\")|(df[\"START*\"]==\"Morris\"))].head(3)\n"
   ]
  },
  {
   "cell_type": "markdown",
   "metadata": {},
   "source": [
    "### Sorting"
   ]
  },
  {
   "cell_type": "code",
   "execution_count": 532,
   "metadata": {},
   "outputs": [
    {
     "data": {
      "text/html": [
       "<div>\n",
       "<style scoped>\n",
       "    .dataframe tbody tr th:only-of-type {\n",
       "        vertical-align: middle;\n",
       "    }\n",
       "\n",
       "    .dataframe tbody tr th {\n",
       "        vertical-align: top;\n",
       "    }\n",
       "\n",
       "    .dataframe thead th {\n",
       "        text-align: right;\n",
       "    }\n",
       "</style>\n",
       "<table border=\"1\" class=\"dataframe\">\n",
       "  <thead>\n",
       "    <tr style=\"text-align: right;\">\n",
       "      <th></th>\n",
       "      <th>START_DATE*</th>\n",
       "      <th>END_DATE*</th>\n",
       "      <th>CATEGORY*</th>\n",
       "      <th>START*</th>\n",
       "      <th>STOP*</th>\n",
       "      <th>MILES*</th>\n",
       "      <th>PURPOSE*</th>\n",
       "      <th>miles_cat</th>\n",
       "    </tr>\n",
       "  </thead>\n",
       "  <tbody>\n",
       "    <tr>\n",
       "      <th>1155</th>\n",
       "      <td>Totals</td>\n",
       "      <td>NaN</td>\n",
       "      <td>NaN</td>\n",
       "      <td>NaN</td>\n",
       "      <td>NaN</td>\n",
       "      <td>12204.7</td>\n",
       "      <td>NaN</td>\n",
       "      <td>Long Trip</td>\n",
       "    </tr>\n",
       "    <tr>\n",
       "      <th>269</th>\n",
       "      <td>3/25/2016 16:52</td>\n",
       "      <td>3/25/2016 22:22</td>\n",
       "      <td>Business</td>\n",
       "      <td>Latta</td>\n",
       "      <td>Jacksonville</td>\n",
       "      <td>310.3</td>\n",
       "      <td>Customer Visit</td>\n",
       "      <td>Long Trip</td>\n",
       "    </tr>\n",
       "    <tr>\n",
       "      <th>270</th>\n",
       "      <td>3/25/2016 22:54</td>\n",
       "      <td>3/26/2016 1:39</td>\n",
       "      <td>Business</td>\n",
       "      <td>Jacksonville</td>\n",
       "      <td>Kissimmee</td>\n",
       "      <td>201.0</td>\n",
       "      <td>Meeting</td>\n",
       "      <td>Long Trip</td>\n",
       "    </tr>\n",
       "    <tr>\n",
       "      <th>881</th>\n",
       "      <td>10/30/2016 15:22</td>\n",
       "      <td>10/30/2016 18:23</td>\n",
       "      <td>Business</td>\n",
       "      <td>Asheville</td>\n",
       "      <td>Mebane</td>\n",
       "      <td>195.9</td>\n",
       "      <td>NaN</td>\n",
       "      <td>Long Trip</td>\n",
       "    </tr>\n",
       "    <tr>\n",
       "      <th>776</th>\n",
       "      <td>9/27/2016 21:01</td>\n",
       "      <td>9/28/2016 2:37</td>\n",
       "      <td>Business</td>\n",
       "      <td>Unknown Location</td>\n",
       "      <td>Unknown Location</td>\n",
       "      <td>195.6</td>\n",
       "      <td>NaN</td>\n",
       "      <td>Long Trip</td>\n",
       "    </tr>\n",
       "  </tbody>\n",
       "</table>\n",
       "</div>"
      ],
      "text/plain": [
       "           START_DATE*         END_DATE* CATEGORY*            START*  \\\n",
       "1155            Totals               NaN       NaN               NaN   \n",
       "269    3/25/2016 16:52   3/25/2016 22:22  Business             Latta   \n",
       "270    3/25/2016 22:54    3/26/2016 1:39  Business      Jacksonville   \n",
       "881   10/30/2016 15:22  10/30/2016 18:23  Business         Asheville   \n",
       "776    9/27/2016 21:01    9/28/2016 2:37  Business  Unknown Location   \n",
       "\n",
       "                 STOP*   MILES*        PURPOSE*  miles_cat  \n",
       "1155               NaN  12204.7             NaN  Long Trip  \n",
       "269       Jacksonville    310.3  Customer Visit  Long Trip  \n",
       "270          Kissimmee    201.0         Meeting  Long Trip  \n",
       "881             Mebane    195.9             NaN  Long Trip  \n",
       "776   Unknown Location    195.6             NaN  Long Trip  "
      ]
     },
     "execution_count": 532,
     "metadata": {},
     "output_type": "execute_result"
    }
   ],
   "source": [
    "df.sort_values(by=[\"MILES*\"],ascending=False).head(5)"
   ]
  },
  {
   "cell_type": "code",
   "execution_count": 519,
   "metadata": {},
   "outputs": [
    {
     "data": {
      "text/html": [
       "<div>\n",
       "<style scoped>\n",
       "    .dataframe tbody tr th:only-of-type {\n",
       "        vertical-align: middle;\n",
       "    }\n",
       "\n",
       "    .dataframe tbody tr th {\n",
       "        vertical-align: top;\n",
       "    }\n",
       "\n",
       "    .dataframe thead th {\n",
       "        text-align: right;\n",
       "    }\n",
       "</style>\n",
       "<table border=\"1\" class=\"dataframe\">\n",
       "  <thead>\n",
       "    <tr style=\"text-align: right;\">\n",
       "      <th></th>\n",
       "      <th>START_DATE*</th>\n",
       "      <th>END_DATE*</th>\n",
       "      <th>CATEGORY*</th>\n",
       "      <th>START*</th>\n",
       "      <th>STOP*</th>\n",
       "      <th>MILES*</th>\n",
       "      <th>PURPOSE*</th>\n",
       "    </tr>\n",
       "  </thead>\n",
       "  <tbody>\n",
       "    <tr>\n",
       "      <th>906</th>\n",
       "      <td>11/4/2016 21:04</td>\n",
       "      <td>11/4/2016 21:20</td>\n",
       "      <td>Business</td>\n",
       "      <td>Agnew</td>\n",
       "      <td>Cory</td>\n",
       "      <td>4.3</td>\n",
       "      <td>NaN</td>\n",
       "    </tr>\n",
       "    <tr>\n",
       "      <th>911</th>\n",
       "      <td>11/6/2016 10:50</td>\n",
       "      <td>11/6/2016 11:04</td>\n",
       "      <td>Business</td>\n",
       "      <td>Agnew</td>\n",
       "      <td>Renaissance</td>\n",
       "      <td>2.4</td>\n",
       "      <td>NaN</td>\n",
       "    </tr>\n",
       "    <tr>\n",
       "      <th>908</th>\n",
       "      <td>11/5/2016 8:34</td>\n",
       "      <td>11/5/2016 8:43</td>\n",
       "      <td>Business</td>\n",
       "      <td>Agnew</td>\n",
       "      <td>Renaissance</td>\n",
       "      <td>2.2</td>\n",
       "      <td>NaN</td>\n",
       "    </tr>\n",
       "    <tr>\n",
       "      <th>910</th>\n",
       "      <td>11/5/2016 19:20</td>\n",
       "      <td>11/5/2016 19:28</td>\n",
       "      <td>Business</td>\n",
       "      <td>Agnew</td>\n",
       "      <td>Agnew</td>\n",
       "      <td>2.2</td>\n",
       "      <td>NaN</td>\n",
       "    </tr>\n",
       "    <tr>\n",
       "      <th>879</th>\n",
       "      <td>10/30/2016 12:58</td>\n",
       "      <td>10/30/2016 13:18</td>\n",
       "      <td>Business</td>\n",
       "      <td>Almond</td>\n",
       "      <td>Bryson City</td>\n",
       "      <td>15.2</td>\n",
       "      <td>NaN</td>\n",
       "    </tr>\n",
       "  </tbody>\n",
       "</table>\n",
       "</div>"
      ],
      "text/plain": [
       "          START_DATE*         END_DATE* CATEGORY*  START*        STOP*  \\\n",
       "906   11/4/2016 21:04   11/4/2016 21:20  Business   Agnew         Cory   \n",
       "911   11/6/2016 10:50   11/6/2016 11:04  Business   Agnew  Renaissance   \n",
       "908    11/5/2016 8:34    11/5/2016 8:43  Business   Agnew  Renaissance   \n",
       "910   11/5/2016 19:20   11/5/2016 19:28  Business   Agnew        Agnew   \n",
       "879  10/30/2016 12:58  10/30/2016 13:18  Business  Almond  Bryson City   \n",
       "\n",
       "     MILES* PURPOSE*  \n",
       "906     4.3      NaN  \n",
       "911     2.4      NaN  \n",
       "908     2.2      NaN  \n",
       "910     2.2      NaN  \n",
       "879    15.2      NaN  "
      ]
     },
     "execution_count": 519,
     "metadata": {},
     "output_type": "execute_result"
    }
   ],
   "source": [
    "df.sort_values(by=[\"START*\", \"MILES*\"],ascending=[True,False]).head(5)"
   ]
  },
  {
   "cell_type": "markdown",
   "metadata": {},
   "source": [
    "### Conditionally adding columns"
   ]
  },
  {
   "cell_type": "code",
   "execution_count": 520,
   "metadata": {
    "collapsed": true
   },
   "outputs": [],
   "source": [
    "import numpy as np\n",
    "df[\"miles_cat\"] = np.where(df[\"MILES*\"] > 5,\"Long Trip\",\"Short Trip\")"
   ]
  },
  {
   "cell_type": "code",
   "execution_count": 521,
   "metadata": {},
   "outputs": [
    {
     "data": {
      "text/html": [
       "<div>\n",
       "<style scoped>\n",
       "    .dataframe tbody tr th:only-of-type {\n",
       "        vertical-align: middle;\n",
       "    }\n",
       "\n",
       "    .dataframe tbody tr th {\n",
       "        vertical-align: top;\n",
       "    }\n",
       "\n",
       "    .dataframe thead th {\n",
       "        text-align: right;\n",
       "    }\n",
       "</style>\n",
       "<table border=\"1\" class=\"dataframe\">\n",
       "  <thead>\n",
       "    <tr style=\"text-align: right;\">\n",
       "      <th></th>\n",
       "      <th>START_DATE*</th>\n",
       "      <th>END_DATE*</th>\n",
       "      <th>CATEGORY*</th>\n",
       "      <th>START*</th>\n",
       "      <th>STOP*</th>\n",
       "      <th>MILES*</th>\n",
       "      <th>PURPOSE*</th>\n",
       "      <th>miles_cat</th>\n",
       "    </tr>\n",
       "  </thead>\n",
       "  <tbody>\n",
       "    <tr>\n",
       "      <th>0</th>\n",
       "      <td>1/1/2016 21:11</td>\n",
       "      <td>1/1/2016 21:17</td>\n",
       "      <td>Business</td>\n",
       "      <td>Fort Pierce</td>\n",
       "      <td>Fort Pierce</td>\n",
       "      <td>5.1</td>\n",
       "      <td>Meal/Entertain</td>\n",
       "      <td>Long Trip</td>\n",
       "    </tr>\n",
       "    <tr>\n",
       "      <th>1</th>\n",
       "      <td>1/2/2016 1:25</td>\n",
       "      <td>1/2/2016 1:37</td>\n",
       "      <td>Business</td>\n",
       "      <td>Fort Pierce</td>\n",
       "      <td>Fort Pierce</td>\n",
       "      <td>5.0</td>\n",
       "      <td>NaN</td>\n",
       "      <td>Short Trip</td>\n",
       "    </tr>\n",
       "    <tr>\n",
       "      <th>2</th>\n",
       "      <td>1/2/2016 20:25</td>\n",
       "      <td>1/2/2016 20:38</td>\n",
       "      <td>Business</td>\n",
       "      <td>Fort Pierce</td>\n",
       "      <td>Fort Pierce</td>\n",
       "      <td>4.8</td>\n",
       "      <td>Errand/Supplies</td>\n",
       "      <td>Short Trip</td>\n",
       "    </tr>\n",
       "    <tr>\n",
       "      <th>3</th>\n",
       "      <td>1/5/2016 17:31</td>\n",
       "      <td>1/5/2016 17:45</td>\n",
       "      <td>Business</td>\n",
       "      <td>Fort Pierce</td>\n",
       "      <td>Fort Pierce</td>\n",
       "      <td>4.7</td>\n",
       "      <td>Meeting</td>\n",
       "      <td>Short Trip</td>\n",
       "    </tr>\n",
       "    <tr>\n",
       "      <th>4</th>\n",
       "      <td>1/6/2016 14:42</td>\n",
       "      <td>1/6/2016 15:49</td>\n",
       "      <td>Business</td>\n",
       "      <td>Fort Pierce</td>\n",
       "      <td>West Palm Beach</td>\n",
       "      <td>63.7</td>\n",
       "      <td>Customer Visit</td>\n",
       "      <td>Long Trip</td>\n",
       "    </tr>\n",
       "  </tbody>\n",
       "</table>\n",
       "</div>"
      ],
      "text/plain": [
       "      START_DATE*       END_DATE* CATEGORY*       START*            STOP*  \\\n",
       "0  1/1/2016 21:11  1/1/2016 21:17  Business  Fort Pierce      Fort Pierce   \n",
       "1   1/2/2016 1:25   1/2/2016 1:37  Business  Fort Pierce      Fort Pierce   \n",
       "2  1/2/2016 20:25  1/2/2016 20:38  Business  Fort Pierce      Fort Pierce   \n",
       "3  1/5/2016 17:31  1/5/2016 17:45  Business  Fort Pierce      Fort Pierce   \n",
       "4  1/6/2016 14:42  1/6/2016 15:49  Business  Fort Pierce  West Palm Beach   \n",
       "\n",
       "   MILES*         PURPOSE*   miles_cat  \n",
       "0     5.1   Meal/Entertain   Long Trip  \n",
       "1     5.0              NaN  Short Trip  \n",
       "2     4.8  Errand/Supplies  Short Trip  \n",
       "3     4.7          Meeting  Short Trip  \n",
       "4    63.7   Customer Visit   Long Trip  "
      ]
     },
     "execution_count": 521,
     "metadata": {},
     "output_type": "execute_result"
    }
   ],
   "source": [
    "df.head()"
   ]
  },
  {
   "cell_type": "code",
   "execution_count": 522,
   "metadata": {
    "collapsed": true
   },
   "outputs": [
    {
     "data": {
      "text/plain": [
       "miles_cat\n",
       "Long Trip     654\n",
       "Short Trip    502\n",
       "Name: count, dtype: int64"
      ]
     },
     "execution_count": 522,
     "metadata": {},
     "output_type": "execute_result"
    }
   ],
   "source": [
    "df[\"miles_cat\"].value_counts()"
   ]
  },
  {
   "cell_type": "code",
   "execution_count": 523,
   "metadata": {
    "collapsed": true
   },
   "outputs": [
    {
     "data": {
      "text/plain": [
       "(654, 8)"
      ]
     },
     "execution_count": 523,
     "metadata": {},
     "output_type": "execute_result"
    }
   ],
   "source": [
    "df.loc[df[\"MILES*\"] > 5].shape"
   ]
  },
  {
   "cell_type": "markdown",
   "metadata": {},
   "source": [
    "## In class Assignment\n",
    "\n",
    "Create a new column with the following condition:\n",
    "\n",
    "a) > 10 - Long Trip\n",
    "\n",
    "b) 5 - 10  - Medium\n",
    "\n",
    "c) < 5 - Short Trip"
   ]
  },
  {
   "cell_type": "markdown",
   "metadata": {},
   "source": [
    "### Groupby Summarize"
   ]
  },
  {
   "cell_type": "code",
   "execution_count": 524,
   "metadata": {},
   "outputs": [
    {
     "data": {
      "text/plain": [
       "START*\n",
       "Agnew         2.775000\n",
       "Almond       15.200000\n",
       "Apex          5.341176\n",
       "Arabi        17.000000\n",
       "Arlington     4.900000\n",
       "Name: MILES*, dtype: float64"
      ]
     },
     "execution_count": 524,
     "metadata": {},
     "output_type": "execute_result"
    }
   ],
   "source": [
    "# for each start loc find the mean distance travelled\n",
    "df.groupby(\"START*\")[\"MILES*\"].agg(\"mean\").head()"
   ]
  },
  {
   "cell_type": "code",
   "execution_count": 525,
   "metadata": {},
   "outputs": [
    {
     "ename": "TypeError",
     "evalue": "agg function failed [how->mean,dtype->object]",
     "output_type": "error",
     "traceback": [
      "\u001b[1;31m---------------------------------------------------------------------------\u001b[0m",
      "\u001b[1;31mTypeError\u001b[0m                                 Traceback (most recent call last)",
      "File \u001b[1;32mc:\\ProgramData\\anaconda3\\Lib\\site-packages\\pandas\\core\\groupby\\groupby.py:1942\u001b[0m, in \u001b[0;36mGroupBy._agg_py_fallback\u001b[1;34m(self, how, values, ndim, alt)\u001b[0m\n\u001b[0;32m   1941\u001b[0m \u001b[38;5;28;01mtry\u001b[39;00m:\n\u001b[1;32m-> 1942\u001b[0m     res_values \u001b[38;5;241m=\u001b[39m \u001b[38;5;28mself\u001b[39m\u001b[38;5;241m.\u001b[39m_grouper\u001b[38;5;241m.\u001b[39magg_series(ser, alt, preserve_dtype\u001b[38;5;241m=\u001b[39m\u001b[38;5;28;01mTrue\u001b[39;00m)\n\u001b[0;32m   1943\u001b[0m \u001b[38;5;28;01mexcept\u001b[39;00m \u001b[38;5;167;01mException\u001b[39;00m \u001b[38;5;28;01mas\u001b[39;00m err:\n",
      "File \u001b[1;32mc:\\ProgramData\\anaconda3\\Lib\\site-packages\\pandas\\core\\groupby\\ops.py:864\u001b[0m, in \u001b[0;36mBaseGrouper.agg_series\u001b[1;34m(self, obj, func, preserve_dtype)\u001b[0m\n\u001b[0;32m    862\u001b[0m     preserve_dtype \u001b[38;5;241m=\u001b[39m \u001b[38;5;28;01mTrue\u001b[39;00m\n\u001b[1;32m--> 864\u001b[0m result \u001b[38;5;241m=\u001b[39m \u001b[38;5;28mself\u001b[39m\u001b[38;5;241m.\u001b[39m_aggregate_series_pure_python(obj, func)\n\u001b[0;32m    866\u001b[0m npvalues \u001b[38;5;241m=\u001b[39m lib\u001b[38;5;241m.\u001b[39mmaybe_convert_objects(result, try_float\u001b[38;5;241m=\u001b[39m\u001b[38;5;28;01mFalse\u001b[39;00m)\n",
      "File \u001b[1;32mc:\\ProgramData\\anaconda3\\Lib\\site-packages\\pandas\\core\\groupby\\ops.py:885\u001b[0m, in \u001b[0;36mBaseGrouper._aggregate_series_pure_python\u001b[1;34m(self, obj, func)\u001b[0m\n\u001b[0;32m    884\u001b[0m \u001b[38;5;28;01mfor\u001b[39;00m i, group \u001b[38;5;129;01min\u001b[39;00m \u001b[38;5;28menumerate\u001b[39m(splitter):\n\u001b[1;32m--> 885\u001b[0m     res \u001b[38;5;241m=\u001b[39m func(group)\n\u001b[0;32m    886\u001b[0m     res \u001b[38;5;241m=\u001b[39m extract_result(res)\n",
      "File \u001b[1;32mc:\\ProgramData\\anaconda3\\Lib\\site-packages\\pandas\\core\\groupby\\groupby.py:2454\u001b[0m, in \u001b[0;36mGroupBy.mean.<locals>.<lambda>\u001b[1;34m(x)\u001b[0m\n\u001b[0;32m   2451\u001b[0m \u001b[38;5;28;01melse\u001b[39;00m:\n\u001b[0;32m   2452\u001b[0m     result \u001b[38;5;241m=\u001b[39m \u001b[38;5;28mself\u001b[39m\u001b[38;5;241m.\u001b[39m_cython_agg_general(\n\u001b[0;32m   2453\u001b[0m         \u001b[38;5;124m\"\u001b[39m\u001b[38;5;124mmean\u001b[39m\u001b[38;5;124m\"\u001b[39m,\n\u001b[1;32m-> 2454\u001b[0m         alt\u001b[38;5;241m=\u001b[39m\u001b[38;5;28;01mlambda\u001b[39;00m x: Series(x, copy\u001b[38;5;241m=\u001b[39m\u001b[38;5;28;01mFalse\u001b[39;00m)\u001b[38;5;241m.\u001b[39mmean(numeric_only\u001b[38;5;241m=\u001b[39mnumeric_only),\n\u001b[0;32m   2455\u001b[0m         numeric_only\u001b[38;5;241m=\u001b[39mnumeric_only,\n\u001b[0;32m   2456\u001b[0m     )\n\u001b[0;32m   2457\u001b[0m     \u001b[38;5;28;01mreturn\u001b[39;00m result\u001b[38;5;241m.\u001b[39m__finalize__(\u001b[38;5;28mself\u001b[39m\u001b[38;5;241m.\u001b[39mobj, method\u001b[38;5;241m=\u001b[39m\u001b[38;5;124m\"\u001b[39m\u001b[38;5;124mgroupby\u001b[39m\u001b[38;5;124m\"\u001b[39m)\n",
      "File \u001b[1;32mc:\\ProgramData\\anaconda3\\Lib\\site-packages\\pandas\\core\\series.py:6549\u001b[0m, in \u001b[0;36mSeries.mean\u001b[1;34m(self, axis, skipna, numeric_only, **kwargs)\u001b[0m\n\u001b[0;32m   6541\u001b[0m \u001b[38;5;129m@doc\u001b[39m(make_doc(\u001b[38;5;124m\"\u001b[39m\u001b[38;5;124mmean\u001b[39m\u001b[38;5;124m\"\u001b[39m, ndim\u001b[38;5;241m=\u001b[39m\u001b[38;5;241m1\u001b[39m))\n\u001b[0;32m   6542\u001b[0m \u001b[38;5;28;01mdef\u001b[39;00m \u001b[38;5;21mmean\u001b[39m(\n\u001b[0;32m   6543\u001b[0m     \u001b[38;5;28mself\u001b[39m,\n\u001b[1;32m   (...)\u001b[0m\n\u001b[0;32m   6547\u001b[0m     \u001b[38;5;241m*\u001b[39m\u001b[38;5;241m*\u001b[39mkwargs,\n\u001b[0;32m   6548\u001b[0m ):\n\u001b[1;32m-> 6549\u001b[0m     \u001b[38;5;28;01mreturn\u001b[39;00m NDFrame\u001b[38;5;241m.\u001b[39mmean(\u001b[38;5;28mself\u001b[39m, axis, skipna, numeric_only, \u001b[38;5;241m*\u001b[39m\u001b[38;5;241m*\u001b[39mkwargs)\n",
      "File \u001b[1;32mc:\\ProgramData\\anaconda3\\Lib\\site-packages\\pandas\\core\\generic.py:12420\u001b[0m, in \u001b[0;36mNDFrame.mean\u001b[1;34m(self, axis, skipna, numeric_only, **kwargs)\u001b[0m\n\u001b[0;32m  12413\u001b[0m \u001b[38;5;28;01mdef\u001b[39;00m \u001b[38;5;21mmean\u001b[39m(\n\u001b[0;32m  12414\u001b[0m     \u001b[38;5;28mself\u001b[39m,\n\u001b[0;32m  12415\u001b[0m     axis: Axis \u001b[38;5;241m|\u001b[39m \u001b[38;5;28;01mNone\u001b[39;00m \u001b[38;5;241m=\u001b[39m \u001b[38;5;241m0\u001b[39m,\n\u001b[1;32m   (...)\u001b[0m\n\u001b[0;32m  12418\u001b[0m     \u001b[38;5;241m*\u001b[39m\u001b[38;5;241m*\u001b[39mkwargs,\n\u001b[0;32m  12419\u001b[0m ) \u001b[38;5;241m-\u001b[39m\u001b[38;5;241m>\u001b[39m Series \u001b[38;5;241m|\u001b[39m \u001b[38;5;28mfloat\u001b[39m:\n\u001b[1;32m> 12420\u001b[0m     \u001b[38;5;28;01mreturn\u001b[39;00m \u001b[38;5;28mself\u001b[39m\u001b[38;5;241m.\u001b[39m_stat_function(\n\u001b[0;32m  12421\u001b[0m         \u001b[38;5;124m\"\u001b[39m\u001b[38;5;124mmean\u001b[39m\u001b[38;5;124m\"\u001b[39m, nanops\u001b[38;5;241m.\u001b[39mnanmean, axis, skipna, numeric_only, \u001b[38;5;241m*\u001b[39m\u001b[38;5;241m*\u001b[39mkwargs\n\u001b[0;32m  12422\u001b[0m     )\n",
      "File \u001b[1;32mc:\\ProgramData\\anaconda3\\Lib\\site-packages\\pandas\\core\\generic.py:12377\u001b[0m, in \u001b[0;36mNDFrame._stat_function\u001b[1;34m(self, name, func, axis, skipna, numeric_only, **kwargs)\u001b[0m\n\u001b[0;32m  12375\u001b[0m validate_bool_kwarg(skipna, \u001b[38;5;124m\"\u001b[39m\u001b[38;5;124mskipna\u001b[39m\u001b[38;5;124m\"\u001b[39m, none_allowed\u001b[38;5;241m=\u001b[39m\u001b[38;5;28;01mFalse\u001b[39;00m)\n\u001b[1;32m> 12377\u001b[0m \u001b[38;5;28;01mreturn\u001b[39;00m \u001b[38;5;28mself\u001b[39m\u001b[38;5;241m.\u001b[39m_reduce(\n\u001b[0;32m  12378\u001b[0m     func, name\u001b[38;5;241m=\u001b[39mname, axis\u001b[38;5;241m=\u001b[39maxis, skipna\u001b[38;5;241m=\u001b[39mskipna, numeric_only\u001b[38;5;241m=\u001b[39mnumeric_only\n\u001b[0;32m  12379\u001b[0m )\n",
      "File \u001b[1;32mc:\\ProgramData\\anaconda3\\Lib\\site-packages\\pandas\\core\\series.py:6457\u001b[0m, in \u001b[0;36mSeries._reduce\u001b[1;34m(self, op, name, axis, skipna, numeric_only, filter_type, **kwds)\u001b[0m\n\u001b[0;32m   6453\u001b[0m     \u001b[38;5;28;01mraise\u001b[39;00m \u001b[38;5;167;01mTypeError\u001b[39;00m(\n\u001b[0;32m   6454\u001b[0m         \u001b[38;5;124mf\u001b[39m\u001b[38;5;124m\"\u001b[39m\u001b[38;5;124mSeries.\u001b[39m\u001b[38;5;132;01m{\u001b[39;00mname\u001b[38;5;132;01m}\u001b[39;00m\u001b[38;5;124m does not allow \u001b[39m\u001b[38;5;132;01m{\u001b[39;00mkwd_name\u001b[38;5;132;01m}\u001b[39;00m\u001b[38;5;124m=\u001b[39m\u001b[38;5;132;01m{\u001b[39;00mnumeric_only\u001b[38;5;132;01m}\u001b[39;00m\u001b[38;5;124m \u001b[39m\u001b[38;5;124m\"\u001b[39m\n\u001b[0;32m   6455\u001b[0m         \u001b[38;5;124m\"\u001b[39m\u001b[38;5;124mwith non-numeric dtypes.\u001b[39m\u001b[38;5;124m\"\u001b[39m\n\u001b[0;32m   6456\u001b[0m     )\n\u001b[1;32m-> 6457\u001b[0m \u001b[38;5;28;01mreturn\u001b[39;00m op(delegate, skipna\u001b[38;5;241m=\u001b[39mskipna, \u001b[38;5;241m*\u001b[39m\u001b[38;5;241m*\u001b[39mkwds)\n",
      "File \u001b[1;32mc:\\ProgramData\\anaconda3\\Lib\\site-packages\\pandas\\core\\nanops.py:147\u001b[0m, in \u001b[0;36mbottleneck_switch.__call__.<locals>.f\u001b[1;34m(values, axis, skipna, **kwds)\u001b[0m\n\u001b[0;32m    146\u001b[0m \u001b[38;5;28;01melse\u001b[39;00m:\n\u001b[1;32m--> 147\u001b[0m     result \u001b[38;5;241m=\u001b[39m alt(values, axis\u001b[38;5;241m=\u001b[39maxis, skipna\u001b[38;5;241m=\u001b[39mskipna, \u001b[38;5;241m*\u001b[39m\u001b[38;5;241m*\u001b[39mkwds)\n\u001b[0;32m    149\u001b[0m \u001b[38;5;28;01mreturn\u001b[39;00m result\n",
      "File \u001b[1;32mc:\\ProgramData\\anaconda3\\Lib\\site-packages\\pandas\\core\\nanops.py:404\u001b[0m, in \u001b[0;36m_datetimelike_compat.<locals>.new_func\u001b[1;34m(values, axis, skipna, mask, **kwargs)\u001b[0m\n\u001b[0;32m    402\u001b[0m     mask \u001b[38;5;241m=\u001b[39m isna(values)\n\u001b[1;32m--> 404\u001b[0m result \u001b[38;5;241m=\u001b[39m func(values, axis\u001b[38;5;241m=\u001b[39maxis, skipna\u001b[38;5;241m=\u001b[39mskipna, mask\u001b[38;5;241m=\u001b[39mmask, \u001b[38;5;241m*\u001b[39m\u001b[38;5;241m*\u001b[39mkwargs)\n\u001b[0;32m    406\u001b[0m \u001b[38;5;28;01mif\u001b[39;00m datetimelike:\n",
      "File \u001b[1;32mc:\\ProgramData\\anaconda3\\Lib\\site-packages\\pandas\\core\\nanops.py:720\u001b[0m, in \u001b[0;36mnanmean\u001b[1;34m(values, axis, skipna, mask)\u001b[0m\n\u001b[0;32m    719\u001b[0m the_sum \u001b[38;5;241m=\u001b[39m values\u001b[38;5;241m.\u001b[39msum(axis, dtype\u001b[38;5;241m=\u001b[39mdtype_sum)\n\u001b[1;32m--> 720\u001b[0m the_sum \u001b[38;5;241m=\u001b[39m _ensure_numeric(the_sum)\n\u001b[0;32m    722\u001b[0m \u001b[38;5;28;01mif\u001b[39;00m axis \u001b[38;5;129;01mis\u001b[39;00m \u001b[38;5;129;01mnot\u001b[39;00m \u001b[38;5;28;01mNone\u001b[39;00m \u001b[38;5;129;01mand\u001b[39;00m \u001b[38;5;28mgetattr\u001b[39m(the_sum, \u001b[38;5;124m\"\u001b[39m\u001b[38;5;124mndim\u001b[39m\u001b[38;5;124m\"\u001b[39m, \u001b[38;5;28;01mFalse\u001b[39;00m):\n",
      "File \u001b[1;32mc:\\ProgramData\\anaconda3\\Lib\\site-packages\\pandas\\core\\nanops.py:1701\u001b[0m, in \u001b[0;36m_ensure_numeric\u001b[1;34m(x)\u001b[0m\n\u001b[0;32m   1699\u001b[0m \u001b[38;5;28;01mif\u001b[39;00m \u001b[38;5;28misinstance\u001b[39m(x, \u001b[38;5;28mstr\u001b[39m):\n\u001b[0;32m   1700\u001b[0m     \u001b[38;5;66;03m# GH#44008, GH#36703 avoid casting e.g. strings to numeric\u001b[39;00m\n\u001b[1;32m-> 1701\u001b[0m     \u001b[38;5;28;01mraise\u001b[39;00m \u001b[38;5;167;01mTypeError\u001b[39;00m(\u001b[38;5;124mf\u001b[39m\u001b[38;5;124m\"\u001b[39m\u001b[38;5;124mCould not convert string \u001b[39m\u001b[38;5;124m'\u001b[39m\u001b[38;5;132;01m{\u001b[39;00mx\u001b[38;5;132;01m}\u001b[39;00m\u001b[38;5;124m'\u001b[39m\u001b[38;5;124m to numeric\u001b[39m\u001b[38;5;124m\"\u001b[39m)\n\u001b[0;32m   1702\u001b[0m \u001b[38;5;28;01mtry\u001b[39;00m:\n",
      "\u001b[1;31mTypeError\u001b[0m: Could not convert string '11/4/2016 21:0411/5/2016 8:3411/5/2016 19:2011/6/2016 10:50' to numeric",
      "\nThe above exception was the direct cause of the following exception:\n",
      "\u001b[1;31mTypeError\u001b[0m                                 Traceback (most recent call last)",
      "Cell \u001b[1;32mIn[525], line 2\u001b[0m\n\u001b[0;32m      1\u001b[0m \u001b[38;5;66;03m# for each start loc find the mean & the total dist travelled\u001b[39;00m\n\u001b[1;32m----> 2\u001b[0m df\u001b[38;5;241m.\u001b[39mgroupby(\u001b[38;5;124m\"\u001b[39m\u001b[38;5;124mSTART*\u001b[39m\u001b[38;5;124m\"\u001b[39m)\u001b[38;5;241m.\u001b[39magg([\u001b[38;5;124m\"\u001b[39m\u001b[38;5;124mmean\u001b[39m\u001b[38;5;124m\"\u001b[39m,\u001b[38;5;124m\"\u001b[39m\u001b[38;5;124msum\u001b[39m\u001b[38;5;124m\"\u001b[39m])\u001b[38;5;241m.\u001b[39mhead()\n",
      "File \u001b[1;32mc:\\ProgramData\\anaconda3\\Lib\\site-packages\\pandas\\core\\groupby\\generic.py:1432\u001b[0m, in \u001b[0;36mDataFrameGroupBy.aggregate\u001b[1;34m(self, func, engine, engine_kwargs, *args, **kwargs)\u001b[0m\n\u001b[0;32m   1429\u001b[0m     kwargs[\u001b[38;5;124m\"\u001b[39m\u001b[38;5;124mengine_kwargs\u001b[39m\u001b[38;5;124m\"\u001b[39m] \u001b[38;5;241m=\u001b[39m engine_kwargs\n\u001b[0;32m   1431\u001b[0m op \u001b[38;5;241m=\u001b[39m GroupByApply(\u001b[38;5;28mself\u001b[39m, func, args\u001b[38;5;241m=\u001b[39margs, kwargs\u001b[38;5;241m=\u001b[39mkwargs)\n\u001b[1;32m-> 1432\u001b[0m result \u001b[38;5;241m=\u001b[39m op\u001b[38;5;241m.\u001b[39magg()\n\u001b[0;32m   1433\u001b[0m \u001b[38;5;28;01mif\u001b[39;00m \u001b[38;5;129;01mnot\u001b[39;00m is_dict_like(func) \u001b[38;5;129;01mand\u001b[39;00m result \u001b[38;5;129;01mis\u001b[39;00m \u001b[38;5;129;01mnot\u001b[39;00m \u001b[38;5;28;01mNone\u001b[39;00m:\n\u001b[0;32m   1434\u001b[0m     \u001b[38;5;66;03m# GH #52849\u001b[39;00m\n\u001b[0;32m   1435\u001b[0m     \u001b[38;5;28;01mif\u001b[39;00m \u001b[38;5;129;01mnot\u001b[39;00m \u001b[38;5;28mself\u001b[39m\u001b[38;5;241m.\u001b[39mas_index \u001b[38;5;129;01mand\u001b[39;00m is_list_like(func):\n",
      "File \u001b[1;32mc:\\ProgramData\\anaconda3\\Lib\\site-packages\\pandas\\core\\apply.py:193\u001b[0m, in \u001b[0;36mApply.agg\u001b[1;34m(self)\u001b[0m\n\u001b[0;32m    190\u001b[0m     \u001b[38;5;28;01mreturn\u001b[39;00m \u001b[38;5;28mself\u001b[39m\u001b[38;5;241m.\u001b[39magg_dict_like()\n\u001b[0;32m    191\u001b[0m \u001b[38;5;28;01melif\u001b[39;00m is_list_like(func):\n\u001b[0;32m    192\u001b[0m     \u001b[38;5;66;03m# we require a list, but not a 'str'\u001b[39;00m\n\u001b[1;32m--> 193\u001b[0m     \u001b[38;5;28;01mreturn\u001b[39;00m \u001b[38;5;28mself\u001b[39m\u001b[38;5;241m.\u001b[39magg_list_like()\n\u001b[0;32m    195\u001b[0m \u001b[38;5;28;01mif\u001b[39;00m \u001b[38;5;28mcallable\u001b[39m(func):\n\u001b[0;32m    196\u001b[0m     f \u001b[38;5;241m=\u001b[39m com\u001b[38;5;241m.\u001b[39mget_cython_func(func)\n",
      "File \u001b[1;32mc:\\ProgramData\\anaconda3\\Lib\\site-packages\\pandas\\core\\apply.py:326\u001b[0m, in \u001b[0;36mApply.agg_list_like\u001b[1;34m(self)\u001b[0m\n\u001b[0;32m    318\u001b[0m \u001b[38;5;28;01mdef\u001b[39;00m \u001b[38;5;21magg_list_like\u001b[39m(\u001b[38;5;28mself\u001b[39m) \u001b[38;5;241m-\u001b[39m\u001b[38;5;241m>\u001b[39m DataFrame \u001b[38;5;241m|\u001b[39m Series:\n\u001b[0;32m    319\u001b[0m \u001b[38;5;250m    \u001b[39m\u001b[38;5;124;03m\"\"\"\u001b[39;00m\n\u001b[0;32m    320\u001b[0m \u001b[38;5;124;03m    Compute aggregation in the case of a list-like argument.\u001b[39;00m\n\u001b[0;32m    321\u001b[0m \n\u001b[1;32m   (...)\u001b[0m\n\u001b[0;32m    324\u001b[0m \u001b[38;5;124;03m    Result of aggregation.\u001b[39;00m\n\u001b[0;32m    325\u001b[0m \u001b[38;5;124;03m    \"\"\"\u001b[39;00m\n\u001b[1;32m--> 326\u001b[0m     \u001b[38;5;28;01mreturn\u001b[39;00m \u001b[38;5;28mself\u001b[39m\u001b[38;5;241m.\u001b[39magg_or_apply_list_like(op_name\u001b[38;5;241m=\u001b[39m\u001b[38;5;124m\"\u001b[39m\u001b[38;5;124magg\u001b[39m\u001b[38;5;124m\"\u001b[39m)\n",
      "File \u001b[1;32mc:\\ProgramData\\anaconda3\\Lib\\site-packages\\pandas\\core\\apply.py:1571\u001b[0m, in \u001b[0;36mGroupByApply.agg_or_apply_list_like\u001b[1;34m(self, op_name)\u001b[0m\n\u001b[0;32m   1566\u001b[0m \u001b[38;5;66;03m# Only set as_index=True on groupby objects, not Window or Resample\u001b[39;00m\n\u001b[0;32m   1567\u001b[0m \u001b[38;5;66;03m# that inherit from this class.\u001b[39;00m\n\u001b[0;32m   1568\u001b[0m \u001b[38;5;28;01mwith\u001b[39;00m com\u001b[38;5;241m.\u001b[39mtemp_setattr(\n\u001b[0;32m   1569\u001b[0m     obj, \u001b[38;5;124m\"\u001b[39m\u001b[38;5;124mas_index\u001b[39m\u001b[38;5;124m\"\u001b[39m, \u001b[38;5;28;01mTrue\u001b[39;00m, condition\u001b[38;5;241m=\u001b[39m\u001b[38;5;28mhasattr\u001b[39m(obj, \u001b[38;5;124m\"\u001b[39m\u001b[38;5;124mas_index\u001b[39m\u001b[38;5;124m\"\u001b[39m)\n\u001b[0;32m   1570\u001b[0m ):\n\u001b[1;32m-> 1571\u001b[0m     keys, results \u001b[38;5;241m=\u001b[39m \u001b[38;5;28mself\u001b[39m\u001b[38;5;241m.\u001b[39mcompute_list_like(op_name, selected_obj, kwargs)\n\u001b[0;32m   1572\u001b[0m result \u001b[38;5;241m=\u001b[39m \u001b[38;5;28mself\u001b[39m\u001b[38;5;241m.\u001b[39mwrap_results_list_like(keys, results)\n\u001b[0;32m   1573\u001b[0m \u001b[38;5;28;01mreturn\u001b[39;00m result\n",
      "File \u001b[1;32mc:\\ProgramData\\anaconda3\\Lib\\site-packages\\pandas\\core\\apply.py:385\u001b[0m, in \u001b[0;36mApply.compute_list_like\u001b[1;34m(self, op_name, selected_obj, kwargs)\u001b[0m\n\u001b[0;32m    379\u001b[0m colg \u001b[38;5;241m=\u001b[39m obj\u001b[38;5;241m.\u001b[39m_gotitem(col, ndim\u001b[38;5;241m=\u001b[39m\u001b[38;5;241m1\u001b[39m, subset\u001b[38;5;241m=\u001b[39mselected_obj\u001b[38;5;241m.\u001b[39miloc[:, index])\n\u001b[0;32m    380\u001b[0m args \u001b[38;5;241m=\u001b[39m (\n\u001b[0;32m    381\u001b[0m     [\u001b[38;5;28mself\u001b[39m\u001b[38;5;241m.\u001b[39maxis, \u001b[38;5;241m*\u001b[39m\u001b[38;5;28mself\u001b[39m\u001b[38;5;241m.\u001b[39margs]\n\u001b[0;32m    382\u001b[0m     \u001b[38;5;28;01mif\u001b[39;00m include_axis(op_name, colg)\n\u001b[0;32m    383\u001b[0m     \u001b[38;5;28;01melse\u001b[39;00m \u001b[38;5;28mself\u001b[39m\u001b[38;5;241m.\u001b[39margs\n\u001b[0;32m    384\u001b[0m )\n\u001b[1;32m--> 385\u001b[0m new_res \u001b[38;5;241m=\u001b[39m \u001b[38;5;28mgetattr\u001b[39m(colg, op_name)(func, \u001b[38;5;241m*\u001b[39margs, \u001b[38;5;241m*\u001b[39m\u001b[38;5;241m*\u001b[39mkwargs)\n\u001b[0;32m    386\u001b[0m results\u001b[38;5;241m.\u001b[39mappend(new_res)\n\u001b[0;32m    387\u001b[0m indices\u001b[38;5;241m.\u001b[39mappend(index)\n",
      "File \u001b[1;32mc:\\ProgramData\\anaconda3\\Lib\\site-packages\\pandas\\core\\groupby\\generic.py:257\u001b[0m, in \u001b[0;36mSeriesGroupBy.aggregate\u001b[1;34m(self, func, engine, engine_kwargs, *args, **kwargs)\u001b[0m\n\u001b[0;32m    255\u001b[0m kwargs[\u001b[38;5;124m\"\u001b[39m\u001b[38;5;124mengine\u001b[39m\u001b[38;5;124m\"\u001b[39m] \u001b[38;5;241m=\u001b[39m engine\n\u001b[0;32m    256\u001b[0m kwargs[\u001b[38;5;124m\"\u001b[39m\u001b[38;5;124mengine_kwargs\u001b[39m\u001b[38;5;124m\"\u001b[39m] \u001b[38;5;241m=\u001b[39m engine_kwargs\n\u001b[1;32m--> 257\u001b[0m ret \u001b[38;5;241m=\u001b[39m \u001b[38;5;28mself\u001b[39m\u001b[38;5;241m.\u001b[39m_aggregate_multiple_funcs(func, \u001b[38;5;241m*\u001b[39margs, \u001b[38;5;241m*\u001b[39m\u001b[38;5;241m*\u001b[39mkwargs)\n\u001b[0;32m    258\u001b[0m \u001b[38;5;28;01mif\u001b[39;00m relabeling:\n\u001b[0;32m    259\u001b[0m     \u001b[38;5;66;03m# columns is not narrowed by mypy from relabeling flag\u001b[39;00m\n\u001b[0;32m    260\u001b[0m     \u001b[38;5;28;01massert\u001b[39;00m columns \u001b[38;5;129;01mis\u001b[39;00m \u001b[38;5;129;01mnot\u001b[39;00m \u001b[38;5;28;01mNone\u001b[39;00m  \u001b[38;5;66;03m# for mypy\u001b[39;00m\n",
      "File \u001b[1;32mc:\\ProgramData\\anaconda3\\Lib\\site-packages\\pandas\\core\\groupby\\generic.py:362\u001b[0m, in \u001b[0;36mSeriesGroupBy._aggregate_multiple_funcs\u001b[1;34m(self, arg, *args, **kwargs)\u001b[0m\n\u001b[0;32m    360\u001b[0m     \u001b[38;5;28;01mfor\u001b[39;00m idx, (name, func) \u001b[38;5;129;01min\u001b[39;00m \u001b[38;5;28menumerate\u001b[39m(arg):\n\u001b[0;32m    361\u001b[0m         key \u001b[38;5;241m=\u001b[39m base\u001b[38;5;241m.\u001b[39mOutputKey(label\u001b[38;5;241m=\u001b[39mname, position\u001b[38;5;241m=\u001b[39midx)\n\u001b[1;32m--> 362\u001b[0m         results[key] \u001b[38;5;241m=\u001b[39m \u001b[38;5;28mself\u001b[39m\u001b[38;5;241m.\u001b[39maggregate(func, \u001b[38;5;241m*\u001b[39margs, \u001b[38;5;241m*\u001b[39m\u001b[38;5;241m*\u001b[39mkwargs)\n\u001b[0;32m    364\u001b[0m \u001b[38;5;28;01mif\u001b[39;00m \u001b[38;5;28many\u001b[39m(\u001b[38;5;28misinstance\u001b[39m(x, DataFrame) \u001b[38;5;28;01mfor\u001b[39;00m x \u001b[38;5;129;01min\u001b[39;00m results\u001b[38;5;241m.\u001b[39mvalues()):\n\u001b[0;32m    365\u001b[0m     \u001b[38;5;28;01mfrom\u001b[39;00m \u001b[38;5;21;01mpandas\u001b[39;00m \u001b[38;5;28;01mimport\u001b[39;00m concat\n",
      "File \u001b[1;32mc:\\ProgramData\\anaconda3\\Lib\\site-packages\\pandas\\core\\groupby\\generic.py:249\u001b[0m, in \u001b[0;36mSeriesGroupBy.aggregate\u001b[1;34m(self, func, engine, engine_kwargs, *args, **kwargs)\u001b[0m\n\u001b[0;32m    247\u001b[0m     \u001b[38;5;28;01mif\u001b[39;00m engine_kwargs \u001b[38;5;129;01mis\u001b[39;00m \u001b[38;5;129;01mnot\u001b[39;00m \u001b[38;5;28;01mNone\u001b[39;00m:\n\u001b[0;32m    248\u001b[0m         kwargs[\u001b[38;5;124m\"\u001b[39m\u001b[38;5;124mengine_kwargs\u001b[39m\u001b[38;5;124m\"\u001b[39m] \u001b[38;5;241m=\u001b[39m engine_kwargs\n\u001b[1;32m--> 249\u001b[0m     \u001b[38;5;28;01mreturn\u001b[39;00m \u001b[38;5;28mgetattr\u001b[39m(\u001b[38;5;28mself\u001b[39m, func)(\u001b[38;5;241m*\u001b[39margs, \u001b[38;5;241m*\u001b[39m\u001b[38;5;241m*\u001b[39mkwargs)\n\u001b[0;32m    251\u001b[0m \u001b[38;5;28;01melif\u001b[39;00m \u001b[38;5;28misinstance\u001b[39m(func, abc\u001b[38;5;241m.\u001b[39mIterable):\n\u001b[0;32m    252\u001b[0m     \u001b[38;5;66;03m# Catch instances of lists / tuples\u001b[39;00m\n\u001b[0;32m    253\u001b[0m     \u001b[38;5;66;03m# but not the class list / tuple itself.\u001b[39;00m\n\u001b[0;32m    254\u001b[0m     func \u001b[38;5;241m=\u001b[39m maybe_mangle_lambdas(func)\n",
      "File \u001b[1;32mc:\\ProgramData\\anaconda3\\Lib\\site-packages\\pandas\\core\\groupby\\groupby.py:2452\u001b[0m, in \u001b[0;36mGroupBy.mean\u001b[1;34m(self, numeric_only, engine, engine_kwargs)\u001b[0m\n\u001b[0;32m   2445\u001b[0m     \u001b[38;5;28;01mreturn\u001b[39;00m \u001b[38;5;28mself\u001b[39m\u001b[38;5;241m.\u001b[39m_numba_agg_general(\n\u001b[0;32m   2446\u001b[0m         grouped_mean,\n\u001b[0;32m   2447\u001b[0m         executor\u001b[38;5;241m.\u001b[39mfloat_dtype_mapping,\n\u001b[0;32m   2448\u001b[0m         engine_kwargs,\n\u001b[0;32m   2449\u001b[0m         min_periods\u001b[38;5;241m=\u001b[39m\u001b[38;5;241m0\u001b[39m,\n\u001b[0;32m   2450\u001b[0m     )\n\u001b[0;32m   2451\u001b[0m \u001b[38;5;28;01melse\u001b[39;00m:\n\u001b[1;32m-> 2452\u001b[0m     result \u001b[38;5;241m=\u001b[39m \u001b[38;5;28mself\u001b[39m\u001b[38;5;241m.\u001b[39m_cython_agg_general(\n\u001b[0;32m   2453\u001b[0m         \u001b[38;5;124m\"\u001b[39m\u001b[38;5;124mmean\u001b[39m\u001b[38;5;124m\"\u001b[39m,\n\u001b[0;32m   2454\u001b[0m         alt\u001b[38;5;241m=\u001b[39m\u001b[38;5;28;01mlambda\u001b[39;00m x: Series(x, copy\u001b[38;5;241m=\u001b[39m\u001b[38;5;28;01mFalse\u001b[39;00m)\u001b[38;5;241m.\u001b[39mmean(numeric_only\u001b[38;5;241m=\u001b[39mnumeric_only),\n\u001b[0;32m   2455\u001b[0m         numeric_only\u001b[38;5;241m=\u001b[39mnumeric_only,\n\u001b[0;32m   2456\u001b[0m     )\n\u001b[0;32m   2457\u001b[0m     \u001b[38;5;28;01mreturn\u001b[39;00m result\u001b[38;5;241m.\u001b[39m__finalize__(\u001b[38;5;28mself\u001b[39m\u001b[38;5;241m.\u001b[39mobj, method\u001b[38;5;241m=\u001b[39m\u001b[38;5;124m\"\u001b[39m\u001b[38;5;124mgroupby\u001b[39m\u001b[38;5;124m\"\u001b[39m)\n",
      "File \u001b[1;32mc:\\ProgramData\\anaconda3\\Lib\\site-packages\\pandas\\core\\groupby\\groupby.py:1998\u001b[0m, in \u001b[0;36mGroupBy._cython_agg_general\u001b[1;34m(self, how, alt, numeric_only, min_count, **kwargs)\u001b[0m\n\u001b[0;32m   1995\u001b[0m     result \u001b[38;5;241m=\u001b[39m \u001b[38;5;28mself\u001b[39m\u001b[38;5;241m.\u001b[39m_agg_py_fallback(how, values, ndim\u001b[38;5;241m=\u001b[39mdata\u001b[38;5;241m.\u001b[39mndim, alt\u001b[38;5;241m=\u001b[39malt)\n\u001b[0;32m   1996\u001b[0m     \u001b[38;5;28;01mreturn\u001b[39;00m result\n\u001b[1;32m-> 1998\u001b[0m new_mgr \u001b[38;5;241m=\u001b[39m data\u001b[38;5;241m.\u001b[39mgrouped_reduce(array_func)\n\u001b[0;32m   1999\u001b[0m res \u001b[38;5;241m=\u001b[39m \u001b[38;5;28mself\u001b[39m\u001b[38;5;241m.\u001b[39m_wrap_agged_manager(new_mgr)\n\u001b[0;32m   2000\u001b[0m \u001b[38;5;28;01mif\u001b[39;00m how \u001b[38;5;129;01min\u001b[39;00m [\u001b[38;5;124m\"\u001b[39m\u001b[38;5;124midxmin\u001b[39m\u001b[38;5;124m\"\u001b[39m, \u001b[38;5;124m\"\u001b[39m\u001b[38;5;124midxmax\u001b[39m\u001b[38;5;124m\"\u001b[39m]:\n",
      "File \u001b[1;32mc:\\ProgramData\\anaconda3\\Lib\\site-packages\\pandas\\core\\internals\\base.py:367\u001b[0m, in \u001b[0;36mSingleDataManager.grouped_reduce\u001b[1;34m(self, func)\u001b[0m\n\u001b[0;32m    365\u001b[0m \u001b[38;5;28;01mdef\u001b[39;00m \u001b[38;5;21mgrouped_reduce\u001b[39m(\u001b[38;5;28mself\u001b[39m, func):\n\u001b[0;32m    366\u001b[0m     arr \u001b[38;5;241m=\u001b[39m \u001b[38;5;28mself\u001b[39m\u001b[38;5;241m.\u001b[39marray\n\u001b[1;32m--> 367\u001b[0m     res \u001b[38;5;241m=\u001b[39m func(arr)\n\u001b[0;32m    368\u001b[0m     index \u001b[38;5;241m=\u001b[39m default_index(\u001b[38;5;28mlen\u001b[39m(res))\n\u001b[0;32m    370\u001b[0m     mgr \u001b[38;5;241m=\u001b[39m \u001b[38;5;28mtype\u001b[39m(\u001b[38;5;28mself\u001b[39m)\u001b[38;5;241m.\u001b[39mfrom_array(res, index)\n",
      "File \u001b[1;32mc:\\ProgramData\\anaconda3\\Lib\\site-packages\\pandas\\core\\groupby\\groupby.py:1995\u001b[0m, in \u001b[0;36mGroupBy._cython_agg_general.<locals>.array_func\u001b[1;34m(values)\u001b[0m\n\u001b[0;32m   1992\u001b[0m     \u001b[38;5;28;01mreturn\u001b[39;00m result\n\u001b[0;32m   1994\u001b[0m \u001b[38;5;28;01massert\u001b[39;00m alt \u001b[38;5;129;01mis\u001b[39;00m \u001b[38;5;129;01mnot\u001b[39;00m \u001b[38;5;28;01mNone\u001b[39;00m\n\u001b[1;32m-> 1995\u001b[0m result \u001b[38;5;241m=\u001b[39m \u001b[38;5;28mself\u001b[39m\u001b[38;5;241m.\u001b[39m_agg_py_fallback(how, values, ndim\u001b[38;5;241m=\u001b[39mdata\u001b[38;5;241m.\u001b[39mndim, alt\u001b[38;5;241m=\u001b[39malt)\n\u001b[0;32m   1996\u001b[0m \u001b[38;5;28;01mreturn\u001b[39;00m result\n",
      "File \u001b[1;32mc:\\ProgramData\\anaconda3\\Lib\\site-packages\\pandas\\core\\groupby\\groupby.py:1946\u001b[0m, in \u001b[0;36mGroupBy._agg_py_fallback\u001b[1;34m(self, how, values, ndim, alt)\u001b[0m\n\u001b[0;32m   1944\u001b[0m     msg \u001b[38;5;241m=\u001b[39m \u001b[38;5;124mf\u001b[39m\u001b[38;5;124m\"\u001b[39m\u001b[38;5;124magg function failed [how->\u001b[39m\u001b[38;5;132;01m{\u001b[39;00mhow\u001b[38;5;132;01m}\u001b[39;00m\u001b[38;5;124m,dtype->\u001b[39m\u001b[38;5;132;01m{\u001b[39;00mser\u001b[38;5;241m.\u001b[39mdtype\u001b[38;5;132;01m}\u001b[39;00m\u001b[38;5;124m]\u001b[39m\u001b[38;5;124m\"\u001b[39m\n\u001b[0;32m   1945\u001b[0m     \u001b[38;5;66;03m# preserve the kind of exception that raised\u001b[39;00m\n\u001b[1;32m-> 1946\u001b[0m     \u001b[38;5;28;01mraise\u001b[39;00m \u001b[38;5;28mtype\u001b[39m(err)(msg) \u001b[38;5;28;01mfrom\u001b[39;00m \u001b[38;5;21;01merr\u001b[39;00m\n\u001b[0;32m   1948\u001b[0m \u001b[38;5;28;01mif\u001b[39;00m ser\u001b[38;5;241m.\u001b[39mdtype \u001b[38;5;241m==\u001b[39m \u001b[38;5;28mobject\u001b[39m:\n\u001b[0;32m   1949\u001b[0m     res_values \u001b[38;5;241m=\u001b[39m res_values\u001b[38;5;241m.\u001b[39mastype(\u001b[38;5;28mobject\u001b[39m, copy\u001b[38;5;241m=\u001b[39m\u001b[38;5;28;01mFalse\u001b[39;00m)\n",
      "\u001b[1;31mTypeError\u001b[0m: agg function failed [how->mean,dtype->object]"
     ]
    }
   ],
   "source": [
    "# for each start loc find the mean & the total dist travelled\n",
    "df.groupby(\"START*\").agg([\"mean\",\"sum\"]).head()"
   ]
  },
  {
   "cell_type": "markdown",
   "metadata": {},
   "source": [
    "### In class assignment\n",
    "\n",
    "Find most recent & the earliest travelled date and mean distance traveled for each start city"
   ]
  },
  {
   "cell_type": "markdown",
   "metadata": {},
   "source": [
    "## Loops and Function"
   ]
  },
  {
   "cell_type": "code",
   "execution_count": null,
   "metadata": {},
   "outputs": [
    {
     "data": {
      "text/plain": [
       "[1, 4, 9, 16]"
      ]
     },
     "execution_count": 21,
     "metadata": {},
     "output_type": "execute_result"
    }
   ],
   "source": [
    "# Basic for loop\n",
    "res = []\n",
    "temp = [1,2,3,4]\n",
    "for i in temp:\n",
    "    res.append(i*i)\n",
    "res\n",
    "\n"
   ]
  },
  {
   "cell_type": "code",
   "execution_count": null,
   "metadata": {
    "collapsed": true
   },
   "outputs": [],
   "source": [
    "# List comprehension way\n",
    "\n",
    "[x*x for x in temp]"
   ]
  },
  {
   "cell_type": "code",
   "execution_count": null,
   "metadata": {
    "collapsed": true
   },
   "outputs": [],
   "source": [
    "store_sales = pd.read_csv(\"store_sales.csv\")"
   ]
  },
  {
   "cell_type": "code",
   "execution_count": null,
   "metadata": {},
   "outputs": [
    {
     "data": {
      "text/html": [
       "<div>\n",
       "<style>\n",
       "    .dataframe thead tr:only-child th {\n",
       "        text-align: right;\n",
       "    }\n",
       "\n",
       "    .dataframe thead th {\n",
       "        text-align: left;\n",
       "    }\n",
       "\n",
       "    .dataframe tbody tr th {\n",
       "        vertical-align: top;\n",
       "    }\n",
       "</style>\n",
       "<table border=\"1\" class=\"dataframe\">\n",
       "  <thead>\n",
       "    <tr style=\"text-align: right;\">\n",
       "      <th></th>\n",
       "      <th>store_id</th>\n",
       "      <th>city</th>\n",
       "      <th>Jan</th>\n",
       "      <th>Feb</th>\n",
       "      <th>Mar</th>\n",
       "      <th>Apr</th>\n",
       "      <th>May</th>\n",
       "      <th>Jun</th>\n",
       "      <th>July</th>\n",
       "      <th>Aug</th>\n",
       "      <th>Sep</th>\n",
       "      <th>Oct</th>\n",
       "      <th>Nov</th>\n",
       "      <th>Dec</th>\n",
       "    </tr>\n",
       "  </thead>\n",
       "  <tbody>\n",
       "    <tr>\n",
       "      <th>0</th>\n",
       "      <td>S_1</td>\n",
       "      <td>Texas</td>\n",
       "      <td>8</td>\n",
       "      <td>20</td>\n",
       "      <td>13</td>\n",
       "      <td>21</td>\n",
       "      <td>17</td>\n",
       "      <td>20</td>\n",
       "      <td>24</td>\n",
       "      <td>17</td>\n",
       "      <td>16</td>\n",
       "      <td>9</td>\n",
       "      <td>7</td>\n",
       "      <td>6</td>\n",
       "    </tr>\n",
       "    <tr>\n",
       "      <th>1</th>\n",
       "      <td>S_2</td>\n",
       "      <td>California</td>\n",
       "      <td>12</td>\n",
       "      <td>19</td>\n",
       "      <td>15</td>\n",
       "      <td>15</td>\n",
       "      <td>11</td>\n",
       "      <td>19</td>\n",
       "      <td>7</td>\n",
       "      <td>15</td>\n",
       "      <td>10</td>\n",
       "      <td>11</td>\n",
       "      <td>21</td>\n",
       "      <td>19</td>\n",
       "    </tr>\n",
       "    <tr>\n",
       "      <th>2</th>\n",
       "      <td>S_3</td>\n",
       "      <td>California</td>\n",
       "      <td>16</td>\n",
       "      <td>16</td>\n",
       "      <td>14</td>\n",
       "      <td>19</td>\n",
       "      <td>23</td>\n",
       "      <td>6</td>\n",
       "      <td>13</td>\n",
       "      <td>13</td>\n",
       "      <td>15</td>\n",
       "      <td>14</td>\n",
       "      <td>24</td>\n",
       "      <td>8</td>\n",
       "    </tr>\n",
       "    <tr>\n",
       "      <th>3</th>\n",
       "      <td>S_4</td>\n",
       "      <td>Texas</td>\n",
       "      <td>8</td>\n",
       "      <td>18</td>\n",
       "      <td>13</td>\n",
       "      <td>10</td>\n",
       "      <td>14</td>\n",
       "      <td>14</td>\n",
       "      <td>6</td>\n",
       "      <td>8</td>\n",
       "      <td>8</td>\n",
       "      <td>18</td>\n",
       "      <td>7</td>\n",
       "      <td>11</td>\n",
       "    </tr>\n",
       "    <tr>\n",
       "      <th>4</th>\n",
       "      <td>S_5</td>\n",
       "      <td>Texas</td>\n",
       "      <td>19</td>\n",
       "      <td>5</td>\n",
       "      <td>24</td>\n",
       "      <td>9</td>\n",
       "      <td>5</td>\n",
       "      <td>24</td>\n",
       "      <td>10</td>\n",
       "      <td>5</td>\n",
       "      <td>24</td>\n",
       "      <td>15</td>\n",
       "      <td>6</td>\n",
       "      <td>13</td>\n",
       "    </tr>\n",
       "  </tbody>\n",
       "</table>\n",
       "</div>"
      ],
      "text/plain": [
       "  store_id        city  Jan  Feb  Mar  Apr  May  Jun  July  Aug  Sep  Oct  \\\n",
       "0      S_1       Texas    8   20   13   21   17   20    24   17   16    9   \n",
       "1      S_2  California   12   19   15   15   11   19     7   15   10   11   \n",
       "2      S_3  California   16   16   14   19   23    6    13   13   15   14   \n",
       "3      S_4       Texas    8   18   13   10   14   14     6    8    8   18   \n",
       "4      S_5       Texas   19    5   24    9    5   24    10    5   24   15   \n",
       "\n",
       "   Nov  Dec  \n",
       "0    7    6  \n",
       "1   21   19  \n",
       "2   24    8  \n",
       "3    7   11  \n",
       "4    6   13  "
      ]
     },
     "execution_count": 46,
     "metadata": {},
     "output_type": "execute_result"
    }
   ],
   "source": [
    "store_sales.head()"
   ]
  },
  {
   "cell_type": "code",
   "execution_count": null,
   "metadata": {
    "collapsed": true
   },
   "outputs": [],
   "source": [
    "# find out avg sales for each month\n",
    "# find out avg sales for each store"
   ]
  },
  {
   "cell_type": "code",
   "execution_count": null,
   "metadata": {
    "collapsed": true
   },
   "outputs": [],
   "source": []
  },
  {
   "cell_type": "code",
   "execution_count": null,
   "metadata": {
    "collapsed": true
   },
   "outputs": [],
   "source": [
    "def bonus_func(sales_numbers):\n",
    "    return [\"Eligible\" if x > 15 else \"Not Eligible\" for x in sales_numbers]"
   ]
  },
  {
   "cell_type": "code",
   "execution_count": null,
   "metadata": {},
   "outputs": [
    {
     "data": {
      "text/plain": [
       "['Not Eligible', 'Eligible', 'Eligible']"
      ]
     },
     "execution_count": 58,
     "metadata": {},
     "output_type": "execute_result"
    }
   ],
   "source": [
    "bonus_func([12,23,56])"
   ]
  },
  {
   "cell_type": "code",
   "execution_count": null,
   "metadata": {},
   "outputs": [
    {
     "data": {
      "text/html": [
       "<div>\n",
       "<style>\n",
       "    .dataframe thead tr:only-child th {\n",
       "        text-align: right;\n",
       "    }\n",
       "\n",
       "    .dataframe thead th {\n",
       "        text-align: left;\n",
       "    }\n",
       "\n",
       "    .dataframe tbody tr th {\n",
       "        vertical-align: top;\n",
       "    }\n",
       "</style>\n",
       "<table border=\"1\" class=\"dataframe\">\n",
       "  <thead>\n",
       "    <tr style=\"text-align: right;\">\n",
       "      <th></th>\n",
       "      <th>Jan</th>\n",
       "      <th>Feb</th>\n",
       "      <th>Mar</th>\n",
       "      <th>Apr</th>\n",
       "      <th>May</th>\n",
       "      <th>Jun</th>\n",
       "      <th>July</th>\n",
       "      <th>Aug</th>\n",
       "      <th>Sep</th>\n",
       "      <th>Oct</th>\n",
       "      <th>Nov</th>\n",
       "      <th>Dec</th>\n",
       "    </tr>\n",
       "  </thead>\n",
       "  <tbody>\n",
       "    <tr>\n",
       "      <th>0</th>\n",
       "      <td>Not Eligible</td>\n",
       "      <td>Eligible</td>\n",
       "      <td>Eligible</td>\n",
       "      <td>Not Eligible</td>\n",
       "      <td>Not Eligible</td>\n",
       "      <td>Not Eligible</td>\n",
       "      <td>Not Eligible</td>\n",
       "      <td>Eligible</td>\n",
       "      <td>Eligible</td>\n",
       "      <td>Eligible</td>\n",
       "      <td>Not Eligible</td>\n",
       "      <td>Eligible</td>\n",
       "    </tr>\n",
       "    <tr>\n",
       "      <th>1</th>\n",
       "      <td>Not Eligible</td>\n",
       "      <td>Eligible</td>\n",
       "      <td>Eligible</td>\n",
       "      <td>Not Eligible</td>\n",
       "      <td>Eligible</td>\n",
       "      <td>Eligible</td>\n",
       "      <td>Not Eligible</td>\n",
       "      <td>Not Eligible</td>\n",
       "      <td>Not Eligible</td>\n",
       "      <td>Not Eligible</td>\n",
       "      <td>Not Eligible</td>\n",
       "      <td>Eligible</td>\n",
       "    </tr>\n",
       "    <tr>\n",
       "      <th>2</th>\n",
       "      <td>Eligible</td>\n",
       "      <td>Eligible</td>\n",
       "      <td>Eligible</td>\n",
       "      <td>Eligible</td>\n",
       "      <td>Eligible</td>\n",
       "      <td>Eligible</td>\n",
       "      <td>Not Eligible</td>\n",
       "      <td>Not Eligible</td>\n",
       "      <td>Not Eligible</td>\n",
       "      <td>Not Eligible</td>\n",
       "      <td>Not Eligible</td>\n",
       "      <td>Not Eligible</td>\n",
       "    </tr>\n",
       "    <tr>\n",
       "      <th>3</th>\n",
       "      <td>Not Eligible</td>\n",
       "      <td>Not Eligible</td>\n",
       "      <td>Not Eligible</td>\n",
       "      <td>Not Eligible</td>\n",
       "      <td>Eligible</td>\n",
       "      <td>Not Eligible</td>\n",
       "      <td>Not Eligible</td>\n",
       "      <td>Eligible</td>\n",
       "      <td>Eligible</td>\n",
       "      <td>Eligible</td>\n",
       "      <td>Eligible</td>\n",
       "      <td>Not Eligible</td>\n",
       "    </tr>\n",
       "    <tr>\n",
       "      <th>4</th>\n",
       "      <td>Not Eligible</td>\n",
       "      <td>Not Eligible</td>\n",
       "      <td>Not Eligible</td>\n",
       "      <td>Eligible</td>\n",
       "      <td>Not Eligible</td>\n",
       "      <td>Not Eligible</td>\n",
       "      <td>Not Eligible</td>\n",
       "      <td>Eligible</td>\n",
       "      <td>Not Eligible</td>\n",
       "      <td>Eligible</td>\n",
       "      <td>Eligible</td>\n",
       "      <td>Eligible</td>\n",
       "    </tr>\n",
       "  </tbody>\n",
       "</table>\n",
       "</div>"
      ],
      "text/plain": [
       "            Jan           Feb           Mar           Apr           May  \\\n",
       "0  Not Eligible      Eligible      Eligible  Not Eligible  Not Eligible   \n",
       "1  Not Eligible      Eligible      Eligible  Not Eligible      Eligible   \n",
       "2      Eligible      Eligible      Eligible      Eligible      Eligible   \n",
       "3  Not Eligible  Not Eligible  Not Eligible  Not Eligible      Eligible   \n",
       "4  Not Eligible  Not Eligible  Not Eligible      Eligible  Not Eligible   \n",
       "\n",
       "            Jun          July           Aug           Sep           Oct  \\\n",
       "0  Not Eligible  Not Eligible      Eligible      Eligible      Eligible   \n",
       "1      Eligible  Not Eligible  Not Eligible  Not Eligible  Not Eligible   \n",
       "2      Eligible  Not Eligible  Not Eligible  Not Eligible  Not Eligible   \n",
       "3  Not Eligible  Not Eligible      Eligible      Eligible      Eligible   \n",
       "4  Not Eligible  Not Eligible      Eligible  Not Eligible      Eligible   \n",
       "\n",
       "            Nov           Dec  \n",
       "0  Not Eligible      Eligible  \n",
       "1  Not Eligible      Eligible  \n",
       "2  Not Eligible  Not Eligible  \n",
       "3      Eligible  Not Eligible  \n",
       "4      Eligible      Eligible  "
      ]
     },
     "execution_count": 62,
     "metadata": {},
     "output_type": "execute_result"
    }
   ],
   "source": [
    "store_sales.iloc[:,2:].apply(bonus_func).head()"
   ]
  },
  {
   "cell_type": "code",
   "execution_count": null,
   "metadata": {},
   "outputs": [
    {
     "data": {
      "text/html": [
       "<div>\n",
       "<style>\n",
       "    .dataframe thead tr:only-child th {\n",
       "        text-align: right;\n",
       "    }\n",
       "\n",
       "    .dataframe thead th {\n",
       "        text-align: left;\n",
       "    }\n",
       "\n",
       "    .dataframe tbody tr th {\n",
       "        vertical-align: top;\n",
       "    }\n",
       "</style>\n",
       "<table border=\"1\" class=\"dataframe\">\n",
       "  <thead>\n",
       "    <tr style=\"text-align: right;\">\n",
       "      <th></th>\n",
       "      <th>Jan</th>\n",
       "      <th>Feb</th>\n",
       "      <th>Mar</th>\n",
       "      <th>Apr</th>\n",
       "      <th>May</th>\n",
       "      <th>Jun</th>\n",
       "      <th>July</th>\n",
       "      <th>Aug</th>\n",
       "      <th>Sep</th>\n",
       "      <th>Oct</th>\n",
       "      <th>Nov</th>\n",
       "      <th>Dec</th>\n",
       "    </tr>\n",
       "  </thead>\n",
       "  <tbody>\n",
       "    <tr>\n",
       "      <th>0</th>\n",
       "      <td>Not Eligible</td>\n",
       "      <td>Eligible</td>\n",
       "      <td>Not Eligible</td>\n",
       "      <td>Eligible</td>\n",
       "      <td>Eligible</td>\n",
       "      <td>Eligible</td>\n",
       "      <td>Eligible</td>\n",
       "      <td>Eligible</td>\n",
       "      <td>Eligible</td>\n",
       "      <td>Not Eligible</td>\n",
       "      <td>Not Eligible</td>\n",
       "      <td>Not Eligible</td>\n",
       "    </tr>\n",
       "    <tr>\n",
       "      <th>1</th>\n",
       "      <td>Not Eligible</td>\n",
       "      <td>Eligible</td>\n",
       "      <td>Not Eligible</td>\n",
       "      <td>Not Eligible</td>\n",
       "      <td>Not Eligible</td>\n",
       "      <td>Eligible</td>\n",
       "      <td>Not Eligible</td>\n",
       "      <td>Not Eligible</td>\n",
       "      <td>Not Eligible</td>\n",
       "      <td>Not Eligible</td>\n",
       "      <td>Eligible</td>\n",
       "      <td>Eligible</td>\n",
       "    </tr>\n",
       "    <tr>\n",
       "      <th>2</th>\n",
       "      <td>Eligible</td>\n",
       "      <td>Eligible</td>\n",
       "      <td>Not Eligible</td>\n",
       "      <td>Eligible</td>\n",
       "      <td>Eligible</td>\n",
       "      <td>Not Eligible</td>\n",
       "      <td>Not Eligible</td>\n",
       "      <td>Not Eligible</td>\n",
       "      <td>Not Eligible</td>\n",
       "      <td>Not Eligible</td>\n",
       "      <td>Eligible</td>\n",
       "      <td>Not Eligible</td>\n",
       "    </tr>\n",
       "    <tr>\n",
       "      <th>3</th>\n",
       "      <td>Not Eligible</td>\n",
       "      <td>Eligible</td>\n",
       "      <td>Not Eligible</td>\n",
       "      <td>Not Eligible</td>\n",
       "      <td>Not Eligible</td>\n",
       "      <td>Not Eligible</td>\n",
       "      <td>Not Eligible</td>\n",
       "      <td>Not Eligible</td>\n",
       "      <td>Not Eligible</td>\n",
       "      <td>Eligible</td>\n",
       "      <td>Not Eligible</td>\n",
       "      <td>Not Eligible</td>\n",
       "    </tr>\n",
       "    <tr>\n",
       "      <th>4</th>\n",
       "      <td>Eligible</td>\n",
       "      <td>Not Eligible</td>\n",
       "      <td>Eligible</td>\n",
       "      <td>Not Eligible</td>\n",
       "      <td>Not Eligible</td>\n",
       "      <td>Eligible</td>\n",
       "      <td>Not Eligible</td>\n",
       "      <td>Not Eligible</td>\n",
       "      <td>Eligible</td>\n",
       "      <td>Not Eligible</td>\n",
       "      <td>Not Eligible</td>\n",
       "      <td>Not Eligible</td>\n",
       "    </tr>\n",
       "  </tbody>\n",
       "</table>\n",
       "</div>"
      ],
      "text/plain": [
       "            Jan           Feb           Mar           Apr           May  \\\n",
       "0  Not Eligible      Eligible  Not Eligible      Eligible      Eligible   \n",
       "1  Not Eligible      Eligible  Not Eligible  Not Eligible  Not Eligible   \n",
       "2      Eligible      Eligible  Not Eligible      Eligible      Eligible   \n",
       "3  Not Eligible      Eligible  Not Eligible  Not Eligible  Not Eligible   \n",
       "4      Eligible  Not Eligible      Eligible  Not Eligible  Not Eligible   \n",
       "\n",
       "            Jun          July           Aug           Sep           Oct  \\\n",
       "0      Eligible      Eligible      Eligible      Eligible  Not Eligible   \n",
       "1      Eligible  Not Eligible  Not Eligible  Not Eligible  Not Eligible   \n",
       "2  Not Eligible  Not Eligible  Not Eligible  Not Eligible  Not Eligible   \n",
       "3  Not Eligible  Not Eligible  Not Eligible  Not Eligible      Eligible   \n",
       "4      Eligible  Not Eligible  Not Eligible      Eligible  Not Eligible   \n",
       "\n",
       "            Nov           Dec  \n",
       "0  Not Eligible  Not Eligible  \n",
       "1      Eligible      Eligible  \n",
       "2      Eligible  Not Eligible  \n",
       "3  Not Eligible  Not Eligible  \n",
       "4  Not Eligible  Not Eligible  "
      ]
     },
     "execution_count": 47,
     "metadata": {},
     "output_type": "execute_result"
    }
   ],
   "source": [
    "store_sales.iloc[:,2:].apply(lambda sales_numbers: [\"Eligible\" if x > 15 else \"Not Eligible\" for x in sales_numbers]).head()"
   ]
  },
  {
   "cell_type": "code",
   "execution_count": null,
   "metadata": {},
   "outputs": [
    {
     "data": {
      "text/plain": [
       "Index(['store_id', 'city', 'Jan', 'Feb', 'Mar', 'Apr', 'May', 'Jun', 'July',\n",
       "       'Aug', 'Sep', 'Oct', 'Nov', 'Dec'],\n",
       "      dtype='object')"
      ]
     },
     "execution_count": 48,
     "metadata": {},
     "output_type": "execute_result"
    }
   ],
   "source": [
    "store_sales.columns"
   ]
  },
  {
   "cell_type": "code",
   "execution_count": null,
   "metadata": {},
   "outputs": [
    {
     "data": {
      "text/html": [
       "<div>\n",
       "<style>\n",
       "    .dataframe thead tr:only-child th {\n",
       "        text-align: right;\n",
       "    }\n",
       "\n",
       "    .dataframe thead th {\n",
       "        text-align: left;\n",
       "    }\n",
       "\n",
       "    .dataframe tbody tr th {\n",
       "        vertical-align: top;\n",
       "    }\n",
       "</style>\n",
       "<table border=\"1\" class=\"dataframe\">\n",
       "  <thead>\n",
       "    <tr style=\"text-align: right;\">\n",
       "      <th></th>\n",
       "      <th>Jan</th>\n",
       "      <th>Feb</th>\n",
       "      <th>Mar</th>\n",
       "      <th>Apr</th>\n",
       "      <th>May</th>\n",
       "      <th>Jun</th>\n",
       "      <th>July</th>\n",
       "      <th>Aug</th>\n",
       "      <th>Sep</th>\n",
       "      <th>Oct</th>\n",
       "      <th>Nov</th>\n",
       "      <th>Dec</th>\n",
       "    </tr>\n",
       "    <tr>\n",
       "      <th>city</th>\n",
       "      <th></th>\n",
       "      <th></th>\n",
       "      <th></th>\n",
       "      <th></th>\n",
       "      <th></th>\n",
       "      <th></th>\n",
       "      <th></th>\n",
       "      <th></th>\n",
       "      <th></th>\n",
       "      <th></th>\n",
       "      <th></th>\n",
       "      <th></th>\n",
       "    </tr>\n",
       "  </thead>\n",
       "  <tbody>\n",
       "    <tr>\n",
       "      <th>Arizona</th>\n",
       "      <td>15.500000</td>\n",
       "      <td>15.272727</td>\n",
       "      <td>14.545455</td>\n",
       "      <td>14.954545</td>\n",
       "      <td>14.090909</td>\n",
       "      <td>15.090909</td>\n",
       "      <td>14.636364</td>\n",
       "      <td>15.500000</td>\n",
       "      <td>15.318182</td>\n",
       "      <td>14.954545</td>\n",
       "      <td>16.409091</td>\n",
       "      <td>13.318182</td>\n",
       "    </tr>\n",
       "    <tr>\n",
       "      <th>California</th>\n",
       "      <td>14.744186</td>\n",
       "      <td>15.534884</td>\n",
       "      <td>14.627907</td>\n",
       "      <td>13.976744</td>\n",
       "      <td>13.255814</td>\n",
       "      <td>13.697674</td>\n",
       "      <td>14.813953</td>\n",
       "      <td>16.232558</td>\n",
       "      <td>14.883721</td>\n",
       "      <td>14.279070</td>\n",
       "      <td>15.279070</td>\n",
       "      <td>13.604651</td>\n",
       "    </tr>\n",
       "    <tr>\n",
       "      <th>Texas</th>\n",
       "      <td>13.457143</td>\n",
       "      <td>14.428571</td>\n",
       "      <td>14.485714</td>\n",
       "      <td>15.057143</td>\n",
       "      <td>13.600000</td>\n",
       "      <td>13.114286</td>\n",
       "      <td>13.685714</td>\n",
       "      <td>15.485714</td>\n",
       "      <td>14.685714</td>\n",
       "      <td>13.342857</td>\n",
       "      <td>14.657143</td>\n",
       "      <td>13.685714</td>\n",
       "    </tr>\n",
       "  </tbody>\n",
       "</table>\n",
       "</div>"
      ],
      "text/plain": [
       "                  Jan        Feb        Mar        Apr        May        Jun  \\\n",
       "city                                                                           \n",
       "Arizona     15.500000  15.272727  14.545455  14.954545  14.090909  15.090909   \n",
       "California  14.744186  15.534884  14.627907  13.976744  13.255814  13.697674   \n",
       "Texas       13.457143  14.428571  14.485714  15.057143  13.600000  13.114286   \n",
       "\n",
       "                 July        Aug        Sep        Oct        Nov        Dec  \n",
       "city                                                                          \n",
       "Arizona     14.636364  15.500000  15.318182  14.954545  16.409091  13.318182  \n",
       "California  14.813953  16.232558  14.883721  14.279070  15.279070  13.604651  \n",
       "Texas       13.685714  15.485714  14.685714  13.342857  14.657143  13.685714  "
      ]
     },
     "execution_count": 49,
     "metadata": {},
     "output_type": "execute_result"
    }
   ],
   "source": [
    "store_sales.groupby(\"city\").agg(\"mean\")"
   ]
  },
  {
   "cell_type": "markdown",
   "metadata": {
    "collapsed": true
   },
   "source": [
    "### Assignments\n",
    "\n",
    "1) Find mean quarterly sales by store\n",
    "\n",
    "2) Find the month with highest sales for each store\n"
   ]
  },
  {
   "cell_type": "markdown",
   "metadata": {},
   "source": [
    "## Other/Miscellaneous topics"
   ]
  },
  {
   "cell_type": "markdown",
   "metadata": {},
   "source": [
    "### Missing value treatment\n"
   ]
  },
  {
   "cell_type": "code",
   "execution_count": null,
   "metadata": {},
   "outputs": [
    {
     "data": {
      "text/plain": [
       "START_DATE*      0\n",
       "END_DATE*        0\n",
       "CATEGORY*        0\n",
       "START*           0\n",
       "STOP*            0\n",
       "MILES*           0\n",
       "PURPOSE*       502\n",
       "dtype: int64"
      ]
     },
     "execution_count": 68,
     "metadata": {},
     "output_type": "execute_result"
    }
   ],
   "source": [
    "df.isnull().sum()"
   ]
  },
  {
   "cell_type": "code",
   "execution_count": null,
   "metadata": {},
   "outputs": [
    {
     "data": {
      "text/plain": [
       "START_DATE*      0\n",
       "END_DATE*        0\n",
       "CATEGORY*        0\n",
       "START*           0\n",
       "STOP*            0\n",
       "MILES*           0\n",
       "PURPOSE*       502\n",
       "dtype: int64"
      ]
     },
     "execution_count": 66,
     "metadata": {},
     "output_type": "execute_result"
    }
   ],
   "source": [
    "## Count missing values\n",
    "df.isnull().sum()"
   ]
  },
  {
   "cell_type": "code",
   "execution_count": null,
   "metadata": {
    "collapsed": true
   },
   "outputs": [],
   "source": [
    "# Fill NA with most common values\n",
    "df[\"PURPOSE*\"].value_counts()"
   ]
  },
  {
   "cell_type": "code",
   "execution_count": null,
   "metadata": {
    "collapsed": true
   },
   "outputs": [],
   "source": [
    "df = df.fillna({\"PURPOSE*\":\"Meeting\"})"
   ]
  },
  {
   "cell_type": "code",
   "execution_count": null,
   "metadata": {
    "collapsed": true
   },
   "outputs": [],
   "source": [
    "df[\"PURPOSE*\"].value_counts()"
   ]
  },
  {
   "cell_type": "markdown",
   "metadata": {},
   "source": [
    "### Matrix operations use case"
   ]
  },
  {
   "cell_type": "markdown",
   "metadata": {},
   "source": [
    "### Example 1 - compute month on month growth in sales"
   ]
  },
  {
   "cell_type": "code",
   "execution_count": null,
   "metadata": {},
   "outputs": [
    {
     "data": {
      "text/html": [
       "<div>\n",
       "<style>\n",
       "    .dataframe thead tr:only-child th {\n",
       "        text-align: right;\n",
       "    }\n",
       "\n",
       "    .dataframe thead th {\n",
       "        text-align: left;\n",
       "    }\n",
       "\n",
       "    .dataframe tbody tr th {\n",
       "        vertical-align: top;\n",
       "    }\n",
       "</style>\n",
       "<table border=\"1\" class=\"dataframe\">\n",
       "  <thead>\n",
       "    <tr style=\"text-align: right;\">\n",
       "      <th></th>\n",
       "      <th>store_id</th>\n",
       "      <th>city</th>\n",
       "      <th>Jan</th>\n",
       "      <th>Feb</th>\n",
       "      <th>Mar</th>\n",
       "      <th>Apr</th>\n",
       "      <th>May</th>\n",
       "      <th>Jun</th>\n",
       "      <th>July</th>\n",
       "      <th>Aug</th>\n",
       "      <th>Sep</th>\n",
       "      <th>Oct</th>\n",
       "      <th>Nov</th>\n",
       "      <th>Dec</th>\n",
       "    </tr>\n",
       "  </thead>\n",
       "  <tbody>\n",
       "    <tr>\n",
       "      <th>0</th>\n",
       "      <td>S_1</td>\n",
       "      <td>Texas</td>\n",
       "      <td>13</td>\n",
       "      <td>19</td>\n",
       "      <td>17</td>\n",
       "      <td>10</td>\n",
       "      <td>11</td>\n",
       "      <td>8</td>\n",
       "      <td>5</td>\n",
       "      <td>20</td>\n",
       "      <td>22</td>\n",
       "      <td>22</td>\n",
       "      <td>5</td>\n",
       "      <td>18</td>\n",
       "    </tr>\n",
       "    <tr>\n",
       "      <th>1</th>\n",
       "      <td>S_2</td>\n",
       "      <td>California</td>\n",
       "      <td>5</td>\n",
       "      <td>16</td>\n",
       "      <td>21</td>\n",
       "      <td>6</td>\n",
       "      <td>20</td>\n",
       "      <td>17</td>\n",
       "      <td>13</td>\n",
       "      <td>9</td>\n",
       "      <td>5</td>\n",
       "      <td>12</td>\n",
       "      <td>15</td>\n",
       "      <td>16</td>\n",
       "    </tr>\n",
       "    <tr>\n",
       "      <th>2</th>\n",
       "      <td>S_3</td>\n",
       "      <td>Texas</td>\n",
       "      <td>18</td>\n",
       "      <td>20</td>\n",
       "      <td>20</td>\n",
       "      <td>19</td>\n",
       "      <td>17</td>\n",
       "      <td>23</td>\n",
       "      <td>9</td>\n",
       "      <td>9</td>\n",
       "      <td>13</td>\n",
       "      <td>7</td>\n",
       "      <td>10</td>\n",
       "      <td>6</td>\n",
       "    </tr>\n",
       "    <tr>\n",
       "      <th>3</th>\n",
       "      <td>S_4</td>\n",
       "      <td>Texas</td>\n",
       "      <td>15</td>\n",
       "      <td>10</td>\n",
       "      <td>8</td>\n",
       "      <td>13</td>\n",
       "      <td>22</td>\n",
       "      <td>10</td>\n",
       "      <td>10</td>\n",
       "      <td>21</td>\n",
       "      <td>21</td>\n",
       "      <td>18</td>\n",
       "      <td>17</td>\n",
       "      <td>15</td>\n",
       "    </tr>\n",
       "    <tr>\n",
       "      <th>4</th>\n",
       "      <td>S_5</td>\n",
       "      <td>Texas</td>\n",
       "      <td>15</td>\n",
       "      <td>13</td>\n",
       "      <td>10</td>\n",
       "      <td>18</td>\n",
       "      <td>10</td>\n",
       "      <td>15</td>\n",
       "      <td>13</td>\n",
       "      <td>18</td>\n",
       "      <td>15</td>\n",
       "      <td>21</td>\n",
       "      <td>24</td>\n",
       "      <td>19</td>\n",
       "    </tr>\n",
       "  </tbody>\n",
       "</table>\n",
       "</div>"
      ],
      "text/plain": [
       "  store_id        city  Jan  Feb  Mar  Apr  May  Jun  July  Aug  Sep  Oct  \\\n",
       "0      S_1       Texas   13   19   17   10   11    8     5   20   22   22   \n",
       "1      S_2  California    5   16   21    6   20   17    13    9    5   12   \n",
       "2      S_3       Texas   18   20   20   19   17   23     9    9   13    7   \n",
       "3      S_4       Texas   15   10    8   13   22   10    10   21   21   18   \n",
       "4      S_5       Texas   15   13   10   18   10   15    13   18   15   21   \n",
       "\n",
       "   Nov  Dec  \n",
       "0    5   18  \n",
       "1   15   16  \n",
       "2   10    6  \n",
       "3   17   15  \n",
       "4   24   19  "
      ]
     },
     "execution_count": 71,
     "metadata": {},
     "output_type": "execute_result"
    }
   ],
   "source": [
    "store_sales.head()"
   ]
  },
  {
   "cell_type": "code",
   "execution_count": null,
   "metadata": {
    "collapsed": true
   },
   "outputs": [],
   "source": [
    "sales_mat = np.array(store_sales.iloc[:,2:])"
   ]
  },
  {
   "cell_type": "code",
   "execution_count": null,
   "metadata": {},
   "outputs": [
    {
     "data": {
      "text/plain": [
       "array([[13, 19, 17, ..., 22,  5, 18],\n",
       "       [ 5, 16, 21, ..., 12, 15, 16],\n",
       "       [18, 20, 20, ...,  7, 10,  6],\n",
       "       ..., \n",
       "       [ 6, 21, 19, ...,  7, 17, 22],\n",
       "       [23, 16, 22, ...,  7, 24, 13],\n",
       "       [14,  5, 16, ...,  6, 22, 15]])"
      ]
     },
     "execution_count": 73,
     "metadata": {},
     "output_type": "execute_result"
    }
   ],
   "source": [
    "sales_mat"
   ]
  },
  {
   "cell_type": "code",
   "execution_count": null,
   "metadata": {},
   "outputs": [
    {
     "data": {
      "text/plain": [
       "array([[19, 17, 10, ..., 22,  5, 18],\n",
       "       [16, 21,  6, ..., 12, 15, 16],\n",
       "       [20, 20, 19, ...,  7, 10,  6],\n",
       "       ..., \n",
       "       [21, 19, 21, ...,  7, 17, 22],\n",
       "       [16, 22,  8, ...,  7, 24, 13],\n",
       "       [ 5, 16,  9, ...,  6, 22, 15]])"
      ]
     },
     "execution_count": 74,
     "metadata": {},
     "output_type": "execute_result"
    }
   ],
   "source": [
    "sales_mat_lag = sales_mat[:,1:]\n",
    "sales_mat_lag"
   ]
  },
  {
   "cell_type": "code",
   "execution_count": null,
   "metadata": {
    "collapsed": true
   },
   "outputs": [],
   "source": [
    "sales_mat_lag = sales_mat[:,1:]\n",
    "sales_mat_lag = np.c_[sales_mat_lag,np.zeros(100)]"
   ]
  },
  {
   "cell_type": "code",
   "execution_count": null,
   "metadata": {
    "collapsed": true
   },
   "outputs": [],
   "source": [
    "sales_diff = sales_mat_lag - sales_mat"
   ]
  },
  {
   "cell_type": "code",
   "execution_count": null,
   "metadata": {
    "collapsed": true
   },
   "outputs": [],
   "source": [
    "perct_change = pd.DataFrame(sales_diff/sales_mat)"
   ]
  },
  {
   "cell_type": "code",
   "execution_count": null,
   "metadata": {
    "collapsed": true
   },
   "outputs": [],
   "source": [
    "perct_change.head()"
   ]
  },
  {
   "cell_type": "markdown",
   "metadata": {},
   "source": [
    "### Example 1 - compute net revenue"
   ]
  },
  {
   "cell_type": "code",
   "execution_count": null,
   "metadata": {
    "collapsed": true
   },
   "outputs": [],
   "source": [
    "profit_mat = np.random.uniform(low=0.05, high=0.25, size=(100,12))"
   ]
  },
  {
   "cell_type": "code",
   "execution_count": null,
   "metadata": {
    "collapsed": true
   },
   "outputs": [],
   "source": [
    "## Find total annual profit for each store\n",
    "profit_mat = profit_mat.transpose()"
   ]
  },
  {
   "cell_type": "code",
   "execution_count": null,
   "metadata": {
    "collapsed": true
   },
   "outputs": [],
   "source": [
    "profit_mat.shape"
   ]
  },
  {
   "cell_type": "code",
   "execution_count": null,
   "metadata": {
    "collapsed": true
   },
   "outputs": [],
   "source": [
    "prof_matrix = np.dot(sales_mat,profit_mat)"
   ]
  },
  {
   "cell_type": "code",
   "execution_count": null,
   "metadata": {
    "collapsed": true
   },
   "outputs": [],
   "source": [
    "prof_matrix.shape"
   ]
  }
 ],
 "metadata": {
  "kernelspec": {
   "display_name": "Python 3",
   "language": "python",
   "name": "python3"
  },
  "language_info": {
   "codemirror_mode": {
    "name": "ipython",
    "version": 3
   },
   "file_extension": ".py",
   "mimetype": "text/x-python",
   "name": "python",
   "nbconvert_exporter": "python",
   "pygments_lexer": "ipython3",
   "version": "3.12.7"
  }
 },
 "nbformat": 4,
 "nbformat_minor": 2
}
